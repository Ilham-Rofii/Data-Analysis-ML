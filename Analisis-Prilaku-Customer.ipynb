{
 "cells": [
  {
   "cell_type": "markdown",
   "id": "c41e9a16",
   "metadata": {
    "id": "c41e9a16"
   },
   "source": [
    "# Analisis Produk Terlaris dari Data Perilaku Customer Toko Online"
   ]
  },
  {
   "cell_type": "markdown",
   "id": "3110595e",
   "metadata": {
    "id": "3110595e"
   },
   "source": [
    "# Overview"
   ]
  },
  {
   "cell_type": "markdown",
   "id": "9cca412c",
   "metadata": {
    "id": "9cca412c"
   },
   "source": [
    "Salah satu informasi yang bisa didapat dari data penjualan toko online adalah data perilaku customer. Project machine learning ini bertujuan untuk memprediksi apakah seorang customer toko online akan membeli suatu barang atau tidak menggunakan data perilaku customer dari toko online tersebut. Selain machine learning, akan dianalisis juga informasi penting lain, misalnya seperti apa produk yang laris dijual berdasarkan perilaku pembelinya di toko online. Hasil analisis project machine learning ini diharapkan nantinya bisa membantu penjual di toko online, distributor barang, atau pihak-pihak berkepentingan lain untuk mengambil keputusan tentang penjualan suatu barang berdasarkan data perilaku customer barang tersebut."
   ]
  },
  {
   "cell_type": "markdown",
   "id": "21dada93",
   "metadata": {
    "id": "21dada93"
   },
   "source": [
    "# Dataset"
   ]
  },
  {
   "cell_type": "markdown",
   "id": "e29b20e0",
   "metadata": {
    "id": "e29b20e0"
   },
   "source": [
    "Data yang digunakan dalam project ini adalah data perilaku customer selama 5 bulan dari bulan oktober 2019 sampai bulan februari 2020 yang dikumpulkan oleh [Open CDP](https://rees46.com/en/open-cdp) dari salah toko elektronik online. Data ini bisa di download dari website kaggle di [link berikut](https://www.kaggle.com/datasets/mkechinov/ecommerce-events-history-in-electronics-store?resource=download). Ada 885129 baris dan 9 kolom dengan deskripsi tiap kolom-kolom yang ada dalam data adalah sebagai berikut:\n",
    "1. event_time: waktu tiap terjadinya event/perilaku dalam UTC.\n",
    "2. event_type: perilaku yang dilakukan, ada 3 jenis yaitu view, cart, dan purchase.\n",
    "3. product_id: ID dari produk.\n",
    "4. category_id: ID untuk kategori produk.\n",
    "5. category_code: Kategori produk.\n",
    "6. brand: nama brand produk.\n",
    "7. price: harga produk.\n",
    "8. user_id: ID permanen pengguna.\n",
    "9. user_session: ID pengguna tiap yang berubah tiap sesi."
   ]
  },
  {
   "cell_type": "markdown",
   "id": "ad1c0acf",
   "metadata": {
    "id": "ad1c0acf"
   },
   "source": [
    "# Exploratory Data Analysis"
   ]
  },
  {
   "cell_type": "code",
   "execution_count": 4,
   "id": "960bc0f3",
   "metadata": {
    "id": "960bc0f3"
   },
   "outputs": [],
   "source": [
    "import pandas as pd\n",
    "import numpy as np\n",
    "import matplotlib.pyplot as plt\n",
    "import seaborn as sns"
   ]
  },
  {
   "cell_type": "code",
   "execution_count": 2,
   "id": "22ca8b78",
   "metadata": {
    "id": "22ca8b78",
    "outputId": "e1d88a71-8425-4bb1-d8bb-1cfbe40fba67"
   },
   "outputs": [
    {
     "data": {
      "text/html": [
       "<div>\n",
       "<style scoped>\n",
       "    .dataframe tbody tr th:only-of-type {\n",
       "        vertical-align: middle;\n",
       "    }\n",
       "\n",
       "    .dataframe tbody tr th {\n",
       "        vertical-align: top;\n",
       "    }\n",
       "\n",
       "    .dataframe thead th {\n",
       "        text-align: right;\n",
       "    }\n",
       "</style>\n",
       "<table border=\"1\" class=\"dataframe\">\n",
       "  <thead>\n",
       "    <tr style=\"text-align: right;\">\n",
       "      <th></th>\n",
       "      <th>event_time</th>\n",
       "      <th>event_type</th>\n",
       "      <th>product_id</th>\n",
       "      <th>category_id</th>\n",
       "      <th>category_code</th>\n",
       "      <th>brand</th>\n",
       "      <th>price</th>\n",
       "      <th>user_id</th>\n",
       "      <th>user_session</th>\n",
       "    </tr>\n",
       "  </thead>\n",
       "  <tbody>\n",
       "    <tr>\n",
       "      <th>0</th>\n",
       "      <td>2020-09-24 11:57:06 UTC</td>\n",
       "      <td>view</td>\n",
       "      <td>1996170</td>\n",
       "      <td>2144415922528452715</td>\n",
       "      <td>electronics.telephone</td>\n",
       "      <td>NaN</td>\n",
       "      <td>31.90</td>\n",
       "      <td>1515915625519388267</td>\n",
       "      <td>LJuJVLEjPT</td>\n",
       "    </tr>\n",
       "    <tr>\n",
       "      <th>1</th>\n",
       "      <td>2020-09-24 11:57:26 UTC</td>\n",
       "      <td>view</td>\n",
       "      <td>139905</td>\n",
       "      <td>2144415926932472027</td>\n",
       "      <td>computers.components.cooler</td>\n",
       "      <td>zalman</td>\n",
       "      <td>17.16</td>\n",
       "      <td>1515915625519380411</td>\n",
       "      <td>tdicluNnRY</td>\n",
       "    </tr>\n",
       "    <tr>\n",
       "      <th>2</th>\n",
       "      <td>2020-09-24 11:57:27 UTC</td>\n",
       "      <td>view</td>\n",
       "      <td>215454</td>\n",
       "      <td>2144415927158964449</td>\n",
       "      <td>NaN</td>\n",
       "      <td>NaN</td>\n",
       "      <td>9.81</td>\n",
       "      <td>1515915625513238515</td>\n",
       "      <td>4TMArHtXQy</td>\n",
       "    </tr>\n",
       "  </tbody>\n",
       "</table>\n",
       "</div>"
      ],
      "text/plain": [
       "                event_time event_type  product_id          category_id  \\\n",
       "0  2020-09-24 11:57:06 UTC       view     1996170  2144415922528452715   \n",
       "1  2020-09-24 11:57:26 UTC       view      139905  2144415926932472027   \n",
       "2  2020-09-24 11:57:27 UTC       view      215454  2144415927158964449   \n",
       "\n",
       "                 category_code   brand  price              user_id  \\\n",
       "0        electronics.telephone     NaN  31.90  1515915625519388267   \n",
       "1  computers.components.cooler  zalman  17.16  1515915625519380411   \n",
       "2                          NaN     NaN   9.81  1515915625513238515   \n",
       "\n",
       "  user_session  \n",
       "0   LJuJVLEjPT  \n",
       "1   tdicluNnRY  \n",
       "2   4TMArHtXQy  "
      ]
     },
     "execution_count": 2,
     "metadata": {},
     "output_type": "execute_result"
    }
   ],
   "source": [
    "# membaca data yang akan dianalisis\n",
    "data=pd.read_csv('events.csv')\n",
    "data.head(3)"
   ]
  },
  {
   "cell_type": "code",
   "execution_count": 3,
   "id": "f990c004",
   "metadata": {
    "id": "f990c004",
    "outputId": "f25734a4-71ef-4bc7-d2ca-2b4804a53435"
   },
   "outputs": [
    {
     "data": {
      "text/plain": [
       "655"
      ]
     },
     "execution_count": 3,
     "metadata": {},
     "output_type": "execute_result"
    }
   ],
   "source": [
    "# melihat apakah ada duplicated data\n",
    "data.duplicated().sum()"
   ]
  },
  {
   "cell_type": "code",
   "execution_count": 4,
   "id": "b9a58d2e",
   "metadata": {
    "id": "b9a58d2e"
   },
   "outputs": [],
   "source": [
    "# menghapus duplicated data\n",
    "data.drop_duplicates(inplace=True)"
   ]
  },
  {
   "cell_type": "code",
   "execution_count": 5,
   "id": "e1081308",
   "metadata": {
    "id": "e1081308",
    "outputId": "588b290b-9ffc-4b93-f528-29c6f9808622"
   },
   "outputs": [
    {
     "data": {
      "text/html": [
       "<div>\n",
       "<style scoped>\n",
       "    .dataframe tbody tr th:only-of-type {\n",
       "        vertical-align: middle;\n",
       "    }\n",
       "\n",
       "    .dataframe tbody tr th {\n",
       "        vertical-align: top;\n",
       "    }\n",
       "\n",
       "    .dataframe thead th {\n",
       "        text-align: right;\n",
       "    }\n",
       "</style>\n",
       "<table border=\"1\" class=\"dataframe\">\n",
       "  <thead>\n",
       "    <tr style=\"text-align: right;\">\n",
       "      <th></th>\n",
       "      <th>user_id</th>\n",
       "      <th>user_session</th>\n",
       "      <th>product_id</th>\n",
       "      <th>category_code</th>\n",
       "      <th>price</th>\n",
       "      <th>brand</th>\n",
       "      <th>event_type</th>\n",
       "      <th>event_time</th>\n",
       "    </tr>\n",
       "  </thead>\n",
       "  <tbody>\n",
       "    <tr>\n",
       "      <th>0</th>\n",
       "      <td>1515915625519388267</td>\n",
       "      <td>LJuJVLEjPT</td>\n",
       "      <td>1996170</td>\n",
       "      <td>electronics.telephone</td>\n",
       "      <td>31.90</td>\n",
       "      <td>NaN</td>\n",
       "      <td>view</td>\n",
       "      <td>2020-09-24 11:57:06 UTC</td>\n",
       "    </tr>\n",
       "    <tr>\n",
       "      <th>1</th>\n",
       "      <td>1515915625519380411</td>\n",
       "      <td>tdicluNnRY</td>\n",
       "      <td>139905</td>\n",
       "      <td>computers.components.cooler</td>\n",
       "      <td>17.16</td>\n",
       "      <td>zalman</td>\n",
       "      <td>view</td>\n",
       "      <td>2020-09-24 11:57:26 UTC</td>\n",
       "    </tr>\n",
       "    <tr>\n",
       "      <th>2</th>\n",
       "      <td>1515915625513238515</td>\n",
       "      <td>4TMArHtXQy</td>\n",
       "      <td>215454</td>\n",
       "      <td>NaN</td>\n",
       "      <td>9.81</td>\n",
       "      <td>NaN</td>\n",
       "      <td>view</td>\n",
       "      <td>2020-09-24 11:57:27 UTC</td>\n",
       "    </tr>\n",
       "  </tbody>\n",
       "</table>\n",
       "</div>"
      ],
      "text/plain": [
       "               user_id user_session  product_id                category_code  \\\n",
       "0  1515915625519388267   LJuJVLEjPT     1996170        electronics.telephone   \n",
       "1  1515915625519380411   tdicluNnRY      139905  computers.components.cooler   \n",
       "2  1515915625513238515   4TMArHtXQy      215454                          NaN   \n",
       "\n",
       "   price   brand event_type               event_time  \n",
       "0  31.90     NaN       view  2020-09-24 11:57:06 UTC  \n",
       "1  17.16  zalman       view  2020-09-24 11:57:26 UTC  \n",
       "2   9.81     NaN       view  2020-09-24 11:57:27 UTC  "
      ]
     },
     "execution_count": 5,
     "metadata": {},
     "output_type": "execute_result"
    }
   ],
   "source": [
    "# mengatur urutan data agar lebih rapi\n",
    "data=data[['user_id','user_session','product_id','category_code','price','brand','event_type','event_time']]\n",
    "data.head(3)"
   ]
  },
  {
   "cell_type": "code",
   "execution_count": 6,
   "id": "d4812007",
   "metadata": {},
   "outputs": [
    {
     "data": {
      "text/plain": [
       "user_id               0\n",
       "user_session        162\n",
       "product_id            0\n",
       "category_code    236047\n",
       "price                 0\n",
       "brand            212232\n",
       "event_type            0\n",
       "event_time            0\n",
       "dtype: int64"
      ]
     },
     "execution_count": 6,
     "metadata": {},
     "output_type": "execute_result"
    }
   ],
   "source": [
    "# melihat missing value\n",
    "data.isna().sum()"
   ]
  },
  {
   "cell_type": "code",
   "execution_count": 7,
   "id": "977daea7",
   "metadata": {},
   "outputs": [],
   "source": [
    "# mengisi missing value kolom brand\n",
    "data['brand'].fillna('No Brand',inplace=True)"
   ]
  },
  {
   "cell_type": "code",
   "execution_count": 8,
   "id": "2226a075",
   "metadata": {},
   "outputs": [],
   "source": [
    "# mengisi missing value kolom category_code\n",
    "data['category_code']=data['category_code'].fillna('No_Category.No_Category.No_Category')"
   ]
  },
  {
   "cell_type": "code",
   "execution_count": 9,
   "id": "83231e61",
   "metadata": {},
   "outputs": [],
   "source": [
    "# mengisi missing value kolom user_session\n",
    "data['user_session'].fillna('No_User_Session',inplace=True)"
   ]
  },
  {
   "cell_type": "markdown",
   "id": "7b8a3039",
   "metadata": {
    "id": "7b8a3039"
   },
   "source": [
    "## Analisis kolom <mark>category_code</mark> level dasar"
   ]
  },
  {
   "cell_type": "code",
   "execution_count": 10,
   "id": "09e9d4eb",
   "metadata": {
    "id": "09e9d4eb",
    "outputId": "cc8d4873-c7bc-4ab5-bf37-f372bffc0853"
   },
   "outputs": [
    {
     "data": {
      "text/html": [
       "<div>\n",
       "<style scoped>\n",
       "    .dataframe tbody tr th:only-of-type {\n",
       "        vertical-align: middle;\n",
       "    }\n",
       "\n",
       "    .dataframe tbody tr th {\n",
       "        vertical-align: top;\n",
       "    }\n",
       "\n",
       "    .dataframe thead th {\n",
       "        text-align: right;\n",
       "    }\n",
       "</style>\n",
       "<table border=\"1\" class=\"dataframe\">\n",
       "  <thead>\n",
       "    <tr style=\"text-align: right;\">\n",
       "      <th></th>\n",
       "      <th>user_id</th>\n",
       "      <th>user_session</th>\n",
       "      <th>product_id</th>\n",
       "      <th>category_code</th>\n",
       "      <th>price</th>\n",
       "      <th>brand</th>\n",
       "      <th>event_type</th>\n",
       "      <th>event_time</th>\n",
       "    </tr>\n",
       "  </thead>\n",
       "  <tbody>\n",
       "    <tr>\n",
       "      <th>0</th>\n",
       "      <td>1515915625519390468</td>\n",
       "      <td>xn6SHCnZtk</td>\n",
       "      <td>1507291</td>\n",
       "      <td>computers.components.power_supply</td>\n",
       "      <td>217.57</td>\n",
       "      <td>supermicro</td>\n",
       "      <td>purchase</td>\n",
       "      <td>2020-09-24 12:04:10 UTC</td>\n",
       "    </tr>\n",
       "    <tr>\n",
       "      <th>1</th>\n",
       "      <td>1515915625513574486</td>\n",
       "      <td>2gngxS29Ts</td>\n",
       "      <td>822426</td>\n",
       "      <td>computers.peripherals.camera</td>\n",
       "      <td>123.35</td>\n",
       "      <td>logitech</td>\n",
       "      <td>purchase</td>\n",
       "      <td>2020-09-24 12:15:06 UTC</td>\n",
       "    </tr>\n",
       "    <tr>\n",
       "      <th>2</th>\n",
       "      <td>1515915625518130982</td>\n",
       "      <td>3yFCkx2KKW</td>\n",
       "      <td>4060928</td>\n",
       "      <td>electronics.video.tv</td>\n",
       "      <td>89.22</td>\n",
       "      <td>No Brand</td>\n",
       "      <td>purchase</td>\n",
       "      <td>2020-09-24 12:19:01 UTC</td>\n",
       "    </tr>\n",
       "  </tbody>\n",
       "</table>\n",
       "</div>"
      ],
      "text/plain": [
       "               user_id user_session  product_id  \\\n",
       "0  1515915625519390468   xn6SHCnZtk     1507291   \n",
       "1  1515915625513574486   2gngxS29Ts      822426   \n",
       "2  1515915625518130982   3yFCkx2KKW     4060928   \n",
       "\n",
       "                       category_code   price       brand event_type  \\\n",
       "0  computers.components.power_supply  217.57  supermicro   purchase   \n",
       "1       computers.peripherals.camera  123.35    logitech   purchase   \n",
       "2               electronics.video.tv   89.22    No Brand   purchase   \n",
       "\n",
       "                event_time  \n",
       "0  2020-09-24 12:04:10 UTC  \n",
       "1  2020-09-24 12:15:06 UTC  \n",
       "2  2020-09-24 12:19:01 UTC  "
      ]
     },
     "execution_count": 10,
     "metadata": {},
     "output_type": "execute_result"
    }
   ],
   "source": [
    "# persiapkan data_category1 yang akan di analisis\n",
    "data_category1=data.copy()\n",
    "data_category1=data_category1[data_category1['event_type']=='purchase'].reset_index(drop=True)\n",
    "data_category1.head(3)"
   ]
  },
  {
   "cell_type": "code",
   "execution_count": 11,
   "id": "a7c60d94",
   "metadata": {
    "id": "a7c60d94",
    "outputId": "91ded2ea-5012-4d11-dae9-69679e73b4c2"
   },
   "outputs": [
    {
     "data": {
      "text/plain": [
       "0"
      ]
     },
     "execution_count": 11,
     "metadata": {},
     "output_type": "execute_result"
    }
   ],
   "source": [
    "# melihat apakah ada data kolom event_time yang missing value\n",
    "data_category1['category_code'].isnull().sum()"
   ]
  },
  {
   "cell_type": "code",
   "execution_count": 12,
   "id": "37b4d85a",
   "metadata": {
    "id": "37b4d85a",
    "outputId": "eca9ced9-6559-4146-d7d5-bdd8ceca0364"
   },
   "outputs": [
    {
     "data": {
      "text/html": [
       "<div>\n",
       "<style scoped>\n",
       "    .dataframe tbody tr th:only-of-type {\n",
       "        vertical-align: middle;\n",
       "    }\n",
       "\n",
       "    .dataframe tbody tr th {\n",
       "        vertical-align: top;\n",
       "    }\n",
       "\n",
       "    .dataframe thead th {\n",
       "        text-align: right;\n",
       "    }\n",
       "</style>\n",
       "<table border=\"1\" class=\"dataframe\">\n",
       "  <thead>\n",
       "    <tr style=\"text-align: right;\">\n",
       "      <th></th>\n",
       "      <th>user_id</th>\n",
       "      <th>user_session</th>\n",
       "      <th>product_id</th>\n",
       "      <th>category_code</th>\n",
       "      <th>price</th>\n",
       "      <th>brand</th>\n",
       "      <th>event_type</th>\n",
       "      <th>event_time</th>\n",
       "      <th>category_code_level1</th>\n",
       "    </tr>\n",
       "  </thead>\n",
       "  <tbody>\n",
       "    <tr>\n",
       "      <th>0</th>\n",
       "      <td>1515915625519390468</td>\n",
       "      <td>xn6SHCnZtk</td>\n",
       "      <td>1507291</td>\n",
       "      <td>computers.components.power_supply</td>\n",
       "      <td>217.57</td>\n",
       "      <td>supermicro</td>\n",
       "      <td>purchase</td>\n",
       "      <td>2020-09-24 12:04:10 UTC</td>\n",
       "      <td>computers</td>\n",
       "    </tr>\n",
       "    <tr>\n",
       "      <th>1</th>\n",
       "      <td>1515915625513574486</td>\n",
       "      <td>2gngxS29Ts</td>\n",
       "      <td>822426</td>\n",
       "      <td>computers.peripherals.camera</td>\n",
       "      <td>123.35</td>\n",
       "      <td>logitech</td>\n",
       "      <td>purchase</td>\n",
       "      <td>2020-09-24 12:15:06 UTC</td>\n",
       "      <td>computers</td>\n",
       "    </tr>\n",
       "    <tr>\n",
       "      <th>2</th>\n",
       "      <td>1515915625518130982</td>\n",
       "      <td>3yFCkx2KKW</td>\n",
       "      <td>4060928</td>\n",
       "      <td>electronics.video.tv</td>\n",
       "      <td>89.22</td>\n",
       "      <td>No Brand</td>\n",
       "      <td>purchase</td>\n",
       "      <td>2020-09-24 12:19:01 UTC</td>\n",
       "      <td>electronics</td>\n",
       "    </tr>\n",
       "  </tbody>\n",
       "</table>\n",
       "</div>"
      ],
      "text/plain": [
       "               user_id user_session  product_id  \\\n",
       "0  1515915625519390468   xn6SHCnZtk     1507291   \n",
       "1  1515915625513574486   2gngxS29Ts      822426   \n",
       "2  1515915625518130982   3yFCkx2KKW     4060928   \n",
       "\n",
       "                       category_code   price       brand event_type  \\\n",
       "0  computers.components.power_supply  217.57  supermicro   purchase   \n",
       "1       computers.peripherals.camera  123.35    logitech   purchase   \n",
       "2               electronics.video.tv   89.22    No Brand   purchase   \n",
       "\n",
       "                event_time category_code_level1  \n",
       "0  2020-09-24 12:04:10 UTC            computers  \n",
       "1  2020-09-24 12:15:06 UTC            computers  \n",
       "2  2020-09-24 12:19:01 UTC          electronics  "
      ]
     },
     "execution_count": 12,
     "metadata": {},
     "output_type": "execute_result"
    }
   ],
   "source": [
    "# membuat kolom category pertama\n",
    "data_category1[\"category_code_level1\"] = data_category1[\"category_code\"].str.split(\".\",expand=True)[0].astype('category')\n",
    "data_category1.head(3)"
   ]
  },
  {
   "cell_type": "code",
   "execution_count": 13,
   "id": "59fadb26",
   "metadata": {
    "id": "59fadb26",
    "outputId": "a174f5e3-6f5e-4523-93e5-2721f20925f3"
   },
   "outputs": [
    {
     "data": {
      "image/png": "[encoded data removed]",
      "text/plain": [
       "<Figure size 900x600 with 1 Axes>"
      ]
     },
     "metadata": {
      "needs_background": "light"
     },
     "output_type": "display_data"
    }
   ],
   "source": [
    "# membuat diagram kategori produk paling laris\n",
    "plt.figure(figsize=(12,8),dpi=75)\n",
    "ax = sns.countplot(data=data_category1,y='category_code_level1',order=data_category1.category_code_level1.value_counts().index)\n",
    "plt.show()"
   ]
  },
  {
   "cell_type": "markdown",
   "id": "c92dd29c",
   "metadata": {
    "id": "c92dd29c"
   },
   "source": [
    "__Observasi:__ Jenis barang yang paling banyak terjual adalah barang yang berhubungan dengan komputer, barang yang paling sedikit terjual adalah barang berkategori jewelry, dan kategori lainnya berada diantara kategori komputer dan jewelry, sesuai dengan diagram diatas."
   ]
  },
  {
   "cell_type": "markdown",
   "id": "debaf83d",
   "metadata": {
    "id": "debaf83d"
   },
   "source": [
    "## Analisis kolom <mark>category_code</mark> lengkap"
   ]
  },
  {
   "cell_type": "markdown",
   "id": "221a5b76",
   "metadata": {
    "id": "221a5b76"
   },
   "source": [
    "Analisis kolom kategori kode yang lebih lengkap yang termasuk jenis produknya, mengambil 10 jenis produk yang paling banyak dibeli."
   ]
  },
  {
   "cell_type": "code",
   "execution_count": 14,
   "id": "dba5b58b",
   "metadata": {
    "id": "dba5b58b",
    "outputId": "735f6d19-b615-42c8-a2bd-a255e23f69c4"
   },
   "outputs": [
    {
     "data": {
      "text/html": [
       "<div>\n",
       "<style scoped>\n",
       "    .dataframe tbody tr th:only-of-type {\n",
       "        vertical-align: middle;\n",
       "    }\n",
       "\n",
       "    .dataframe tbody tr th {\n",
       "        vertical-align: top;\n",
       "    }\n",
       "\n",
       "    .dataframe thead th {\n",
       "        text-align: right;\n",
       "    }\n",
       "</style>\n",
       "<table border=\"1\" class=\"dataframe\">\n",
       "  <thead>\n",
       "    <tr style=\"text-align: right;\">\n",
       "      <th></th>\n",
       "      <th>user_id</th>\n",
       "      <th>user_session</th>\n",
       "      <th>product_id</th>\n",
       "      <th>category_code</th>\n",
       "      <th>price</th>\n",
       "      <th>brand</th>\n",
       "      <th>event_type</th>\n",
       "      <th>event_time</th>\n",
       "    </tr>\n",
       "  </thead>\n",
       "  <tbody>\n",
       "    <tr>\n",
       "      <th>0</th>\n",
       "      <td>1515915625519390468</td>\n",
       "      <td>xn6SHCnZtk</td>\n",
       "      <td>1507291</td>\n",
       "      <td>computers.components.power_supply</td>\n",
       "      <td>217.57</td>\n",
       "      <td>supermicro</td>\n",
       "      <td>purchase</td>\n",
       "      <td>2020-09-24 12:04:10 UTC</td>\n",
       "    </tr>\n",
       "    <tr>\n",
       "      <th>1</th>\n",
       "      <td>1515915625513574486</td>\n",
       "      <td>2gngxS29Ts</td>\n",
       "      <td>822426</td>\n",
       "      <td>computers.peripherals.camera</td>\n",
       "      <td>123.35</td>\n",
       "      <td>logitech</td>\n",
       "      <td>purchase</td>\n",
       "      <td>2020-09-24 12:15:06 UTC</td>\n",
       "    </tr>\n",
       "    <tr>\n",
       "      <th>2</th>\n",
       "      <td>1515915625518130982</td>\n",
       "      <td>3yFCkx2KKW</td>\n",
       "      <td>4060928</td>\n",
       "      <td>electronics.video.tv</td>\n",
       "      <td>89.22</td>\n",
       "      <td>No Brand</td>\n",
       "      <td>purchase</td>\n",
       "      <td>2020-09-24 12:19:01 UTC</td>\n",
       "    </tr>\n",
       "  </tbody>\n",
       "</table>\n",
       "</div>"
      ],
      "text/plain": [
       "               user_id user_session  product_id  \\\n",
       "0  1515915625519390468   xn6SHCnZtk     1507291   \n",
       "1  1515915625513574486   2gngxS29Ts      822426   \n",
       "2  1515915625518130982   3yFCkx2KKW     4060928   \n",
       "\n",
       "                       category_code   price       brand event_type  \\\n",
       "0  computers.components.power_supply  217.57  supermicro   purchase   \n",
       "1       computers.peripherals.camera  123.35    logitech   purchase   \n",
       "2               electronics.video.tv   89.22    No Brand   purchase   \n",
       "\n",
       "                event_time  \n",
       "0  2020-09-24 12:04:10 UTC  \n",
       "1  2020-09-24 12:15:06 UTC  \n",
       "2  2020-09-24 12:19:01 UTC  "
      ]
     },
     "execution_count": 14,
     "metadata": {},
     "output_type": "execute_result"
    }
   ],
   "source": [
    "# persiapkan data_category yang akan di analisis\n",
    "data_category=data.copy()\n",
    "data_category=data_category[data_category['event_type']=='purchase'].reset_index(drop=True)\n",
    "data_category.head(3)"
   ]
  },
  {
   "cell_type": "code",
   "execution_count": 15,
   "id": "425c15cf",
   "metadata": {
    "id": "425c15cf",
    "outputId": "83c33ddb-af6c-4fb4-de2c-4e4fd629fa17"
   },
   "outputs": [
    {
     "data": {
      "text/plain": [
       "0"
      ]
     },
     "execution_count": 15,
     "metadata": {},
     "output_type": "execute_result"
    }
   ],
   "source": [
    "# melihat apakah ada data kolom event_time yang missing value\n",
    "data_category['category_code'].isnull().sum()"
   ]
  },
  {
   "cell_type": "code",
   "execution_count": 16,
   "id": "8532730b",
   "metadata": {
    "id": "8532730b",
    "outputId": "9961d59a-c625-44bc-ab38-c6074ba9a243"
   },
   "outputs": [
    {
     "data": {
      "text/html": [
       "<div>\n",
       "<style scoped>\n",
       "    .dataframe tbody tr th:only-of-type {\n",
       "        vertical-align: middle;\n",
       "    }\n",
       "\n",
       "    .dataframe tbody tr th {\n",
       "        vertical-align: top;\n",
       "    }\n",
       "\n",
       "    .dataframe thead th {\n",
       "        text-align: right;\n",
       "    }\n",
       "</style>\n",
       "<table border=\"1\" class=\"dataframe\">\n",
       "  <thead>\n",
       "    <tr style=\"text-align: right;\">\n",
       "      <th></th>\n",
       "      <th>user_id</th>\n",
       "      <th>user_session</th>\n",
       "      <th>product_id</th>\n",
       "      <th>category_code</th>\n",
       "      <th>price</th>\n",
       "      <th>brand</th>\n",
       "      <th>event_type</th>\n",
       "      <th>event_time</th>\n",
       "    </tr>\n",
       "  </thead>\n",
       "  <tbody>\n",
       "    <tr>\n",
       "      <th>0</th>\n",
       "      <td>1515915625519390468</td>\n",
       "      <td>xn6SHCnZtk</td>\n",
       "      <td>1507291</td>\n",
       "      <td>computers.components.power_supply</td>\n",
       "      <td>217.57</td>\n",
       "      <td>supermicro</td>\n",
       "      <td>purchase</td>\n",
       "      <td>2020-09-24 12:04:10 UTC</td>\n",
       "    </tr>\n",
       "    <tr>\n",
       "      <th>1</th>\n",
       "      <td>1515915625513574486</td>\n",
       "      <td>2gngxS29Ts</td>\n",
       "      <td>822426</td>\n",
       "      <td>computers.peripherals.camera</td>\n",
       "      <td>123.35</td>\n",
       "      <td>logitech</td>\n",
       "      <td>purchase</td>\n",
       "      <td>2020-09-24 12:15:06 UTC</td>\n",
       "    </tr>\n",
       "    <tr>\n",
       "      <th>2</th>\n",
       "      <td>1515915625518130982</td>\n",
       "      <td>3yFCkx2KKW</td>\n",
       "      <td>4060928</td>\n",
       "      <td>electronics.video.tv</td>\n",
       "      <td>89.22</td>\n",
       "      <td>No Brand</td>\n",
       "      <td>purchase</td>\n",
       "      <td>2020-09-24 12:19:01 UTC</td>\n",
       "    </tr>\n",
       "  </tbody>\n",
       "</table>\n",
       "</div>"
      ],
      "text/plain": [
       "               user_id user_session  product_id  \\\n",
       "0  1515915625519390468   xn6SHCnZtk     1507291   \n",
       "1  1515915625513574486   2gngxS29Ts      822426   \n",
       "2  1515915625518130982   3yFCkx2KKW     4060928   \n",
       "\n",
       "                       category_code   price       brand event_type  \\\n",
       "0  computers.components.power_supply  217.57  supermicro   purchase   \n",
       "1       computers.peripherals.camera  123.35    logitech   purchase   \n",
       "2               electronics.video.tv   89.22    No Brand   purchase   \n",
       "\n",
       "                event_time  \n",
       "0  2020-09-24 12:04:10 UTC  \n",
       "1  2020-09-24 12:15:06 UTC  \n",
       "2  2020-09-24 12:19:01 UTC  "
      ]
     },
     "execution_count": 16,
     "metadata": {},
     "output_type": "execute_result"
    }
   ],
   "source": [
    "# mengisi nilai kosong dalam kolom data_category1\n",
    "data_category['category_code']=data_category['category_code'].fillna('No_Category')\n",
    "data_category.head(3)"
   ]
  },
  {
   "cell_type": "code",
   "execution_count": 17,
   "id": "62589238",
   "metadata": {
    "id": "62589238",
    "outputId": "eabd64af-227f-4426-dce6-dc1b45c4ab5b"
   },
   "outputs": [
    {
     "data": {
      "image/png": "[encoded data removed]",
      "text/plain": [
       "<Figure size 900x600 with 1 Axes>"
      ]
     },
     "metadata": {
      "needs_background": "light"
     },
     "output_type": "display_data"
    }
   ],
   "source": [
    "# membuat plot jenis produk yang paling banyak dibeli\n",
    "plt.figure(figsize=(12,8),dpi=75)\n",
    "ax = sns.countplot(data=data_category,y='category_code',order=data_category.category_code.value_counts().iloc[:11].index)\n",
    "plt.show()"
   ]
  },
  {
   "cell_type": "markdown",
   "id": "97532ad2",
   "metadata": {
    "id": "97532ad2"
   },
   "source": [
    "__observasi:__ Produk No_Category adalah produk yang tidak diketahui kategorinya. Produk yang paling banyak dibeli yang diketahui jenisnya adalah videocards (komponen komputer), sedangkan 10 jenis produk yang paling banyak dibeli bisa dilihat dari diagram diatas."
   ]
  },
  {
   "cell_type": "markdown",
   "id": "71b6cc3b",
   "metadata": {
    "id": "71b6cc3b"
   },
   "source": [
    "## Analisis kolom <mark>brand</mark>"
   ]
  },
  {
   "cell_type": "code",
   "execution_count": 18,
   "id": "3b3a8ef9",
   "metadata": {
    "id": "3b3a8ef9"
   },
   "outputs": [],
   "source": [
    "# persiapkan data_brand yang akan di analisis\n",
    "data_brand=data.copy()\n",
    "data_brand=data_brand[data_brand['event_type']=='purchase'].reset_index(drop=True)"
   ]
  },
  {
   "cell_type": "code",
   "execution_count": 19,
   "id": "759c0ea0",
   "metadata": {
    "id": "759c0ea0",
    "outputId": "33c0955a-3c57-43b8-ddfe-c5b4d47b67ce"
   },
   "outputs": [
    {
     "data": {
      "text/html": [
       "<div>\n",
       "<style scoped>\n",
       "    .dataframe tbody tr th:only-of-type {\n",
       "        vertical-align: middle;\n",
       "    }\n",
       "\n",
       "    .dataframe tbody tr th {\n",
       "        vertical-align: top;\n",
       "    }\n",
       "\n",
       "    .dataframe thead th {\n",
       "        text-align: right;\n",
       "    }\n",
       "</style>\n",
       "<table border=\"1\" class=\"dataframe\">\n",
       "  <thead>\n",
       "    <tr style=\"text-align: right;\">\n",
       "      <th></th>\n",
       "      <th>user_id</th>\n",
       "      <th>user_session</th>\n",
       "      <th>product_id</th>\n",
       "      <th>category_code</th>\n",
       "      <th>price</th>\n",
       "      <th>brand</th>\n",
       "      <th>event_type</th>\n",
       "      <th>event_time</th>\n",
       "      <th>brand_category</th>\n",
       "    </tr>\n",
       "  </thead>\n",
       "  <tbody>\n",
       "    <tr>\n",
       "      <th>0</th>\n",
       "      <td>1515915625519390468</td>\n",
       "      <td>xn6SHCnZtk</td>\n",
       "      <td>1507291</td>\n",
       "      <td>computers.components.power_supply</td>\n",
       "      <td>217.57</td>\n",
       "      <td>supermicro</td>\n",
       "      <td>purchase</td>\n",
       "      <td>2020-09-24 12:04:10 UTC</td>\n",
       "      <td>supermicro    4</td>\n",
       "    </tr>\n",
       "    <tr>\n",
       "      <th>1</th>\n",
       "      <td>1515915625513574486</td>\n",
       "      <td>2gngxS29Ts</td>\n",
       "      <td>822426</td>\n",
       "      <td>computers.peripherals.camera</td>\n",
       "      <td>123.35</td>\n",
       "      <td>logitech</td>\n",
       "      <td>purchase</td>\n",
       "      <td>2020-09-24 12:15:06 UTC</td>\n",
       "      <td>logitech    7</td>\n",
       "    </tr>\n",
       "    <tr>\n",
       "      <th>2</th>\n",
       "      <td>1515915625518130982</td>\n",
       "      <td>3yFCkx2KKW</td>\n",
       "      <td>4060928</td>\n",
       "      <td>electronics.video.tv</td>\n",
       "      <td>89.22</td>\n",
       "      <td>No Brand</td>\n",
       "      <td>purchase</td>\n",
       "      <td>2020-09-24 12:19:01 UTC</td>\n",
       "      <td>No Brand   55</td>\n",
       "    </tr>\n",
       "  </tbody>\n",
       "</table>\n",
       "</div>"
      ],
      "text/plain": [
       "               user_id user_session  product_id  \\\n",
       "0  1515915625519390468   xn6SHCnZtk     1507291   \n",
       "1  1515915625513574486   2gngxS29Ts      822426   \n",
       "2  1515915625518130982   3yFCkx2KKW     4060928   \n",
       "\n",
       "                       category_code   price       brand event_type  \\\n",
       "0  computers.components.power_supply  217.57  supermicro   purchase   \n",
       "1       computers.peripherals.camera  123.35    logitech   purchase   \n",
       "2               electronics.video.tv   89.22    No Brand   purchase   \n",
       "\n",
       "                event_time   brand_category  \n",
       "0  2020-09-24 12:04:10 UTC  supermicro    4  \n",
       "1  2020-09-24 12:15:06 UTC    logitech    7  \n",
       "2  2020-09-24 12:19:01 UTC    No Brand   55  "
      ]
     },
     "execution_count": 19,
     "metadata": {},
     "output_type": "execute_result"
    }
   ],
   "source": [
    "# membuat kolom baru brand_category untuk analisis brand \n",
    "brand_category=data_brand.groupby(['brand'])['category_code'].agg('nunique').reset_index()\n",
    "brand_category.category_code=brand_category.category_code.apply(lambda x:'{:>5}'.format(x))\n",
    "brand_category['brand_category']=brand_category.brand.astype(str)+brand_category.category_code.astype(str)\n",
    "brand_category.sort_values('category_code',ascending=False).head(7)\n",
    "map1=brand_category[['brand','brand_category']].set_index('brand').to_dict()['brand_category']\n",
    "data_brand['brand_category']=data_brand['brand'].map(map1)\n",
    "data_brand.head(3)"
   ]
  },
  {
   "cell_type": "code",
   "execution_count": 20,
   "id": "39ff9ad5",
   "metadata": {
    "id": "39ff9ad5",
    "outputId": "23efda64-d489-4b6b-fd05-3ba8da4a00bd"
   },
   "outputs": [
    {
     "data": {
      "image/png": "[encoded data removed]",
      "text/plain": [
       "<Figure size 432x288 with 1 Axes>"
      ]
     },
     "metadata": {
      "needs_background": "light"
     },
     "output_type": "display_data"
    }
   ],
   "source": [
    "# melihat 10 brand yang produknya paling banyak terjual\n",
    "ax = sns.countplot(data=data_brand,y='brand_category',order=data_brand.brand_category.value_counts().iloc[:10].index)\n",
    "ax.set(ylabel='Brand and Number of Category')\n",
    "plt.show()"
   ]
  },
  {
   "cell_type": "code",
   "execution_count": 21,
   "id": "9e30d387",
   "metadata": {
    "id": "9e30d387",
    "outputId": "6307c1ca-805c-4de2-b1ba-6160ab448d2d"
   },
   "outputs": [
    {
     "data": {
      "text/html": [
       "<div>\n",
       "<style scoped>\n",
       "    .dataframe tbody tr th:only-of-type {\n",
       "        vertical-align: middle;\n",
       "    }\n",
       "\n",
       "    .dataframe tbody tr th {\n",
       "        vertical-align: top;\n",
       "    }\n",
       "\n",
       "    .dataframe thead th {\n",
       "        text-align: right;\n",
       "    }\n",
       "</style>\n",
       "<table border=\"1\" class=\"dataframe\">\n",
       "  <thead>\n",
       "    <tr style=\"text-align: right;\">\n",
       "      <th></th>\n",
       "      <th>brand</th>\n",
       "      <th>category_code</th>\n",
       "    </tr>\n",
       "  </thead>\n",
       "  <tbody>\n",
       "    <tr>\n",
       "      <th>18004</th>\n",
       "      <td>amd</td>\n",
       "      <td>computers.components.cpu</td>\n",
       "    </tr>\n",
       "    <tr>\n",
       "      <th>18473</th>\n",
       "      <td>asus</td>\n",
       "      <td>computers.components.motherboard</td>\n",
       "    </tr>\n",
       "    <tr>\n",
       "      <th>26366</th>\n",
       "      <td>asus</td>\n",
       "      <td>computers.components.videocards</td>\n",
       "    </tr>\n",
       "    <tr>\n",
       "      <th>16842</th>\n",
       "      <td>asus</td>\n",
       "      <td>computers.peripherals.wifi</td>\n",
       "    </tr>\n",
       "    <tr>\n",
       "      <th>16268</th>\n",
       "      <td>asus</td>\n",
       "      <td>computers.components.cdrw</td>\n",
       "    </tr>\n",
       "    <tr>\n",
       "      <th>18082</th>\n",
       "      <td>asus</td>\n",
       "      <td>computers.peripherals.monitor</td>\n",
       "    </tr>\n",
       "    <tr>\n",
       "      <th>1196</th>\n",
       "      <td>asus</td>\n",
       "      <td>electronics.video.projector</td>\n",
       "    </tr>\n",
       "    <tr>\n",
       "      <th>1223</th>\n",
       "      <td>asus</td>\n",
       "      <td>electronics.tablet</td>\n",
       "    </tr>\n",
       "    <tr>\n",
       "      <th>11366</th>\n",
       "      <td>asus</td>\n",
       "      <td>computers.notebook</td>\n",
       "    </tr>\n",
       "    <tr>\n",
       "      <th>15034</th>\n",
       "      <td>asus</td>\n",
       "      <td>No_Category.No_Category.No_Category</td>\n",
       "    </tr>\n",
       "    <tr>\n",
       "      <th>1979</th>\n",
       "      <td>asus</td>\n",
       "      <td>computers.components.sound_card</td>\n",
       "    </tr>\n",
       "    <tr>\n",
       "      <th>2640</th>\n",
       "      <td>asus</td>\n",
       "      <td>electronics.telephone</td>\n",
       "    </tr>\n",
       "    <tr>\n",
       "      <th>4313</th>\n",
       "      <td>asus</td>\n",
       "      <td>accessories.bag</td>\n",
       "    </tr>\n",
       "    <tr>\n",
       "      <th>3170</th>\n",
       "      <td>canon</td>\n",
       "      <td>stationery.cartrige</td>\n",
       "    </tr>\n",
       "    <tr>\n",
       "      <th>2576</th>\n",
       "      <td>canon</td>\n",
       "      <td>computers.peripherals.printer</td>\n",
       "    </tr>\n",
       "    <tr>\n",
       "      <th>10370</th>\n",
       "      <td>canon</td>\n",
       "      <td>No_Category.No_Category.No_Category</td>\n",
       "    </tr>\n",
       "    <tr>\n",
       "      <th>35591</th>\n",
       "      <td>canon</td>\n",
       "      <td>accessories.bag</td>\n",
       "    </tr>\n",
       "    <tr>\n",
       "      <th>30556</th>\n",
       "      <td>canon</td>\n",
       "      <td>computers.peripherals.scanner</td>\n",
       "    </tr>\n",
       "    <tr>\n",
       "      <th>36795</th>\n",
       "      <td>canon</td>\n",
       "      <td>stationery.paper</td>\n",
       "    </tr>\n",
       "    <tr>\n",
       "      <th>3586</th>\n",
       "      <td>gigabyte</td>\n",
       "      <td>computers.components.motherboard</td>\n",
       "    </tr>\n",
       "    <tr>\n",
       "      <th>6063</th>\n",
       "      <td>gigabyte</td>\n",
       "      <td>computers.components.videocards</td>\n",
       "    </tr>\n",
       "    <tr>\n",
       "      <th>24806</th>\n",
       "      <td>msi</td>\n",
       "      <td>computers.components.videocards</td>\n",
       "    </tr>\n",
       "    <tr>\n",
       "      <th>28816</th>\n",
       "      <td>msi</td>\n",
       "      <td>computers.components.motherboard</td>\n",
       "    </tr>\n",
       "    <tr>\n",
       "      <th>33548</th>\n",
       "      <td>msi</td>\n",
       "      <td>computers.peripherals.mouse</td>\n",
       "    </tr>\n",
       "    <tr>\n",
       "      <th>29764</th>\n",
       "      <td>palit</td>\n",
       "      <td>computers.components.videocards</td>\n",
       "    </tr>\n",
       "    <tr>\n",
       "      <th>34789</th>\n",
       "      <td>samsung</td>\n",
       "      <td>computers.peripherals.printer</td>\n",
       "    </tr>\n",
       "    <tr>\n",
       "      <th>36748</th>\n",
       "      <td>samsung</td>\n",
       "      <td>No_Category.No_Category.No_Category</td>\n",
       "    </tr>\n",
       "    <tr>\n",
       "      <th>31442</th>\n",
       "      <td>samsung</td>\n",
       "      <td>electronics.tablet</td>\n",
       "    </tr>\n",
       "    <tr>\n",
       "      <th>33617</th>\n",
       "      <td>samsung</td>\n",
       "      <td>electronics.telephone</td>\n",
       "    </tr>\n",
       "    <tr>\n",
       "      <th>36700</th>\n",
       "      <td>samsung</td>\n",
       "      <td>computers.components.hdd</td>\n",
       "    </tr>\n",
       "    <tr>\n",
       "      <th>32674</th>\n",
       "      <td>samsung</td>\n",
       "      <td>electronics.audio.headphone</td>\n",
       "    </tr>\n",
       "    <tr>\n",
       "      <th>34672</th>\n",
       "      <td>samsung</td>\n",
       "      <td>appliances.kitchen.microwave</td>\n",
       "    </tr>\n",
       "    <tr>\n",
       "      <th>37069</th>\n",
       "      <td>samsung</td>\n",
       "      <td>electronics.video.tv</td>\n",
       "    </tr>\n",
       "    <tr>\n",
       "      <th>32974</th>\n",
       "      <td>samsung</td>\n",
       "      <td>computers.peripherals.monitor</td>\n",
       "    </tr>\n",
       "    <tr>\n",
       "      <th>5154</th>\n",
       "      <td>samsung</td>\n",
       "      <td>stationery.cartrige</td>\n",
       "    </tr>\n",
       "    <tr>\n",
       "      <th>27654</th>\n",
       "      <td>sapphire</td>\n",
       "      <td>computers.components.videocards</td>\n",
       "    </tr>\n",
       "    <tr>\n",
       "      <th>6270</th>\n",
       "      <td>sirius</td>\n",
       "      <td>electronics.telephone</td>\n",
       "    </tr>\n",
       "    <tr>\n",
       "      <th>7032</th>\n",
       "      <td>sirius</td>\n",
       "      <td>No_Category.No_Category.No_Category</td>\n",
       "    </tr>\n",
       "    <tr>\n",
       "      <th>24540</th>\n",
       "      <td>sirius</td>\n",
       "      <td>electronics.tablet</td>\n",
       "    </tr>\n",
       "    <tr>\n",
       "      <th>539</th>\n",
       "      <td>sirius</td>\n",
       "      <td>computers.notebook</td>\n",
       "    </tr>\n",
       "  </tbody>\n",
       "</table>\n",
       "</div>"
      ],
      "text/plain": [
       "          brand                        category_code\n",
       "18004       amd             computers.components.cpu\n",
       "18473      asus     computers.components.motherboard\n",
       "26366      asus      computers.components.videocards\n",
       "16842      asus           computers.peripherals.wifi\n",
       "16268      asus            computers.components.cdrw\n",
       "18082      asus        computers.peripherals.monitor\n",
       "1196       asus          electronics.video.projector\n",
       "1223       asus                   electronics.tablet\n",
       "11366      asus                   computers.notebook\n",
       "15034      asus  No_Category.No_Category.No_Category\n",
       "1979       asus      computers.components.sound_card\n",
       "2640       asus                electronics.telephone\n",
       "4313       asus                      accessories.bag\n",
       "3170      canon                  stationery.cartrige\n",
       "2576      canon        computers.peripherals.printer\n",
       "10370     canon  No_Category.No_Category.No_Category\n",
       "35591     canon                      accessories.bag\n",
       "30556     canon        computers.peripherals.scanner\n",
       "36795     canon                     stationery.paper\n",
       "3586   gigabyte     computers.components.motherboard\n",
       "6063   gigabyte      computers.components.videocards\n",
       "24806       msi      computers.components.videocards\n",
       "28816       msi     computers.components.motherboard\n",
       "33548       msi          computers.peripherals.mouse\n",
       "29764     palit      computers.components.videocards\n",
       "34789   samsung        computers.peripherals.printer\n",
       "36748   samsung  No_Category.No_Category.No_Category\n",
       "31442   samsung                   electronics.tablet\n",
       "33617   samsung                electronics.telephone\n",
       "36700   samsung             computers.components.hdd\n",
       "32674   samsung          electronics.audio.headphone\n",
       "34672   samsung         appliances.kitchen.microwave\n",
       "37069   samsung                 electronics.video.tv\n",
       "32974   samsung        computers.peripherals.monitor\n",
       "5154    samsung                  stationery.cartrige\n",
       "27654  sapphire      computers.components.videocards\n",
       "6270     sirius                electronics.telephone\n",
       "7032     sirius  No_Category.No_Category.No_Category\n",
       "24540    sirius                   electronics.tablet\n",
       "539      sirius                   computers.notebook"
      ]
     },
     "execution_count": 21,
     "metadata": {},
     "output_type": "execute_result"
    }
   ],
   "source": [
    "# melihat apa saja kategori produk yang di jual 10 brand tersebut\n",
    "top_10_brand=['msi','gigabyte','asus','palit','canon','amd','sapphire','samsung','sirius']\n",
    "data_brand[['brand','category_code']][data_brand.brand.isin(top_10_brand)].sort_values(by=['brand']).drop_duplicates()"
   ]
  },
  {
   "cell_type": "code",
   "execution_count": 22,
   "id": "5f877c74",
   "metadata": {},
   "outputs": [
    {
     "data": {
      "text/html": [
       "<div>\n",
       "<style scoped>\n",
       "    .dataframe tbody tr th:only-of-type {\n",
       "        vertical-align: middle;\n",
       "    }\n",
       "\n",
       "    .dataframe tbody tr th {\n",
       "        vertical-align: top;\n",
       "    }\n",
       "\n",
       "    .dataframe thead th {\n",
       "        text-align: right;\n",
       "    }\n",
       "</style>\n",
       "<table border=\"1\" class=\"dataframe\">\n",
       "  <thead>\n",
       "    <tr style=\"text-align: right;\">\n",
       "      <th></th>\n",
       "      <th>videocards</th>\n",
       "      <th>motherboard</th>\n",
       "      <th>notebook</th>\n",
       "      <th>telephone</th>\n",
       "      <th>tablet</th>\n",
       "      <th>printer</th>\n",
       "      <th>cartrige</th>\n",
       "      <th>cpu</th>\n",
       "      <th>acoustic audio</th>\n",
       "      <th>player (auto accessories)</th>\n",
       "    </tr>\n",
       "  </thead>\n",
       "  <tbody>\n",
       "    <tr>\n",
       "      <th>msi</th>\n",
       "      <td>V</td>\n",
       "      <td>V</td>\n",
       "      <td>X</td>\n",
       "      <td>X</td>\n",
       "      <td>X</td>\n",
       "      <td>X</td>\n",
       "      <td>X</td>\n",
       "      <td>X</td>\n",
       "      <td>X</td>\n",
       "      <td>X</td>\n",
       "    </tr>\n",
       "    <tr>\n",
       "      <th>gigabyte</th>\n",
       "      <td>V</td>\n",
       "      <td>V</td>\n",
       "      <td>X</td>\n",
       "      <td>X</td>\n",
       "      <td>X</td>\n",
       "      <td>X</td>\n",
       "      <td>X</td>\n",
       "      <td>X</td>\n",
       "      <td>X</td>\n",
       "      <td>X</td>\n",
       "    </tr>\n",
       "    <tr>\n",
       "      <th>palit</th>\n",
       "      <td>V</td>\n",
       "      <td>X</td>\n",
       "      <td>X</td>\n",
       "      <td>X</td>\n",
       "      <td>X</td>\n",
       "      <td>X</td>\n",
       "      <td>X</td>\n",
       "      <td>X</td>\n",
       "      <td>X</td>\n",
       "      <td>X</td>\n",
       "    </tr>\n",
       "    <tr>\n",
       "      <th>sapphire</th>\n",
       "      <td>V</td>\n",
       "      <td>X</td>\n",
       "      <td>X</td>\n",
       "      <td>X</td>\n",
       "      <td>X</td>\n",
       "      <td>X</td>\n",
       "      <td>X</td>\n",
       "      <td>X</td>\n",
       "      <td>X</td>\n",
       "      <td>X</td>\n",
       "    </tr>\n",
       "    <tr>\n",
       "      <th>asus</th>\n",
       "      <td>V</td>\n",
       "      <td>V</td>\n",
       "      <td>V</td>\n",
       "      <td>V</td>\n",
       "      <td>V</td>\n",
       "      <td>X</td>\n",
       "      <td>X</td>\n",
       "      <td>X</td>\n",
       "      <td>X</td>\n",
       "      <td>X</td>\n",
       "    </tr>\n",
       "    <tr>\n",
       "      <th>sirius</th>\n",
       "      <td>X</td>\n",
       "      <td>X</td>\n",
       "      <td>V</td>\n",
       "      <td>V</td>\n",
       "      <td>V</td>\n",
       "      <td>X</td>\n",
       "      <td>X</td>\n",
       "      <td>X</td>\n",
       "      <td>X</td>\n",
       "      <td>X</td>\n",
       "    </tr>\n",
       "    <tr>\n",
       "      <th>samsung</th>\n",
       "      <td>X</td>\n",
       "      <td>X</td>\n",
       "      <td>X</td>\n",
       "      <td>V</td>\n",
       "      <td>V</td>\n",
       "      <td>V</td>\n",
       "      <td>V</td>\n",
       "      <td>X</td>\n",
       "      <td>X</td>\n",
       "      <td>X</td>\n",
       "    </tr>\n",
       "    <tr>\n",
       "      <th>canon</th>\n",
       "      <td>X</td>\n",
       "      <td>X</td>\n",
       "      <td>X</td>\n",
       "      <td>X</td>\n",
       "      <td>X</td>\n",
       "      <td>V</td>\n",
       "      <td>V</td>\n",
       "      <td>X</td>\n",
       "      <td>X</td>\n",
       "      <td>X</td>\n",
       "    </tr>\n",
       "    <tr>\n",
       "      <th>amd</th>\n",
       "      <td>X</td>\n",
       "      <td>X</td>\n",
       "      <td>X</td>\n",
       "      <td>X</td>\n",
       "      <td>X</td>\n",
       "      <td>X</td>\n",
       "      <td>X</td>\n",
       "      <td>V</td>\n",
       "      <td>X</td>\n",
       "      <td>X</td>\n",
       "    </tr>\n",
       "  </tbody>\n",
       "</table>\n",
       "</div>"
      ],
      "text/plain": [
       "         videocards motherboard notebook telephone tablet printer cartrige  \\\n",
       "msi               V           V        X         X      X       X        X   \n",
       "gigabyte          V           V        X         X      X       X        X   \n",
       "palit             V           X        X         X      X       X        X   \n",
       "sapphire          V           X        X         X      X       X        X   \n",
       "asus              V           V        V         V      V       X        X   \n",
       "sirius            X           X        V         V      V       X        X   \n",
       "samsung           X           X        X         V      V       V        V   \n",
       "canon             X           X        X         X      X       V        V   \n",
       "amd               X           X        X         X      X       X        X   \n",
       "\n",
       "         cpu acoustic audio player (auto accessories)  \n",
       "msi        X              X                         X  \n",
       "gigabyte   X              X                         X  \n",
       "palit      X              X                         X  \n",
       "sapphire   X              X                         X  \n",
       "asus       X              X                         X  \n",
       "sirius     X              X                         X  \n",
       "samsung    X              X                         X  \n",
       "canon      X              X                         X  \n",
       "amd        V              X                         X  "
      ]
     },
     "execution_count": 22,
     "metadata": {},
     "output_type": "execute_result"
    }
   ],
   "source": [
    "# mengelompokkan top 10 brand dan top 10 kategori produk\n",
    "brand_product_category = pd.DataFrame(np.array([['V', 'V', 'X','X','X','X','X','X','X','X']\n",
    "                                                ,['V', 'V', 'X','X','X','X','X','X','X','X']\n",
    "                                                ,['V', 'X', 'X','X','X','X','X','X','X','X']\n",
    "                                                ,['V', 'X', 'X','X','X','X','X','X','X','X']\n",
    "                                                ,['V', 'V', 'V','V','V','X','X','X','X','X']\n",
    "                                                ,['X', 'X', 'V','V','V','X','X','X','X','X']\n",
    "                                                ,['X', 'X', 'X','V','V','V','V','X','X','X']\n",
    "                                                ,['X', 'X', 'X','X','X','V','V','X','X','X']\n",
    "                                                ,['X', 'X', 'X','X','X','X','X','V','X','X']\n",
    "                                               ])\n",
    "                                      ,columns=['videocards','motherboard','notebook', 'telephone','tablet', 'printer','cartrige',    'cpu', 'acoustic audio',  'player (auto accessories)']\n",
    "                                      ,index=['msi', 'gigabyte','palit','sapphire', 'asus','sirius','samsung' ,  'canon', 'amd'  ])\n",
    "brand_product_category"
   ]
  },
  {
   "cell_type": "markdown",
   "id": "f9c86ffe",
   "metadata": {
    "id": "f9c86ffe"
   },
   "source": [
    "__Observasi:__ \n",
    "1. Brand paling laku pertama sampai ke empat, semuanya menjual kategori produk paling laku yaitu videocard.\n",
    "2. Brand-brand paling laku tersebut bisa di kelompokkan menjadi 4 kelompok yaitu brand yang fokus pada motherboard, videodcard, dan barang sejenisnya yaitu msi, gigabyte, palit, sapphire, asus. Kelompok yang fokus pada notebook,telephone, tablet, dan sejenisnya yaitu asus, sirius dan samsung. Kelompok yang fokus pada printer dan cartrige yaitu samsung dan canon, dan kelompok yang hanya fokus pada cpu yaitu amd.\n",
    "3. Ada dua jenis kategori produk yang termasuk top 10 paling banyak dibeli tapi tidak dijual oleh top 10 brand yaitu audio akustik (barang elektronik) dan player (auto accessories).\n",
    "4. Ada 3 brand yang masuk top 10 brand paling laku yang hanya menjual satu jenis kategori produk yaitu palit, sapphire dan amd."
   ]
  },
  {
   "cell_type": "markdown",
   "id": "87f3b110",
   "metadata": {
    "id": "87f3b110"
   },
   "source": [
    "## Analisis <mark>brand</mark> produk top 10 kategori produk"
   ]
  },
  {
   "cell_type": "markdown",
   "id": "a70d3929",
   "metadata": {
    "id": "a70d3929"
   },
   "source": [
    "### Analisis <mark>brand</mark> produk videocards"
   ]
  },
  {
   "cell_type": "code",
   "execution_count": 23,
   "id": "e58fd2dc",
   "metadata": {
    "id": "e58fd2dc",
    "outputId": "9a4caa7d-2dbf-479f-c382-0c0d40381e3f"
   },
   "outputs": [
    {
     "data": {
      "text/html": [
       "<div>\n",
       "<style scoped>\n",
       "    .dataframe tbody tr th:only-of-type {\n",
       "        vertical-align: middle;\n",
       "    }\n",
       "\n",
       "    .dataframe tbody tr th {\n",
       "        vertical-align: top;\n",
       "    }\n",
       "\n",
       "    .dataframe thead th {\n",
       "        text-align: right;\n",
       "    }\n",
       "</style>\n",
       "<table border=\"1\" class=\"dataframe\">\n",
       "  <thead>\n",
       "    <tr style=\"text-align: right;\">\n",
       "      <th></th>\n",
       "      <th>brand</th>\n",
       "      <th>count</th>\n",
       "    </tr>\n",
       "  </thead>\n",
       "  <tbody>\n",
       "    <tr>\n",
       "      <th>0</th>\n",
       "      <td>gigabyte</td>\n",
       "      <td>564</td>\n",
       "    </tr>\n",
       "    <tr>\n",
       "      <th>1</th>\n",
       "      <td>No Brand</td>\n",
       "      <td>538</td>\n",
       "    </tr>\n",
       "    <tr>\n",
       "      <th>2</th>\n",
       "      <td>sapphire</td>\n",
       "      <td>384</td>\n",
       "    </tr>\n",
       "    <tr>\n",
       "      <th>3</th>\n",
       "      <td>msi</td>\n",
       "      <td>266</td>\n",
       "    </tr>\n",
       "    <tr>\n",
       "      <th>4</th>\n",
       "      <td>gigabyte</td>\n",
       "      <td>257</td>\n",
       "    </tr>\n",
       "    <tr>\n",
       "      <th>5</th>\n",
       "      <td>sapphire</td>\n",
       "      <td>196</td>\n",
       "    </tr>\n",
       "    <tr>\n",
       "      <th>6</th>\n",
       "      <td>msi</td>\n",
       "      <td>191</td>\n",
       "    </tr>\n",
       "    <tr>\n",
       "      <th>7</th>\n",
       "      <td>palit</td>\n",
       "      <td>169</td>\n",
       "    </tr>\n",
       "    <tr>\n",
       "      <th>8</th>\n",
       "      <td>powercolor</td>\n",
       "      <td>168</td>\n",
       "    </tr>\n",
       "    <tr>\n",
       "      <th>9</th>\n",
       "      <td>palit</td>\n",
       "      <td>149</td>\n",
       "    </tr>\n",
       "  </tbody>\n",
       "</table>\n",
       "</div>"
      ],
      "text/plain": [
       "        brand  count\n",
       "0    gigabyte    564\n",
       "1    No Brand    538\n",
       "2    sapphire    384\n",
       "3         msi    266\n",
       "4    gigabyte    257\n",
       "5    sapphire    196\n",
       "6         msi    191\n",
       "7       palit    169\n",
       "8  powercolor    168\n",
       "9       palit    149"
      ]
     },
     "execution_count": 23,
     "metadata": {},
     "output_type": "execute_result"
    }
   ],
   "source": [
    "# mencari top 10 produk untuk kategori produk videocards\n",
    "indeks=data_brand['product_id'][data_brand.category_code=='computers.components.videocards'].value_counts().iloc[:10].index\n",
    "data_brand_2=data_brand[['product_id','category_code','brand']][data_brand.product_id.isin(indeks)].sort_values('product_id').value_counts().reset_index()\n",
    "data_brand_2=data_brand_2.rename(columns={0:'count'})\n",
    "data_brand_2=data_brand_2[['brand','count']]\n",
    "data_brand_2"
   ]
  },
  {
   "cell_type": "code",
   "execution_count": 24,
   "id": "23e75283",
   "metadata": {
    "id": "23e75283",
    "outputId": "a48a0c92-0a84-4737-b9ec-5878bdce30ba"
   },
   "outputs": [
    {
     "data": {
      "text/plain": [
       "0.4184088269454123"
      ]
     },
     "execution_count": 24,
     "metadata": {},
     "output_type": "execute_result"
    }
   ],
   "source": [
    "# persentasi top 10 produk kategori videocards\n",
    "data_brand_3=data_brand[data_brand.category_code=='computers.components.videocards']\n",
    "data_brand_2['count'].sum(axis=0)/len(data_brand_3)"
   ]
  },
  {
   "cell_type": "code",
   "execution_count": 25,
   "id": "b00c342f",
   "metadata": {
    "id": "b00c342f",
    "outputId": "42301dad-fe71-426b-e700-17809036074f"
   },
   "outputs": [
    {
     "data": {
      "text/plain": [
       "0.09698025551684088"
      ]
     },
     "execution_count": 25,
     "metadata": {},
     "output_type": "execute_result"
    }
   ],
   "source": [
    "# persentasi produk No Brand kategori produk videocards\n",
    "len(data_brand_3[data_brand_3['brand']=='No Brand'])/len(data_brand_3)"
   ]
  },
  {
   "cell_type": "markdown",
   "id": "3872a8f7",
   "metadata": {
    "id": "3872a8f7"
   },
   "source": [
    "### Analisis <mark>brand</mark> produk telephone"
   ]
  },
  {
   "cell_type": "code",
   "execution_count": 26,
   "id": "7f5afa41",
   "metadata": {
    "id": "7f5afa41",
    "outputId": "c020c242-b411-45ca-aed3-75b028fe649d"
   },
   "outputs": [
    {
     "data": {
      "text/html": [
       "<div>\n",
       "<style scoped>\n",
       "    .dataframe tbody tr th:only-of-type {\n",
       "        vertical-align: middle;\n",
       "    }\n",
       "\n",
       "    .dataframe tbody tr th {\n",
       "        vertical-align: top;\n",
       "    }\n",
       "\n",
       "    .dataframe thead th {\n",
       "        text-align: right;\n",
       "    }\n",
       "</style>\n",
       "<table border=\"1\" class=\"dataframe\">\n",
       "  <thead>\n",
       "    <tr style=\"text-align: right;\">\n",
       "      <th></th>\n",
       "      <th>brand</th>\n",
       "      <th>count</th>\n",
       "    </tr>\n",
       "  </thead>\n",
       "  <tbody>\n",
       "    <tr>\n",
       "      <th>0</th>\n",
       "      <td>No Brand</td>\n",
       "      <td>543</td>\n",
       "    </tr>\n",
       "    <tr>\n",
       "      <th>1</th>\n",
       "      <td>sirius</td>\n",
       "      <td>121</td>\n",
       "    </tr>\n",
       "    <tr>\n",
       "      <th>2</th>\n",
       "      <td>No Brand</td>\n",
       "      <td>116</td>\n",
       "    </tr>\n",
       "    <tr>\n",
       "      <th>3</th>\n",
       "      <td>samsung</td>\n",
       "      <td>113</td>\n",
       "    </tr>\n",
       "    <tr>\n",
       "      <th>4</th>\n",
       "      <td>No Brand</td>\n",
       "      <td>97</td>\n",
       "    </tr>\n",
       "    <tr>\n",
       "      <th>5</th>\n",
       "      <td>sirius</td>\n",
       "      <td>86</td>\n",
       "    </tr>\n",
       "    <tr>\n",
       "      <th>6</th>\n",
       "      <td>No Brand</td>\n",
       "      <td>83</td>\n",
       "    </tr>\n",
       "    <tr>\n",
       "      <th>7</th>\n",
       "      <td>No Brand</td>\n",
       "      <td>71</td>\n",
       "    </tr>\n",
       "    <tr>\n",
       "      <th>8</th>\n",
       "      <td>sirius</td>\n",
       "      <td>54</td>\n",
       "    </tr>\n",
       "    <tr>\n",
       "      <th>9</th>\n",
       "      <td>No Brand</td>\n",
       "      <td>48</td>\n",
       "    </tr>\n",
       "  </tbody>\n",
       "</table>\n",
       "</div>"
      ],
      "text/plain": [
       "      brand  count\n",
       "0  No Brand    543\n",
       "1    sirius    121\n",
       "2  No Brand    116\n",
       "3   samsung    113\n",
       "4  No Brand     97\n",
       "5    sirius     86\n",
       "6  No Brand     83\n",
       "7  No Brand     71\n",
       "8    sirius     54\n",
       "9  No Brand     48"
      ]
     },
     "execution_count": 26,
     "metadata": {},
     "output_type": "execute_result"
    }
   ],
   "source": [
    "# mencari top 10 produk untuk kategori produk telephone\n",
    "indeks=data_brand['product_id'][data_brand.category_code=='electronics.telephone'].value_counts().iloc[:10].index\n",
    "data_brand_2=data_brand[['product_id','category_code','brand']][data_brand.product_id.isin(indeks)].sort_values('product_id').value_counts().reset_index()\n",
    "data_brand_2=data_brand_2.rename(columns={0:'count'})\n",
    "data_brand_2=data_brand_2[['brand','count']]\n",
    "data_brand_2"
   ]
  },
  {
   "cell_type": "code",
   "execution_count": 27,
   "id": "f8d26a5c",
   "metadata": {
    "id": "f8d26a5c",
    "outputId": "3ebf0a46-3334-42f1-fc4f-a7df7baf7f2e"
   },
   "outputs": [
    {
     "data": {
      "text/plain": [
       "0.3233794610342316"
      ]
     },
     "execution_count": 27,
     "metadata": {},
     "output_type": "execute_result"
    }
   ],
   "source": [
    "# persentasi top 10 produk kategori telephone\n",
    "data_brand_3=data_brand[data_brand.category_code=='electronics.telephone']\n",
    "data_brand_2['count'].sum(axis=0)/len(data_brand_3)"
   ]
  },
  {
   "cell_type": "code",
   "execution_count": 28,
   "id": "c29e630d",
   "metadata": {
    "id": "c29e630d",
    "outputId": "834bc1e4-c161-4acf-9504-995206bd87a6"
   },
   "outputs": [
    {
     "data": {
      "text/plain": [
       "0.6130128672007769"
      ]
     },
     "execution_count": 28,
     "metadata": {},
     "output_type": "execute_result"
    }
   ],
   "source": [
    "# persentasi produk No Brand kategori produk telephone\n",
    "len(data_brand_3[data_brand_3['brand']=='No Brand'])/len(data_brand_3)"
   ]
  },
  {
   "cell_type": "markdown",
   "id": "c1ba5fee",
   "metadata": {
    "id": "c1ba5fee"
   },
   "source": [
    "### Analisis <mark>brand</mark> produk cartrige"
   ]
  },
  {
   "cell_type": "code",
   "execution_count": 29,
   "id": "0d3d4db6",
   "metadata": {
    "id": "0d3d4db6",
    "outputId": "2fa8b3ee-a325-4812-e266-643270523590"
   },
   "outputs": [
    {
     "data": {
      "text/html": [
       "<div>\n",
       "<style scoped>\n",
       "    .dataframe tbody tr th:only-of-type {\n",
       "        vertical-align: middle;\n",
       "    }\n",
       "\n",
       "    .dataframe tbody tr th {\n",
       "        vertical-align: top;\n",
       "    }\n",
       "\n",
       "    .dataframe thead th {\n",
       "        text-align: right;\n",
       "    }\n",
       "</style>\n",
       "<table border=\"1\" class=\"dataframe\">\n",
       "  <thead>\n",
       "    <tr style=\"text-align: right;\">\n",
       "      <th></th>\n",
       "      <th>brand</th>\n",
       "      <th>count</th>\n",
       "    </tr>\n",
       "  </thead>\n",
       "  <tbody>\n",
       "    <tr>\n",
       "      <th>0</th>\n",
       "      <td>hp</td>\n",
       "      <td>345</td>\n",
       "    </tr>\n",
       "    <tr>\n",
       "      <th>1</th>\n",
       "      <td>canon</td>\n",
       "      <td>207</td>\n",
       "    </tr>\n",
       "    <tr>\n",
       "      <th>2</th>\n",
       "      <td>nv-print</td>\n",
       "      <td>110</td>\n",
       "    </tr>\n",
       "    <tr>\n",
       "      <th>3</th>\n",
       "      <td>canon</td>\n",
       "      <td>83</td>\n",
       "    </tr>\n",
       "    <tr>\n",
       "      <th>4</th>\n",
       "      <td>nv-print</td>\n",
       "      <td>83</td>\n",
       "    </tr>\n",
       "    <tr>\n",
       "      <th>5</th>\n",
       "      <td>No Brand</td>\n",
       "      <td>77</td>\n",
       "    </tr>\n",
       "    <tr>\n",
       "      <th>6</th>\n",
       "      <td>No Brand</td>\n",
       "      <td>60</td>\n",
       "    </tr>\n",
       "    <tr>\n",
       "      <th>7</th>\n",
       "      <td>hp</td>\n",
       "      <td>50</td>\n",
       "    </tr>\n",
       "    <tr>\n",
       "      <th>8</th>\n",
       "      <td>hp</td>\n",
       "      <td>49</td>\n",
       "    </tr>\n",
       "    <tr>\n",
       "      <th>9</th>\n",
       "      <td>No Brand</td>\n",
       "      <td>45</td>\n",
       "    </tr>\n",
       "  </tbody>\n",
       "</table>\n",
       "</div>"
      ],
      "text/plain": [
       "      brand  count\n",
       "0        hp    345\n",
       "1     canon    207\n",
       "2  nv-print    110\n",
       "3     canon     83\n",
       "4  nv-print     83\n",
       "5  No Brand     77\n",
       "6  No Brand     60\n",
       "7        hp     50\n",
       "8        hp     49\n",
       "9  No Brand     45"
      ]
     },
     "execution_count": 29,
     "metadata": {},
     "output_type": "execute_result"
    }
   ],
   "source": [
    "# mencari top 10 produk untuk kategori produk cartrige\n",
    "indeks=data_brand['product_id'][data_brand.category_code=='stationery.cartrige'].value_counts().iloc[:10].index\n",
    "data_brand_2=data_brand[['product_id','category_code','brand']][data_brand.product_id.isin(indeks)].sort_values('product_id').value_counts().reset_index()\n",
    "data_brand_2=data_brand_2.rename(columns={0:'count'})\n",
    "data_brand_2=data_brand_2[['brand','count']]\n",
    "data_brand_2"
   ]
  },
  {
   "cell_type": "code",
   "execution_count": 30,
   "id": "b4c5f765",
   "metadata": {
    "id": "b4c5f765",
    "outputId": "712f6432-ccc1-4f33-c03e-17062c8f413a"
   },
   "outputs": [
    {
     "data": {
      "text/plain": [
       "0.4048922964585615"
      ]
     },
     "execution_count": 30,
     "metadata": {},
     "output_type": "execute_result"
    }
   ],
   "source": [
    "# persentasi top 10 produk kategori cartrige\n",
    "data_brand_3=data_brand[data_brand.category_code=='stationery.cartrige']\n",
    "data_brand_2['count'].sum(axis=0)/len(data_brand_3)"
   ]
  },
  {
   "cell_type": "code",
   "execution_count": 31,
   "id": "8d51885e",
   "metadata": {
    "id": "8d51885e",
    "outputId": "a64a7e04-2d1a-4322-83df-3a51f5635f17"
   },
   "outputs": [
    {
     "data": {
      "text/plain": [
       "0.3289521723256663"
      ]
     },
     "execution_count": 31,
     "metadata": {},
     "output_type": "execute_result"
    }
   ],
   "source": [
    "# persentasi produk No Brand kategori produk cartrige\n",
    "len(data_brand_3[data_brand_3['brand']=='No Brand'])/len(data_brand_3)"
   ]
  },
  {
   "cell_type": "markdown",
   "id": "79b30d02",
   "metadata": {
    "id": "79b30d02"
   },
   "source": [
    "### Analisis <mark>brand</mark> produk printer"
   ]
  },
  {
   "cell_type": "code",
   "execution_count": 32,
   "id": "f3533af8",
   "metadata": {
    "id": "f3533af8",
    "outputId": "b1876811-6949-49aa-8417-da33b50a619d"
   },
   "outputs": [
    {
     "data": {
      "text/html": [
       "<div>\n",
       "<style scoped>\n",
       "    .dataframe tbody tr th:only-of-type {\n",
       "        vertical-align: middle;\n",
       "    }\n",
       "\n",
       "    .dataframe tbody tr th {\n",
       "        vertical-align: top;\n",
       "    }\n",
       "\n",
       "    .dataframe thead th {\n",
       "        text-align: right;\n",
       "    }\n",
       "</style>\n",
       "<table border=\"1\" class=\"dataframe\">\n",
       "  <thead>\n",
       "    <tr style=\"text-align: right;\">\n",
       "      <th></th>\n",
       "      <th>brand</th>\n",
       "      <th>count</th>\n",
       "    </tr>\n",
       "  </thead>\n",
       "  <tbody>\n",
       "    <tr>\n",
       "      <th>0</th>\n",
       "      <td>canon</td>\n",
       "      <td>233</td>\n",
       "    </tr>\n",
       "    <tr>\n",
       "      <th>1</th>\n",
       "      <td>pantum</td>\n",
       "      <td>122</td>\n",
       "    </tr>\n",
       "    <tr>\n",
       "      <th>2</th>\n",
       "      <td>canon</td>\n",
       "      <td>94</td>\n",
       "    </tr>\n",
       "    <tr>\n",
       "      <th>3</th>\n",
       "      <td>canon</td>\n",
       "      <td>84</td>\n",
       "    </tr>\n",
       "    <tr>\n",
       "      <th>4</th>\n",
       "      <td>No Brand</td>\n",
       "      <td>79</td>\n",
       "    </tr>\n",
       "    <tr>\n",
       "      <th>5</th>\n",
       "      <td>epson</td>\n",
       "      <td>76</td>\n",
       "    </tr>\n",
       "    <tr>\n",
       "      <th>6</th>\n",
       "      <td>pantum</td>\n",
       "      <td>66</td>\n",
       "    </tr>\n",
       "    <tr>\n",
       "      <th>7</th>\n",
       "      <td>brother</td>\n",
       "      <td>65</td>\n",
       "    </tr>\n",
       "    <tr>\n",
       "      <th>8</th>\n",
       "      <td>xerox</td>\n",
       "      <td>48</td>\n",
       "    </tr>\n",
       "    <tr>\n",
       "      <th>9</th>\n",
       "      <td>canon</td>\n",
       "      <td>42</td>\n",
       "    </tr>\n",
       "  </tbody>\n",
       "</table>\n",
       "</div>"
      ],
      "text/plain": [
       "      brand  count\n",
       "0     canon    233\n",
       "1    pantum    122\n",
       "2     canon     94\n",
       "3     canon     84\n",
       "4  No Brand     79\n",
       "5     epson     76\n",
       "6    pantum     66\n",
       "7   brother     65\n",
       "8     xerox     48\n",
       "9     canon     42"
      ]
     },
     "execution_count": 32,
     "metadata": {},
     "output_type": "execute_result"
    }
   ],
   "source": [
    "# mencari top 10 produk untuk kategori produk printer\n",
    "indeks=data_brand['product_id'][data_brand.category_code=='computers.peripherals.printer'].value_counts().iloc[:10].index\n",
    "data_brand_2=data_brand[['product_id','category_code','brand']][data_brand.product_id.isin(indeks)].sort_values('product_id').value_counts().reset_index()\n",
    "data_brand_2=data_brand_2.rename(columns={0:'count'})\n",
    "data_brand_2=data_brand_2[['brand','count']]\n",
    "data_brand_2"
   ]
  },
  {
   "cell_type": "code",
   "execution_count": 33,
   "id": "fa9bb99c",
   "metadata": {
    "id": "fa9bb99c",
    "outputId": "7dc834cd-c2cf-40a6-9d12-8004fb2383ff"
   },
   "outputs": [
    {
     "data": {
      "text/plain": [
       "0.35549472037543994"
      ]
     },
     "execution_count": 33,
     "metadata": {},
     "output_type": "execute_result"
    }
   ],
   "source": [
    "# persentasi top 10 produk kategori printer\n",
    "data_brand_3=data_brand[data_brand.category_code=='computers.peripherals.printer']\n",
    "data_brand_2['count'].sum(axis=0)/len(data_brand_3)"
   ]
  },
  {
   "cell_type": "code",
   "execution_count": 34,
   "id": "3b6e5927",
   "metadata": {
    "id": "3b6e5927",
    "outputId": "64293a30-9197-4d84-fbd0-d721cedb6969"
   },
   "outputs": [
    {
     "data": {
      "text/plain": [
       "0.2182244818146265"
      ]
     },
     "execution_count": 34,
     "metadata": {},
     "output_type": "execute_result"
    }
   ],
   "source": [
    "# persentasi produk No Brand kategori produk printer\n",
    "len(data_brand_3[data_brand_3['brand']=='No Brand'])/len(data_brand_3)"
   ]
  },
  {
   "cell_type": "markdown",
   "id": "5ccfc211",
   "metadata": {
    "id": "5ccfc211"
   },
   "source": [
    "### Analisis <mark>brand</mark> produk notebook"
   ]
  },
  {
   "cell_type": "code",
   "execution_count": 35,
   "id": "570aeed5",
   "metadata": {
    "id": "570aeed5",
    "outputId": "1fec7a3a-db06-49ac-8445-753103d5ac35"
   },
   "outputs": [
    {
     "data": {
      "text/html": [
       "<div>\n",
       "<style scoped>\n",
       "    .dataframe tbody tr th:only-of-type {\n",
       "        vertical-align: middle;\n",
       "    }\n",
       "\n",
       "    .dataframe tbody tr th {\n",
       "        vertical-align: top;\n",
       "    }\n",
       "\n",
       "    .dataframe thead th {\n",
       "        text-align: right;\n",
       "    }\n",
       "</style>\n",
       "<table border=\"1\" class=\"dataframe\">\n",
       "  <thead>\n",
       "    <tr style=\"text-align: right;\">\n",
       "      <th></th>\n",
       "      <th>brand</th>\n",
       "      <th>count</th>\n",
       "    </tr>\n",
       "  </thead>\n",
       "  <tbody>\n",
       "    <tr>\n",
       "      <th>0</th>\n",
       "      <td>mobilepc</td>\n",
       "      <td>95</td>\n",
       "    </tr>\n",
       "    <tr>\n",
       "      <th>1</th>\n",
       "      <td>No Brand</td>\n",
       "      <td>46</td>\n",
       "    </tr>\n",
       "    <tr>\n",
       "      <th>2</th>\n",
       "      <td>topon</td>\n",
       "      <td>46</td>\n",
       "    </tr>\n",
       "    <tr>\n",
       "      <th>3</th>\n",
       "      <td>No Brand</td>\n",
       "      <td>34</td>\n",
       "    </tr>\n",
       "    <tr>\n",
       "      <th>4</th>\n",
       "      <td>No Brand</td>\n",
       "      <td>33</td>\n",
       "    </tr>\n",
       "    <tr>\n",
       "      <th>5</th>\n",
       "      <td>mobilepc</td>\n",
       "      <td>30</td>\n",
       "    </tr>\n",
       "    <tr>\n",
       "      <th>6</th>\n",
       "      <td>No Brand</td>\n",
       "      <td>24</td>\n",
       "    </tr>\n",
       "    <tr>\n",
       "      <th>7</th>\n",
       "      <td>pitatel</td>\n",
       "      <td>21</td>\n",
       "    </tr>\n",
       "    <tr>\n",
       "      <th>8</th>\n",
       "      <td>palmexx</td>\n",
       "      <td>19</td>\n",
       "    </tr>\n",
       "    <tr>\n",
       "      <th>9</th>\n",
       "      <td>mobilepc</td>\n",
       "      <td>18</td>\n",
       "    </tr>\n",
       "  </tbody>\n",
       "</table>\n",
       "</div>"
      ],
      "text/plain": [
       "      brand  count\n",
       "0  mobilepc     95\n",
       "1  No Brand     46\n",
       "2     topon     46\n",
       "3  No Brand     34\n",
       "4  No Brand     33\n",
       "5  mobilepc     30\n",
       "6  No Brand     24\n",
       "7   pitatel     21\n",
       "8   palmexx     19\n",
       "9  mobilepc     18"
      ]
     },
     "execution_count": 35,
     "metadata": {},
     "output_type": "execute_result"
    }
   ],
   "source": [
    "# mencari top 10 produk untuk kategori produk notebook\n",
    "indeks=data_brand['product_id'][data_brand.category_code=='computers.notebook'].value_counts().iloc[:10].index\n",
    "data_brand_2=data_brand[['product_id','category_code','brand']][data_brand.product_id.isin(indeks)].sort_values('product_id').value_counts().reset_index()\n",
    "data_brand_2=data_brand_2.rename(columns={0:'count'})\n",
    "data_brand_2=data_brand_2[['brand','count']]\n",
    "data_brand_2"
   ]
  },
  {
   "cell_type": "code",
   "execution_count": 36,
   "id": "b5c607bf",
   "metadata": {
    "id": "b5c607bf",
    "outputId": "bfac9ad9-7285-4c9c-d71f-39527371466a"
   },
   "outputs": [
    {
     "data": {
      "text/plain": [
       "0.28218966846569005"
      ]
     },
     "execution_count": 36,
     "metadata": {},
     "output_type": "execute_result"
    }
   ],
   "source": [
    "# persentasi top 10 produk kategori notebook\n",
    "data_brand_3=data_brand[data_brand.category_code=='computers.notebook']\n",
    "data_brand_2['count'].sum(axis=0)/len(data_brand_3)"
   ]
  },
  {
   "cell_type": "code",
   "execution_count": 37,
   "id": "155f9094",
   "metadata": {
    "id": "155f9094",
    "outputId": "ca36b544-1e52-4e6b-cf78-cdf8d566b8e1"
   },
   "outputs": [
    {
     "data": {
      "text/plain": [
       "0.28064764841942946"
      ]
     },
     "execution_count": 37,
     "metadata": {},
     "output_type": "execute_result"
    }
   ],
   "source": [
    "# persentasi produk No Brand kategori produk notebook\n",
    "len(data_brand_3[data_brand_3['brand']=='No Brand'])/len(data_brand_3)"
   ]
  },
  {
   "cell_type": "markdown",
   "id": "f7b66d85",
   "metadata": {
    "id": "f7b66d85"
   },
   "source": [
    "### Analisis <mark>brand</mark> produk motherboard"
   ]
  },
  {
   "cell_type": "code",
   "execution_count": 38,
   "id": "33050d7e",
   "metadata": {
    "id": "33050d7e",
    "outputId": "974d1e4a-8be5-4c11-ba2d-77a04ad039f0"
   },
   "outputs": [
    {
     "data": {
      "text/html": [
       "<div>\n",
       "<style scoped>\n",
       "    .dataframe tbody tr th:only-of-type {\n",
       "        vertical-align: middle;\n",
       "    }\n",
       "\n",
       "    .dataframe tbody tr th {\n",
       "        vertical-align: top;\n",
       "    }\n",
       "\n",
       "    .dataframe thead th {\n",
       "        text-align: right;\n",
       "    }\n",
       "</style>\n",
       "<table border=\"1\" class=\"dataframe\">\n",
       "  <thead>\n",
       "    <tr style=\"text-align: right;\">\n",
       "      <th></th>\n",
       "      <th>brand</th>\n",
       "      <th>count</th>\n",
       "    </tr>\n",
       "  </thead>\n",
       "  <tbody>\n",
       "    <tr>\n",
       "      <th>0</th>\n",
       "      <td>asrock</td>\n",
       "      <td>194</td>\n",
       "    </tr>\n",
       "    <tr>\n",
       "      <th>1</th>\n",
       "      <td>asus</td>\n",
       "      <td>187</td>\n",
       "    </tr>\n",
       "    <tr>\n",
       "      <th>2</th>\n",
       "      <td>asrock</td>\n",
       "      <td>125</td>\n",
       "    </tr>\n",
       "    <tr>\n",
       "      <th>3</th>\n",
       "      <td>asus</td>\n",
       "      <td>89</td>\n",
       "    </tr>\n",
       "    <tr>\n",
       "      <th>4</th>\n",
       "      <td>gigabyte</td>\n",
       "      <td>62</td>\n",
       "    </tr>\n",
       "    <tr>\n",
       "      <th>5</th>\n",
       "      <td>gigabyte</td>\n",
       "      <td>49</td>\n",
       "    </tr>\n",
       "    <tr>\n",
       "      <th>6</th>\n",
       "      <td>gigabyte</td>\n",
       "      <td>41</td>\n",
       "    </tr>\n",
       "    <tr>\n",
       "      <th>7</th>\n",
       "      <td>asrock</td>\n",
       "      <td>40</td>\n",
       "    </tr>\n",
       "    <tr>\n",
       "      <th>8</th>\n",
       "      <td>asus</td>\n",
       "      <td>36</td>\n",
       "    </tr>\n",
       "    <tr>\n",
       "      <th>9</th>\n",
       "      <td>asus</td>\n",
       "      <td>30</td>\n",
       "    </tr>\n",
       "  </tbody>\n",
       "</table>\n",
       "</div>"
      ],
      "text/plain": [
       "      brand  count\n",
       "0    asrock    194\n",
       "1      asus    187\n",
       "2    asrock    125\n",
       "3      asus     89\n",
       "4  gigabyte     62\n",
       "5  gigabyte     49\n",
       "6  gigabyte     41\n",
       "7    asrock     40\n",
       "8      asus     36\n",
       "9      asus     30"
      ]
     },
     "execution_count": 38,
     "metadata": {},
     "output_type": "execute_result"
    }
   ],
   "source": [
    "# mencari top 10 produk untuk kategori produk motherboard\n",
    "indeks=data_brand['product_id'][data_brand.category_code=='computers.components.motherboard'].value_counts().iloc[:10].index\n",
    "data_brand_2=data_brand[['product_id','category_code','brand']][data_brand.product_id.isin(indeks)].sort_values('product_id').value_counts().reset_index()\n",
    "data_brand_2=data_brand_2.rename(columns={0:'count'})\n",
    "data_brand_2=data_brand_2[['brand','count']]\n",
    "data_brand_2"
   ]
  },
  {
   "cell_type": "code",
   "execution_count": 39,
   "id": "28baffad",
   "metadata": {
    "id": "28baffad",
    "outputId": "ac863ddb-8024-4338-bc54-24e329de5437"
   },
   "outputs": [
    {
     "data": {
      "text/plain": [
       "0.6737756714060031"
      ]
     },
     "execution_count": 39,
     "metadata": {},
     "output_type": "execute_result"
    }
   ],
   "source": [
    "# persentasi top 10 produk kategori motherboard\n",
    "data_brand_3=data_brand[data_brand.category_code=='computers.components.motherboard']\n",
    "data_brand_2['count'].sum(axis=0)/len(data_brand_3)"
   ]
  },
  {
   "cell_type": "code",
   "execution_count": 40,
   "id": "481c54ca",
   "metadata": {
    "id": "481c54ca",
    "outputId": "a2a3eaed-49a1-4b83-d27e-360ae38d160f"
   },
   "outputs": [
    {
     "data": {
      "text/plain": [
       "0.0"
      ]
     },
     "execution_count": 40,
     "metadata": {},
     "output_type": "execute_result"
    }
   ],
   "source": [
    "# persentasi produk No Brand kategori produk motherboard\n",
    "len(data_brand_3[data_brand_3['brand']=='No Brand'])/len(data_brand_3)"
   ]
  },
  {
   "cell_type": "markdown",
   "id": "c4e02ae3",
   "metadata": {
    "id": "c4e02ae3"
   },
   "source": [
    "### Analisis <mark>brand</mark> produk cpu"
   ]
  },
  {
   "cell_type": "code",
   "execution_count": 41,
   "id": "bf570f55",
   "metadata": {
    "id": "bf570f55",
    "outputId": "b1a98483-8426-475d-c0dd-4c53be5a5e8f"
   },
   "outputs": [
    {
     "data": {
      "text/html": [
       "<div>\n",
       "<style scoped>\n",
       "    .dataframe tbody tr th:only-of-type {\n",
       "        vertical-align: middle;\n",
       "    }\n",
       "\n",
       "    .dataframe tbody tr th {\n",
       "        vertical-align: top;\n",
       "    }\n",
       "\n",
       "    .dataframe thead th {\n",
       "        text-align: right;\n",
       "    }\n",
       "</style>\n",
       "<table border=\"1\" class=\"dataframe\">\n",
       "  <thead>\n",
       "    <tr style=\"text-align: right;\">\n",
       "      <th></th>\n",
       "      <th>brand</th>\n",
       "      <th>count</th>\n",
       "    </tr>\n",
       "  </thead>\n",
       "  <tbody>\n",
       "    <tr>\n",
       "      <th>0</th>\n",
       "      <td>amd</td>\n",
       "      <td>423</td>\n",
       "    </tr>\n",
       "    <tr>\n",
       "      <th>1</th>\n",
       "      <td>amd</td>\n",
       "      <td>96</td>\n",
       "    </tr>\n",
       "    <tr>\n",
       "      <th>2</th>\n",
       "      <td>amd</td>\n",
       "      <td>79</td>\n",
       "    </tr>\n",
       "    <tr>\n",
       "      <th>3</th>\n",
       "      <td>amd</td>\n",
       "      <td>69</td>\n",
       "    </tr>\n",
       "    <tr>\n",
       "      <th>4</th>\n",
       "      <td>intel</td>\n",
       "      <td>58</td>\n",
       "    </tr>\n",
       "    <tr>\n",
       "      <th>5</th>\n",
       "      <td>amd</td>\n",
       "      <td>56</td>\n",
       "    </tr>\n",
       "    <tr>\n",
       "      <th>6</th>\n",
       "      <td>amd</td>\n",
       "      <td>32</td>\n",
       "    </tr>\n",
       "    <tr>\n",
       "      <th>7</th>\n",
       "      <td>amd</td>\n",
       "      <td>29</td>\n",
       "    </tr>\n",
       "    <tr>\n",
       "      <th>8</th>\n",
       "      <td>amd</td>\n",
       "      <td>27</td>\n",
       "    </tr>\n",
       "    <tr>\n",
       "      <th>9</th>\n",
       "      <td>amd</td>\n",
       "      <td>26</td>\n",
       "    </tr>\n",
       "  </tbody>\n",
       "</table>\n",
       "</div>"
      ],
      "text/plain": [
       "   brand  count\n",
       "0    amd    423\n",
       "1    amd     96\n",
       "2    amd     79\n",
       "3    amd     69\n",
       "4  intel     58\n",
       "5    amd     56\n",
       "6    amd     32\n",
       "7    amd     29\n",
       "8    amd     27\n",
       "9    amd     26"
      ]
     },
     "execution_count": 41,
     "metadata": {},
     "output_type": "execute_result"
    }
   ],
   "source": [
    "# mencari top 10 produk untuk kategori produk cpu\n",
    "indeks=data_brand['product_id'][data_brand.category_code=='computers.components.cpu'].value_counts().iloc[:10].index\n",
    "data_brand_2=data_brand[['product_id','category_code','brand']][data_brand.product_id.isin(indeks)].sort_values('product_id').value_counts().reset_index()\n",
    "data_brand_2=data_brand_2.rename(columns={0:'count'})\n",
    "data_brand_2=data_brand_2[['brand','count']]\n",
    "data_brand_2"
   ]
  },
  {
   "cell_type": "code",
   "execution_count": 42,
   "id": "058802d5",
   "metadata": {
    "id": "058802d5",
    "outputId": "0d056ae5-80aa-4883-d39e-596828399a2b"
   },
   "outputs": [
    {
     "data": {
      "text/plain": [
       "0.7378400659521847"
      ]
     },
     "execution_count": 42,
     "metadata": {},
     "output_type": "execute_result"
    }
   ],
   "source": [
    "# persentasi top 10 produk kategori cpu\n",
    "data_brand_3=data_brand[data_brand.category_code=='computers.components.cpu']\n",
    "data_brand_2['count'].sum(axis=0)/len(data_brand_3)"
   ]
  },
  {
   "cell_type": "code",
   "execution_count": 43,
   "id": "ebd2061c",
   "metadata": {
    "id": "ebd2061c",
    "outputId": "a127fff6-344e-4403-e301-4cb0b6a22e85"
   },
   "outputs": [
    {
     "data": {
      "text/plain": [
       "0.0"
      ]
     },
     "execution_count": 43,
     "metadata": {},
     "output_type": "execute_result"
    }
   ],
   "source": [
    "# persentasi produk No Brand kategori produk cpu\n",
    "len(data_brand_3[data_brand_3['brand']=='No Brand'])/len(data_brand_3)"
   ]
  },
  {
   "cell_type": "markdown",
   "id": "dc664413",
   "metadata": {
    "id": "dc664413"
   },
   "source": [
    "### Analisis <mark>brand</mark> produk acoustic audio"
   ]
  },
  {
   "cell_type": "code",
   "execution_count": 44,
   "id": "a1e12893",
   "metadata": {
    "id": "a1e12893",
    "outputId": "310b9b08-00b5-41eb-be7b-0178a5a0ef5b"
   },
   "outputs": [
    {
     "data": {
      "text/html": [
       "<div>\n",
       "<style scoped>\n",
       "    .dataframe tbody tr th:only-of-type {\n",
       "        vertical-align: middle;\n",
       "    }\n",
       "\n",
       "    .dataframe tbody tr th {\n",
       "        vertical-align: top;\n",
       "    }\n",
       "\n",
       "    .dataframe thead th {\n",
       "        text-align: right;\n",
       "    }\n",
       "</style>\n",
       "<table border=\"1\" class=\"dataframe\">\n",
       "  <thead>\n",
       "    <tr style=\"text-align: right;\">\n",
       "      <th></th>\n",
       "      <th>brand</th>\n",
       "      <th>count</th>\n",
       "    </tr>\n",
       "  </thead>\n",
       "  <tbody>\n",
       "    <tr>\n",
       "      <th>0</th>\n",
       "      <td>edifier</td>\n",
       "      <td>76</td>\n",
       "    </tr>\n",
       "    <tr>\n",
       "      <th>1</th>\n",
       "      <td>edifier</td>\n",
       "      <td>61</td>\n",
       "    </tr>\n",
       "    <tr>\n",
       "      <th>2</th>\n",
       "      <td>edifier</td>\n",
       "      <td>43</td>\n",
       "    </tr>\n",
       "    <tr>\n",
       "      <th>3</th>\n",
       "      <td>jbl</td>\n",
       "      <td>33</td>\n",
       "    </tr>\n",
       "    <tr>\n",
       "      <th>4</th>\n",
       "      <td>edifier</td>\n",
       "      <td>30</td>\n",
       "    </tr>\n",
       "    <tr>\n",
       "      <th>5</th>\n",
       "      <td>pioneer</td>\n",
       "      <td>19</td>\n",
       "    </tr>\n",
       "    <tr>\n",
       "      <th>6</th>\n",
       "      <td>morel</td>\n",
       "      <td>19</td>\n",
       "    </tr>\n",
       "    <tr>\n",
       "      <th>7</th>\n",
       "      <td>pioneer</td>\n",
       "      <td>19</td>\n",
       "    </tr>\n",
       "    <tr>\n",
       "      <th>8</th>\n",
       "      <td>dialog</td>\n",
       "      <td>17</td>\n",
       "    </tr>\n",
       "    <tr>\n",
       "      <th>9</th>\n",
       "      <td>edifier</td>\n",
       "      <td>17</td>\n",
       "    </tr>\n",
       "  </tbody>\n",
       "</table>\n",
       "</div>"
      ],
      "text/plain": [
       "     brand  count\n",
       "0  edifier     76\n",
       "1  edifier     61\n",
       "2  edifier     43\n",
       "3      jbl     33\n",
       "4  edifier     30\n",
       "5  pioneer     19\n",
       "6    morel     19\n",
       "7  pioneer     19\n",
       "8   dialog     17\n",
       "9  edifier     17"
      ]
     },
     "execution_count": 44,
     "metadata": {},
     "output_type": "execute_result"
    }
   ],
   "source": [
    "# mencari top 10 produk untuk kategori produk acoustic audio\n",
    "indeks=data_brand['product_id'][data_brand.category_code=='electronics.audio.acoustic'].value_counts().iloc[:10].index\n",
    "data_brand_2=data_brand[['product_id','category_code','brand']][data_brand.product_id.isin(indeks)].sort_values('product_id').value_counts().reset_index()\n",
    "data_brand_2=data_brand_2.rename(columns={0:'count'})\n",
    "data_brand_2=data_brand_2[['brand','count']]\n",
    "data_brand_2"
   ]
  },
  {
   "cell_type": "code",
   "execution_count": 45,
   "id": "98eab0c1",
   "metadata": {
    "id": "98eab0c1",
    "outputId": "2a35e772-ddac-45ec-e742-71782141dd46"
   },
   "outputs": [
    {
     "data": {
      "text/plain": [
       "0.3938679245283019"
      ]
     },
     "execution_count": 45,
     "metadata": {},
     "output_type": "execute_result"
    }
   ],
   "source": [
    "# persentasi top 10 produk kategori acoustic audio\n",
    "data_brand_3=data_brand[data_brand.category_code=='electronics.audio.acoustic']\n",
    "data_brand_2['count'].sum(axis=0)/len(data_brand_3)"
   ]
  },
  {
   "cell_type": "code",
   "execution_count": 46,
   "id": "33a44214",
   "metadata": {
    "id": "33a44214",
    "outputId": "b238e44b-efd8-477f-d663-1c1890957761"
   },
   "outputs": [
    {
     "data": {
      "text/plain": [
       "0.036556603773584904"
      ]
     },
     "execution_count": 46,
     "metadata": {},
     "output_type": "execute_result"
    }
   ],
   "source": [
    "# persentasi produk No Brand kategori produk acoustic audio\n",
    "len(data_brand_3[data_brand_3['brand']=='No Brand'])/len(data_brand_3)"
   ]
  },
  {
   "cell_type": "markdown",
   "id": "9cf68ef5",
   "metadata": {
    "id": "9cf68ef5"
   },
   "source": [
    "### Analisis <mark>brand</mark> produk tablet"
   ]
  },
  {
   "cell_type": "code",
   "execution_count": 47,
   "id": "6c64e7b9",
   "metadata": {
    "id": "6c64e7b9",
    "outputId": "3e128bef-097d-4220-ee4f-2c6de110a11e"
   },
   "outputs": [
    {
     "data": {
      "text/html": [
       "<div>\n",
       "<style scoped>\n",
       "    .dataframe tbody tr th:only-of-type {\n",
       "        vertical-align: middle;\n",
       "    }\n",
       "\n",
       "    .dataframe tbody tr th {\n",
       "        vertical-align: top;\n",
       "    }\n",
       "\n",
       "    .dataframe thead th {\n",
       "        text-align: right;\n",
       "    }\n",
       "</style>\n",
       "<table border=\"1\" class=\"dataframe\">\n",
       "  <thead>\n",
       "    <tr style=\"text-align: right;\">\n",
       "      <th></th>\n",
       "      <th>brand</th>\n",
       "      <th>count</th>\n",
       "    </tr>\n",
       "  </thead>\n",
       "  <tbody>\n",
       "    <tr>\n",
       "      <th>0</th>\n",
       "      <td>samsung</td>\n",
       "      <td>67</td>\n",
       "    </tr>\n",
       "    <tr>\n",
       "      <th>1</th>\n",
       "      <td>xiaomi</td>\n",
       "      <td>58</td>\n",
       "    </tr>\n",
       "    <tr>\n",
       "      <th>2</th>\n",
       "      <td>irbis</td>\n",
       "      <td>40</td>\n",
       "    </tr>\n",
       "    <tr>\n",
       "      <th>3</th>\n",
       "      <td>digma</td>\n",
       "      <td>34</td>\n",
       "    </tr>\n",
       "    <tr>\n",
       "      <th>4</th>\n",
       "      <td>samsung</td>\n",
       "      <td>31</td>\n",
       "    </tr>\n",
       "    <tr>\n",
       "      <th>5</th>\n",
       "      <td>samsung</td>\n",
       "      <td>28</td>\n",
       "    </tr>\n",
       "    <tr>\n",
       "      <th>6</th>\n",
       "      <td>samsung</td>\n",
       "      <td>24</td>\n",
       "    </tr>\n",
       "    <tr>\n",
       "      <th>7</th>\n",
       "      <td>samsung</td>\n",
       "      <td>16</td>\n",
       "    </tr>\n",
       "    <tr>\n",
       "      <th>8</th>\n",
       "      <td>samsung</td>\n",
       "      <td>15</td>\n",
       "    </tr>\n",
       "    <tr>\n",
       "      <th>9</th>\n",
       "      <td>No Brand</td>\n",
       "      <td>14</td>\n",
       "    </tr>\n",
       "  </tbody>\n",
       "</table>\n",
       "</div>"
      ],
      "text/plain": [
       "      brand  count\n",
       "0   samsung     67\n",
       "1    xiaomi     58\n",
       "2     irbis     40\n",
       "3     digma     34\n",
       "4   samsung     31\n",
       "5   samsung     28\n",
       "6   samsung     24\n",
       "7   samsung     16\n",
       "8   samsung     15\n",
       "9  No Brand     14"
      ]
     },
     "execution_count": 47,
     "metadata": {},
     "output_type": "execute_result"
    }
   ],
   "source": [
    "# mencari top 10 produk untuk kategori produk tablet\n",
    "indeks=data_brand['product_id'][data_brand.category_code=='electronics.tablet'].value_counts().iloc[:10].index\n",
    "data_brand_2=data_brand[['product_id','category_code','brand']][data_brand.product_id.isin(indeks)].sort_values('product_id').value_counts().reset_index()\n",
    "data_brand_2=data_brand_2.rename(columns={0:'count'})\n",
    "data_brand_2=data_brand_2[['brand','count']]\n",
    "data_brand_2"
   ]
  },
  {
   "cell_type": "code",
   "execution_count": 48,
   "id": "92cfc0dc",
   "metadata": {
    "id": "92cfc0dc",
    "outputId": "24fadfa4-16a0-4e44-950a-7d19ae654cbe"
   },
   "outputs": [
    {
     "data": {
      "text/plain": [
       "0.3992673992673993"
      ]
     },
     "execution_count": 48,
     "metadata": {},
     "output_type": "execute_result"
    }
   ],
   "source": [
    "# persentasi top 10 produk kategori tablet\n",
    "data_brand_3=data_brand[data_brand.category_code=='electronics.tablet']\n",
    "data_brand_2['count'].sum(axis=0)/len(data_brand_3)"
   ]
  },
  {
   "cell_type": "code",
   "execution_count": 49,
   "id": "ca51f62d",
   "metadata": {
    "id": "ca51f62d",
    "outputId": "a4b5c4ec-5a43-4b6b-ffd1-7fa42c053274"
   },
   "outputs": [
    {
     "data": {
      "text/plain": [
       "0.3492063492063492"
      ]
     },
     "execution_count": 49,
     "metadata": {},
     "output_type": "execute_result"
    }
   ],
   "source": [
    "# persentasi produk No Brand kategori produk tablet\n",
    "len(data_brand_3[data_brand_3['brand']=='No Brand'])/len(data_brand_3)"
   ]
  },
  {
   "cell_type": "markdown",
   "id": "92930a18",
   "metadata": {
    "id": "92930a18"
   },
   "source": [
    "### Analisis <mark>brand</mark> produk auto accessories player"
   ]
  },
  {
   "cell_type": "code",
   "execution_count": 50,
   "id": "4d660b9f",
   "metadata": {
    "id": "4d660b9f",
    "outputId": "25bc9fc5-5209-4473-bad5-a5bd04d25352"
   },
   "outputs": [
    {
     "data": {
      "text/html": [
       "<div>\n",
       "<style scoped>\n",
       "    .dataframe tbody tr th:only-of-type {\n",
       "        vertical-align: middle;\n",
       "    }\n",
       "\n",
       "    .dataframe tbody tr th {\n",
       "        vertical-align: top;\n",
       "    }\n",
       "\n",
       "    .dataframe thead th {\n",
       "        text-align: right;\n",
       "    }\n",
       "</style>\n",
       "<table border=\"1\" class=\"dataframe\">\n",
       "  <thead>\n",
       "    <tr style=\"text-align: right;\">\n",
       "      <th></th>\n",
       "      <th>brand</th>\n",
       "      <th>count</th>\n",
       "    </tr>\n",
       "  </thead>\n",
       "  <tbody>\n",
       "    <tr>\n",
       "      <th>0</th>\n",
       "      <td>pioneer</td>\n",
       "      <td>180</td>\n",
       "    </tr>\n",
       "    <tr>\n",
       "      <th>1</th>\n",
       "      <td>kenwood</td>\n",
       "      <td>68</td>\n",
       "    </tr>\n",
       "    <tr>\n",
       "      <th>2</th>\n",
       "      <td>pioneer</td>\n",
       "      <td>50</td>\n",
       "    </tr>\n",
       "    <tr>\n",
       "      <th>3</th>\n",
       "      <td>kenwood</td>\n",
       "      <td>32</td>\n",
       "    </tr>\n",
       "    <tr>\n",
       "      <th>4</th>\n",
       "      <td>jvc</td>\n",
       "      <td>31</td>\n",
       "    </tr>\n",
       "    <tr>\n",
       "      <th>5</th>\n",
       "      <td>pioneer</td>\n",
       "      <td>26</td>\n",
       "    </tr>\n",
       "    <tr>\n",
       "      <th>6</th>\n",
       "      <td>alpine</td>\n",
       "      <td>21</td>\n",
       "    </tr>\n",
       "    <tr>\n",
       "      <th>7</th>\n",
       "      <td>sony</td>\n",
       "      <td>21</td>\n",
       "    </tr>\n",
       "    <tr>\n",
       "      <th>8</th>\n",
       "      <td>jvc</td>\n",
       "      <td>19</td>\n",
       "    </tr>\n",
       "    <tr>\n",
       "      <th>9</th>\n",
       "      <td>prology</td>\n",
       "      <td>12</td>\n",
       "    </tr>\n",
       "  </tbody>\n",
       "</table>\n",
       "</div>"
      ],
      "text/plain": [
       "     brand  count\n",
       "0  pioneer    180\n",
       "1  kenwood     68\n",
       "2  pioneer     50\n",
       "3  kenwood     32\n",
       "4      jvc     31\n",
       "5  pioneer     26\n",
       "6   alpine     21\n",
       "7     sony     21\n",
       "8      jvc     19\n",
       "9  prology     12"
      ]
     },
     "execution_count": 50,
     "metadata": {},
     "output_type": "execute_result"
    }
   ],
   "source": [
    "# mencari top 10 produk untuk kategori produk auto accessories player\n",
    "indeks=data_brand['product_id'][data_brand.category_code=='auto.accessories.player'].value_counts().iloc[:10].index\n",
    "data_brand_2=data_brand[['product_id','category_code','brand']][data_brand.product_id.isin(indeks)].sort_values('product_id').value_counts().reset_index()\n",
    "data_brand_2=data_brand_2.rename(columns={0:'count'})\n",
    "data_brand_2=data_brand_2[['brand','count']]\n",
    "data_brand_2"
   ]
  },
  {
   "cell_type": "code",
   "execution_count": 51,
   "id": "da0d2882",
   "metadata": {
    "id": "da0d2882",
    "outputId": "bb014ee1-c00c-40a6-bd85-1a118e3a4f14"
   },
   "outputs": [
    {
     "data": {
      "text/plain": [
       "0.6715328467153284"
      ]
     },
     "execution_count": 51,
     "metadata": {},
     "output_type": "execute_result"
    }
   ],
   "source": [
    "# persentasi top 10 produk kategori auto accessories player\n",
    "data_brand_3=data_brand[data_brand.category_code=='auto.accessories.player']\n",
    "data_brand_2['count'].sum(axis=0)/len(data_brand_3)"
   ]
  },
  {
   "cell_type": "code",
   "execution_count": 52,
   "id": "ae8afcdd",
   "metadata": {
    "id": "ae8afcdd",
    "outputId": "ac152388-21fd-4dd0-90de-42c7ab8bb961"
   },
   "outputs": [
    {
     "data": {
      "text/plain": [
       "0.0"
      ]
     },
     "execution_count": 52,
     "metadata": {},
     "output_type": "execute_result"
    }
   ],
   "source": [
    "# persentasi produk No Brand kategori produk auto accessories player\n",
    "len(data_brand_3[data_brand_3['brand']=='No Brand'])/len(data_brand_3)"
   ]
  },
  {
   "cell_type": "markdown",
   "id": "7dac6caf",
   "metadata": {},
   "source": [
    "### Kesimpulan analisis brand dari top 10 produk"
   ]
  },
  {
   "cell_type": "code",
   "execution_count": 53,
   "id": "f353d383",
   "metadata": {},
   "outputs": [
    {
     "data": {
      "text/html": [
       "<div>\n",
       "<style scoped>\n",
       "    .dataframe tbody tr th:only-of-type {\n",
       "        vertical-align: middle;\n",
       "    }\n",
       "\n",
       "    .dataframe tbody tr th {\n",
       "        vertical-align: top;\n",
       "    }\n",
       "\n",
       "    .dataframe thead th {\n",
       "        text-align: right;\n",
       "    }\n",
       "</style>\n",
       "<table border=\"1\" class=\"dataframe\">\n",
       "  <thead>\n",
       "    <tr style=\"text-align: right;\">\n",
       "      <th></th>\n",
       "      <th>Top 3 Brand</th>\n",
       "      <th>Persentase No Brand</th>\n",
       "    </tr>\n",
       "  </thead>\n",
       "  <tbody>\n",
       "    <tr>\n",
       "      <th>videocards</th>\n",
       "      <td>gigabyte, No Brand, sapphire</td>\n",
       "      <td>10%</td>\n",
       "    </tr>\n",
       "    <tr>\n",
       "      <th>telephone</th>\n",
       "      <td>No Brand, sirius, No Brand</td>\n",
       "      <td>61%</td>\n",
       "    </tr>\n",
       "    <tr>\n",
       "      <th>cartrige</th>\n",
       "      <td>hp, canon, nv-print</td>\n",
       "      <td>33%</td>\n",
       "    </tr>\n",
       "    <tr>\n",
       "      <th>printer</th>\n",
       "      <td>canon, pantum, canon</td>\n",
       "      <td>22%</td>\n",
       "    </tr>\n",
       "    <tr>\n",
       "      <th>notebook</th>\n",
       "      <td>mobilepc, No Brand, topon</td>\n",
       "      <td>28%</td>\n",
       "    </tr>\n",
       "    <tr>\n",
       "      <th>motherboard</th>\n",
       "      <td>asrock, asus, asrock</td>\n",
       "      <td>0%</td>\n",
       "    </tr>\n",
       "    <tr>\n",
       "      <th>cpu</th>\n",
       "      <td>amd, amd, amd</td>\n",
       "      <td>0%</td>\n",
       "    </tr>\n",
       "    <tr>\n",
       "      <th>acoustic audio</th>\n",
       "      <td>edifer, edifer, edifer</td>\n",
       "      <td>4%</td>\n",
       "    </tr>\n",
       "    <tr>\n",
       "      <th>tablet</th>\n",
       "      <td>samsung, xiaomi, irbis</td>\n",
       "      <td>35%</td>\n",
       "    </tr>\n",
       "    <tr>\n",
       "      <th>player (auto accessories)</th>\n",
       "      <td>pioneer, kenwood, pioneer</td>\n",
       "      <td>0%</td>\n",
       "    </tr>\n",
       "  </tbody>\n",
       "</table>\n",
       "</div>"
      ],
      "text/plain": [
       "                                            Top 3 Brand Persentase No Brand\n",
       "videocards                 gigabyte, No Brand, sapphire                 10%\n",
       "telephone                    No Brand, sirius, No Brand                 61%\n",
       "cartrige                            hp, canon, nv-print                 33%\n",
       "printer                            canon, pantum, canon                 22%\n",
       "notebook                      mobilepc, No Brand, topon                 28%\n",
       "motherboard                        asrock, asus, asrock                  0%\n",
       "cpu                                       amd, amd, amd                  0%\n",
       "acoustic audio                   edifer, edifer, edifer                  4%\n",
       "tablet                           samsung, xiaomi, irbis                 35%\n",
       "player (auto accessories)     pioneer, kenwood, pioneer                  0%"
      ]
     },
     "execution_count": 53,
     "metadata": {},
     "output_type": "execute_result"
    }
   ],
   "source": [
    "# membuat tabel kesimpulan analisis brand dari top 10 produk\n",
    "brand_top_10_produk = pd.DataFrame(np.array([['gigabyte, No Brand, sapphire','10%']\n",
    "                                             ,['No Brand, sirius, No Brand',  '61%']\n",
    "                                             ,['hp, canon, nv-print','33%']\n",
    "                                             ,['canon, pantum, canon','22%']\n",
    "                                             ,['mobilepc, No Brand, topon', '28%']\n",
    "                                             ,['asrock, asus, asrock', '0%']\n",
    "                                             ,['amd, amd, amd', '0%']\n",
    "                                             ,['edifer, edifer, edifer', '4%']\n",
    "                                             ,['samsung, xiaomi, irbis', '35%']\n",
    "                                             ,['pioneer, kenwood, pioneer', '0%']\n",
    "                                            ])\n",
    "                                      ,columns=['Top 3 Brand','Persentase No Brand']\n",
    "                                      ,index=['videocards','telephone','cartrige','printer','notebook','motherboard',\n",
    "                                              'cpu', 'acoustic audio','tablet',  'player (auto accessories)'])\n",
    "brand_top_10_produk                                            "
   ]
  },
  {
   "cell_type": "markdown",
   "id": "1bc6fe0b",
   "metadata": {},
   "source": [
    "__Observasi:__\n",
    "1. Tiga brand untuk tiap tiga produk teratas di tiap kategori bisa dilihat dalam tabel diatas dan persentase produk yang tidak punya brand bisa dilihat di kolom berikutnya.\n",
    "2. No Brand maksudnya adalah brand produk tersebut belum terdaftar di toko online, bisa jadi karena brand tersebut adalah brand baru.\n",
    "3. Kategori produk yang persentase No Brand-nya tinggi menunjukkan pembeli di kategori tersebut tidak terlalu mementingkan brand terkenal dalam pembelian produknya.\n",
    "4. Tiap kategori produk tidak menunjukkan hanya satu jenis produk, contohnya adalah brand topon pada kategori notebook yang fokus dalam menjual baterai notebook, bukan notebook."
   ]
  },
  {
   "cell_type": "markdown",
   "id": "f96d0dcc",
   "metadata": {
    "id": "f96d0dcc"
   },
   "source": [
    "## Analisis kolom <mark>price</mark>"
   ]
  },
  {
   "cell_type": "markdown",
   "id": "081c231c",
   "metadata": {
    "id": "081c231c"
   },
   "source": [
    "Sayangnya satuan harga tiap produk tidak dicantumkan dalam data maupun [website penyedia data](https://www.kaggle.com/datasets/mkechinov/ecommerce-events-history-in-electronics-store?resource=download) tersebut, namun bila dilihat dari harga tiap barangnya, bisa diperkirakan bahwa satuan harga yang digunakan adalah USD. "
   ]
  },
  {
   "cell_type": "code",
   "execution_count": 54,
   "id": "e354049b",
   "metadata": {
    "id": "e354049b",
    "outputId": "4c474aa1-9eee-4c35-a168-8709d5e32792"
   },
   "outputs": [
    {
     "data": {
      "text/plain": [
       "0"
      ]
     },
     "execution_count": 54,
     "metadata": {},
     "output_type": "execute_result"
    }
   ],
   "source": [
    "# melihat apakah ada data kolom price yang missing value\n",
    "data['price'].isnull().sum()"
   ]
  },
  {
   "cell_type": "code",
   "execution_count": 55,
   "id": "7a4147ed",
   "metadata": {
    "id": "7a4147ed",
    "outputId": "b9b7f306-075b-40da-a8d4-9be94f91f6ab"
   },
   "outputs": [
    {
     "data": {
      "text/html": [
       "<div>\n",
       "<style scoped>\n",
       "    .dataframe tbody tr th:only-of-type {\n",
       "        vertical-align: middle;\n",
       "    }\n",
       "\n",
       "    .dataframe tbody tr th {\n",
       "        vertical-align: top;\n",
       "    }\n",
       "\n",
       "    .dataframe thead th {\n",
       "        text-align: right;\n",
       "    }\n",
       "</style>\n",
       "<table border=\"1\" class=\"dataframe\">\n",
       "  <thead>\n",
       "    <tr style=\"text-align: right;\">\n",
       "      <th></th>\n",
       "      <th>user_id</th>\n",
       "      <th>user_session</th>\n",
       "      <th>product_id</th>\n",
       "      <th>category_code</th>\n",
       "      <th>price</th>\n",
       "      <th>brand</th>\n",
       "      <th>event_type</th>\n",
       "      <th>event_time</th>\n",
       "    </tr>\n",
       "  </thead>\n",
       "  <tbody>\n",
       "    <tr>\n",
       "      <th>0</th>\n",
       "      <td>1515915625519390468</td>\n",
       "      <td>xn6SHCnZtk</td>\n",
       "      <td>1507291</td>\n",
       "      <td>computers.components.power_supply</td>\n",
       "      <td>217.57</td>\n",
       "      <td>supermicro</td>\n",
       "      <td>purchase</td>\n",
       "      <td>2020-09-24 12:04:10 UTC</td>\n",
       "    </tr>\n",
       "    <tr>\n",
       "      <th>1</th>\n",
       "      <td>1515915625513574486</td>\n",
       "      <td>2gngxS29Ts</td>\n",
       "      <td>822426</td>\n",
       "      <td>computers.peripherals.camera</td>\n",
       "      <td>123.35</td>\n",
       "      <td>logitech</td>\n",
       "      <td>purchase</td>\n",
       "      <td>2020-09-24 12:15:06 UTC</td>\n",
       "    </tr>\n",
       "    <tr>\n",
       "      <th>2</th>\n",
       "      <td>1515915625518130982</td>\n",
       "      <td>3yFCkx2KKW</td>\n",
       "      <td>4060928</td>\n",
       "      <td>electronics.video.tv</td>\n",
       "      <td>89.22</td>\n",
       "      <td>No Brand</td>\n",
       "      <td>purchase</td>\n",
       "      <td>2020-09-24 12:19:01 UTC</td>\n",
       "    </tr>\n",
       "  </tbody>\n",
       "</table>\n",
       "</div>"
      ],
      "text/plain": [
       "               user_id user_session  product_id  \\\n",
       "0  1515915625519390468   xn6SHCnZtk     1507291   \n",
       "1  1515915625513574486   2gngxS29Ts      822426   \n",
       "2  1515915625518130982   3yFCkx2KKW     4060928   \n",
       "\n",
       "                       category_code   price       brand event_type  \\\n",
       "0  computers.components.power_supply  217.57  supermicro   purchase   \n",
       "1       computers.peripherals.camera  123.35    logitech   purchase   \n",
       "2               electronics.video.tv   89.22    No Brand   purchase   \n",
       "\n",
       "                event_time  \n",
       "0  2020-09-24 12:04:10 UTC  \n",
       "1  2020-09-24 12:15:06 UTC  \n",
       "2  2020-09-24 12:19:01 UTC  "
      ]
     },
     "execution_count": 55,
     "metadata": {},
     "output_type": "execute_result"
    }
   ],
   "source": [
    "# persiapkan data_price yang akan di analisis\n",
    "data_price=data.copy()\n",
    "data_price=data_price[data_price['event_type']=='purchase'].reset_index(drop=True)\n",
    "data_price.head(3)"
   ]
  },
  {
   "cell_type": "code",
   "execution_count": 56,
   "id": "5d101edc",
   "metadata": {
    "id": "5d101edc",
    "outputId": "cb146973-eaa8-4d65-e610-bc69bb115ec4"
   },
   "outputs": [
    {
     "data": {
      "image/png": "[encoded data removed]",
      "text/plain": [
       "<Figure size 1080x576 with 1 Axes>"
      ]
     },
     "metadata": {
      "needs_background": "light"
     },
     "output_type": "display_data"
    }
   ],
   "source": [
    "# melihat persebaran harga barang yang dibeli\n",
    "plt.figure(figsize=(15,8))\n",
    "ax = sns.boxplot(data=data_price,x='price')\n",
    "plt.show()\n"
   ]
  },
  {
   "cell_type": "code",
   "execution_count": 57,
   "id": "bb970bcf",
   "metadata": {
    "id": "bb970bcf",
    "outputId": "39f513d9-8cc3-4618-fbc6-715612083d6e"
   },
   "outputs": [
    {
     "data": {
      "image/png": "[encoded data removed]",
      "text/plain": [
       "<Figure size 1200x800 with 1 Axes>"
      ]
     },
     "metadata": {
      "needs_background": "light"
     },
     "output_type": "display_data"
    }
   ],
   "source": [
    "# melihat persebaran harga untuk 10 kategori produk yang paling banyak di beli\n",
    "category_10=data_price['category_code'].value_counts().head(10).reset_index()\n",
    "category_10_list=[]\n",
    "for i in range(0,len(category_10)):\n",
    "    category_10_list+=[category_10.iloc[i][0]]\n",
    "\n",
    "plt.figure(figsize=(12,8),dpi=100)\n",
    "data_price_10=data_price[data_price['category_code'].isin(category_10_list)]\n",
    "data_price_10p=pd.pivot_table(data=data_price_10,values='price',columns=['category_code'],index=['user_id','user_session','product_id','event_time'])\n",
    "index_sort=data_price_10p.median().sort_values().index\n",
    "data_price_10p=data_price_10p[index_sort]\n",
    "\n",
    "ax=sns.boxplot(data=data_price_10p,orient='h')\n",
    "plt.show()"
   ]
  },
  {
   "cell_type": "markdown",
   "id": "7c232408",
   "metadata": {
    "id": "7c232408"
   },
   "source": [
    "__observasi:__ Untuk 10 kategori produk terpopuler, bisa dilihat bahwa kebanyakan produk yang dibeli adalah barang yang harganya cukup murah jika dibandingkan dengan rentang harga paling mahal barang tersebut. Analisis lebih dalam dilakukan pada analisis berikutnya yaitu analisis <mark>price</mark> untuk top 10 kategori produk."
   ]
  },
  {
   "cell_type": "markdown",
   "id": "3c7ca65a",
   "metadata": {
    "id": "3c7ca65a"
   },
   "source": [
    "## Analisis <mark>price</mark> produk top 10 kategori produk"
   ]
  },
  {
   "cell_type": "markdown",
   "id": "cc016e21",
   "metadata": {
    "id": "cc016e21"
   },
   "source": [
    "### Analisis <mark>price</mark> produk videocards"
   ]
  },
  {
   "cell_type": "code",
   "execution_count": 58,
   "id": "vQtMTcmr-ywn",
   "metadata": {
    "id": "vQtMTcmr-ywn",
    "outputId": "4e8b59be-0b5a-439c-9d00-6c9c4ce81c9a"
   },
   "outputs": [
    {
     "data": {
      "text/html": [
       "<div>\n",
       "<style scoped>\n",
       "    .dataframe tbody tr th:only-of-type {\n",
       "        vertical-align: middle;\n",
       "    }\n",
       "\n",
       "    .dataframe tbody tr th {\n",
       "        vertical-align: top;\n",
       "    }\n",
       "\n",
       "    .dataframe thead th {\n",
       "        text-align: right;\n",
       "    }\n",
       "</style>\n",
       "<table border=\"1\" class=\"dataframe\">\n",
       "  <thead>\n",
       "    <tr style=\"text-align: right;\">\n",
       "      <th></th>\n",
       "      <th>product_id</th>\n",
       "      <th>category_code</th>\n",
       "      <th>brand</th>\n",
       "      <th>price</th>\n",
       "      <th>count</th>\n",
       "      <th>cheaper_percentage</th>\n",
       "    </tr>\n",
       "  </thead>\n",
       "  <tbody>\n",
       "    <tr>\n",
       "      <th>0</th>\n",
       "      <td>4099645</td>\n",
       "      <td>computers.components.videocards</td>\n",
       "      <td>gigabyte</td>\n",
       "      <td>292.83</td>\n",
       "      <td>564</td>\n",
       "      <td>22.24%</td>\n",
       "    </tr>\n",
       "    <tr>\n",
       "      <th>1</th>\n",
       "      <td>1821813</td>\n",
       "      <td>computers.components.videocards</td>\n",
       "      <td>No Brand</td>\n",
       "      <td>397.48</td>\n",
       "      <td>538</td>\n",
       "      <td>51.04%</td>\n",
       "    </tr>\n",
       "    <tr>\n",
       "      <th>2</th>\n",
       "      <td>893196</td>\n",
       "      <td>computers.components.videocards</td>\n",
       "      <td>sapphire</td>\n",
       "      <td>214.10</td>\n",
       "      <td>384</td>\n",
       "      <td>8.92%</td>\n",
       "    </tr>\n",
       "    <tr>\n",
       "      <th>3</th>\n",
       "      <td>4102739</td>\n",
       "      <td>computers.components.videocards</td>\n",
       "      <td>msi</td>\n",
       "      <td>294.41</td>\n",
       "      <td>266</td>\n",
       "      <td>41.81%</td>\n",
       "    </tr>\n",
       "    <tr>\n",
       "      <th>4</th>\n",
       "      <td>4154414</td>\n",
       "      <td>computers.components.videocards</td>\n",
       "      <td>gigabyte</td>\n",
       "      <td>202.67</td>\n",
       "      <td>257</td>\n",
       "      <td>0.00%</td>\n",
       "    </tr>\n",
       "    <tr>\n",
       "      <th>5</th>\n",
       "      <td>4078916</td>\n",
       "      <td>computers.components.videocards</td>\n",
       "      <td>sapphire</td>\n",
       "      <td>415.54</td>\n",
       "      <td>196</td>\n",
       "      <td>75.54%</td>\n",
       "    </tr>\n",
       "    <tr>\n",
       "      <th>6</th>\n",
       "      <td>4079420</td>\n",
       "      <td>computers.components.videocards</td>\n",
       "      <td>msi</td>\n",
       "      <td>449.51</td>\n",
       "      <td>191</td>\n",
       "      <td>82.34%</td>\n",
       "    </tr>\n",
       "    <tr>\n",
       "      <th>7</th>\n",
       "      <td>1830099</td>\n",
       "      <td>computers.components.videocards</td>\n",
       "      <td>palit</td>\n",
       "      <td>486.81</td>\n",
       "      <td>169</td>\n",
       "      <td>94.14%</td>\n",
       "    </tr>\n",
       "    <tr>\n",
       "      <th>8</th>\n",
       "      <td>4079061</td>\n",
       "      <td>computers.components.videocards</td>\n",
       "      <td>powercolor</td>\n",
       "      <td>399.48</td>\n",
       "      <td>168</td>\n",
       "      <td>69.71%</td>\n",
       "    </tr>\n",
       "    <tr>\n",
       "      <th>9</th>\n",
       "      <td>3791509</td>\n",
       "      <td>computers.components.videocards</td>\n",
       "      <td>palit</td>\n",
       "      <td>466.52</td>\n",
       "      <td>149</td>\n",
       "      <td>88.97%</td>\n",
       "    </tr>\n",
       "  </tbody>\n",
       "</table>\n",
       "</div>"
      ],
      "text/plain": [
       "   product_id                    category_code       brand   price  count  \\\n",
       "0     4099645  computers.components.videocards    gigabyte  292.83    564   \n",
       "1     1821813  computers.components.videocards    No Brand  397.48    538   \n",
       "2      893196  computers.components.videocards    sapphire  214.10    384   \n",
       "3     4102739  computers.components.videocards         msi  294.41    266   \n",
       "4     4154414  computers.components.videocards    gigabyte  202.67    257   \n",
       "5     4078916  computers.components.videocards    sapphire  415.54    196   \n",
       "6     4079420  computers.components.videocards         msi  449.51    191   \n",
       "7     1830099  computers.components.videocards       palit  486.81    169   \n",
       "8     4079061  computers.components.videocards  powercolor  399.48    168   \n",
       "9     3791509  computers.components.videocards       palit  466.52    149   \n",
       "\n",
       "  cheaper_percentage  \n",
       "0             22.24%  \n",
       "1             51.04%  \n",
       "2              8.92%  \n",
       "3             41.81%  \n",
       "4              0.00%  \n",
       "5             75.54%  \n",
       "6             82.34%  \n",
       "7             94.14%  \n",
       "8             69.71%  \n",
       "9             88.97%  "
      ]
     },
     "execution_count": 58,
     "metadata": {},
     "output_type": "execute_result"
    }
   ],
   "source": [
    "# mencari top 10 produk untuk kategori produk videocards\n",
    "indeks=data_price['product_id'][data_price.category_code=='computers.components.videocards'].value_counts().iloc[:10].index\n",
    "data_price_2=data_price[['product_id','category_code','brand','price']][data_price.product_id.isin(indeks)].sort_values('product_id').value_counts().reset_index()\n",
    "data_price_2=data_price_2.rename(columns={0:'count'})\n",
    "cheaper=[]\n",
    "for i in range(0,len(data_price_2)):\n",
    "    cheaper+=['%.2f%%'%((data_price_2['count'][data_price_2['price']<data_price_2['price'].iloc[i]].sum()/(data_price_2['count'].sum()))*100)]\n",
    "data_price_2['cheaper_percentage']=cheaper\n",
    "kesimpulan=data_price_2.iloc[0:3]\n",
    "data_price_2"
   ]
  },
  {
   "cell_type": "markdown",
   "id": "H4vtVKYM-ywo",
   "metadata": {
    "id": "H4vtVKYM-ywo"
   },
   "source": [
    "### Analisis <mark>price</mark> produk telephone"
   ]
  },
  {
   "cell_type": "code",
   "execution_count": 59,
   "id": "HOuy8ZPK-ywp",
   "metadata": {
    "id": "HOuy8ZPK-ywp",
    "outputId": "f21663cb-438b-4163-e6f2-f4bde06121fd",
    "scrolled": true
   },
   "outputs": [
    {
     "data": {
      "text/html": [
       "<div>\n",
       "<style scoped>\n",
       "    .dataframe tbody tr th:only-of-type {\n",
       "        vertical-align: middle;\n",
       "    }\n",
       "\n",
       "    .dataframe tbody tr th {\n",
       "        vertical-align: top;\n",
       "    }\n",
       "\n",
       "    .dataframe thead th {\n",
       "        text-align: right;\n",
       "    }\n",
       "</style>\n",
       "<table border=\"1\" class=\"dataframe\">\n",
       "  <thead>\n",
       "    <tr style=\"text-align: right;\">\n",
       "      <th></th>\n",
       "      <th>product_id</th>\n",
       "      <th>category_code</th>\n",
       "      <th>brand</th>\n",
       "      <th>price</th>\n",
       "      <th>count</th>\n",
       "      <th>cheaper_percentage</th>\n",
       "    </tr>\n",
       "  </thead>\n",
       "  <tbody>\n",
       "    <tr>\n",
       "      <th>0</th>\n",
       "      <td>3829355</td>\n",
       "      <td>electronics.telephone</td>\n",
       "      <td>No Brand</td>\n",
       "      <td>32.22</td>\n",
       "      <td>543</td>\n",
       "      <td>38.44%</td>\n",
       "    </tr>\n",
       "    <tr>\n",
       "      <th>1</th>\n",
       "      <td>1821557</td>\n",
       "      <td>electronics.telephone</td>\n",
       "      <td>sirius</td>\n",
       "      <td>16.19</td>\n",
       "      <td>121</td>\n",
       "      <td>6.23%</td>\n",
       "    </tr>\n",
       "    <tr>\n",
       "      <th>2</th>\n",
       "      <td>3632668</td>\n",
       "      <td>electronics.telephone</td>\n",
       "      <td>No Brand</td>\n",
       "      <td>34.44</td>\n",
       "      <td>116</td>\n",
       "      <td>82.81%</td>\n",
       "    </tr>\n",
       "    <tr>\n",
       "      <th>3</th>\n",
       "      <td>3828891</td>\n",
       "      <td>electronics.telephone</td>\n",
       "      <td>samsung</td>\n",
       "      <td>51.33</td>\n",
       "      <td>113</td>\n",
       "      <td>91.52%</td>\n",
       "    </tr>\n",
       "    <tr>\n",
       "      <th>4</th>\n",
       "      <td>3537322</td>\n",
       "      <td>electronics.telephone</td>\n",
       "      <td>No Brand</td>\n",
       "      <td>27.62</td>\n",
       "      <td>97</td>\n",
       "      <td>31.16%</td>\n",
       "    </tr>\n",
       "    <tr>\n",
       "      <th>5</th>\n",
       "      <td>4013582</td>\n",
       "      <td>electronics.telephone</td>\n",
       "      <td>sirius</td>\n",
       "      <td>26.98</td>\n",
       "      <td>86</td>\n",
       "      <td>24.70%</td>\n",
       "    </tr>\n",
       "    <tr>\n",
       "      <th>6</th>\n",
       "      <td>1660034</td>\n",
       "      <td>electronics.telephone</td>\n",
       "      <td>No Brand</td>\n",
       "      <td>10.43</td>\n",
       "      <td>83</td>\n",
       "      <td>0.00%</td>\n",
       "    </tr>\n",
       "    <tr>\n",
       "      <th>7</th>\n",
       "      <td>3829374</td>\n",
       "      <td>electronics.telephone</td>\n",
       "      <td>No Brand</td>\n",
       "      <td>21.43</td>\n",
       "      <td>71</td>\n",
       "      <td>15.32%</td>\n",
       "    </tr>\n",
       "    <tr>\n",
       "      <th>8</th>\n",
       "      <td>3755038</td>\n",
       "      <td>electronics.telephone</td>\n",
       "      <td>sirius</td>\n",
       "      <td>23.48</td>\n",
       "      <td>54</td>\n",
       "      <td>20.65%</td>\n",
       "    </tr>\n",
       "    <tr>\n",
       "      <th>9</th>\n",
       "      <td>3537391</td>\n",
       "      <td>electronics.telephone</td>\n",
       "      <td>No Brand</td>\n",
       "      <td>32.38</td>\n",
       "      <td>48</td>\n",
       "      <td>79.20%</td>\n",
       "    </tr>\n",
       "  </tbody>\n",
       "</table>\n",
       "</div>"
      ],
      "text/plain": [
       "   product_id          category_code     brand  price  count  \\\n",
       "0     3829355  electronics.telephone  No Brand  32.22    543   \n",
       "1     1821557  electronics.telephone    sirius  16.19    121   \n",
       "2     3632668  electronics.telephone  No Brand  34.44    116   \n",
       "3     3828891  electronics.telephone   samsung  51.33    113   \n",
       "4     3537322  electronics.telephone  No Brand  27.62     97   \n",
       "5     4013582  electronics.telephone    sirius  26.98     86   \n",
       "6     1660034  electronics.telephone  No Brand  10.43     83   \n",
       "7     3829374  electronics.telephone  No Brand  21.43     71   \n",
       "8     3755038  electronics.telephone    sirius  23.48     54   \n",
       "9     3537391  electronics.telephone  No Brand  32.38     48   \n",
       "\n",
       "  cheaper_percentage  \n",
       "0             38.44%  \n",
       "1              6.23%  \n",
       "2             82.81%  \n",
       "3             91.52%  \n",
       "4             31.16%  \n",
       "5             24.70%  \n",
       "6              0.00%  \n",
       "7             15.32%  \n",
       "8             20.65%  \n",
       "9             79.20%  "
      ]
     },
     "execution_count": 59,
     "metadata": {},
     "output_type": "execute_result"
    }
   ],
   "source": [
    "# mencari top 10 produk untuk kategori produk telephone\n",
    "indeks=data_price['product_id'][data_price.category_code=='electronics.telephone'].value_counts().iloc[:10].index\n",
    "data_price_2=data_price[['product_id','category_code','brand','price']][data_price.product_id.isin(indeks)].sort_values('product_id').value_counts().reset_index()\n",
    "data_price_2=data_price_2.rename(columns={0:'count'})\n",
    "cheaper=[]\n",
    "for i in range(0,len(data_price_2)):\n",
    "    cheaper+=['%.2f%%'%((data_price_2['count'][data_price_2['price']<data_price_2['price'].iloc[i]].sum()/(data_price_2['count'].sum()))*100)]\n",
    "data_price_2['cheaper_percentage']=cheaper\n",
    "kesimpulan=kesimpulan.append(data_price_2.iloc[0:3])\n",
    "data_price_2"
   ]
  },
  {
   "cell_type": "markdown",
   "id": "4CqKcv2u-ywq",
   "metadata": {
    "id": "4CqKcv2u-ywq"
   },
   "source": [
    "### Analisis <mark>price</mark> produk cartrige"
   ]
  },
  {
   "cell_type": "code",
   "execution_count": 60,
   "id": "8X1BnV6t-ywq",
   "metadata": {
    "id": "8X1BnV6t-ywq",
    "outputId": "919a051d-d179-44ed-a8d6-65109f11752e"
   },
   "outputs": [
    {
     "data": {
      "text/html": [
       "<div>\n",
       "<style scoped>\n",
       "    .dataframe tbody tr th:only-of-type {\n",
       "        vertical-align: middle;\n",
       "    }\n",
       "\n",
       "    .dataframe tbody tr th {\n",
       "        vertical-align: top;\n",
       "    }\n",
       "\n",
       "    .dataframe thead th {\n",
       "        text-align: right;\n",
       "    }\n",
       "</style>\n",
       "<table border=\"1\" class=\"dataframe\">\n",
       "  <thead>\n",
       "    <tr style=\"text-align: right;\">\n",
       "      <th></th>\n",
       "      <th>product_id</th>\n",
       "      <th>category_code</th>\n",
       "      <th>brand</th>\n",
       "      <th>price</th>\n",
       "      <th>count</th>\n",
       "      <th>cheaper_percentage</th>\n",
       "    </tr>\n",
       "  </thead>\n",
       "  <tbody>\n",
       "    <tr>\n",
       "      <th>0</th>\n",
       "      <td>3642540</td>\n",
       "      <td>stationery.cartrige</td>\n",
       "      <td>hp</td>\n",
       "      <td>26.19</td>\n",
       "      <td>345</td>\n",
       "      <td>21.91%</td>\n",
       "    </tr>\n",
       "    <tr>\n",
       "      <th>1</th>\n",
       "      <td>1785245</td>\n",
       "      <td>stationery.cartrige</td>\n",
       "      <td>canon</td>\n",
       "      <td>43.11</td>\n",
       "      <td>207</td>\n",
       "      <td>69.79%</td>\n",
       "    </tr>\n",
       "    <tr>\n",
       "      <th>2</th>\n",
       "      <td>471387</td>\n",
       "      <td>stationery.cartrige</td>\n",
       "      <td>nv-print</td>\n",
       "      <td>13.86</td>\n",
       "      <td>110</td>\n",
       "      <td>0.00%</td>\n",
       "    </tr>\n",
       "    <tr>\n",
       "      <th>3</th>\n",
       "      <td>1785246</td>\n",
       "      <td>stationery.cartrige</td>\n",
       "      <td>canon</td>\n",
       "      <td>45.24</td>\n",
       "      <td>83</td>\n",
       "      <td>88.46%</td>\n",
       "    </tr>\n",
       "    <tr>\n",
       "      <th>4</th>\n",
       "      <td>885572</td>\n",
       "      <td>stationery.cartrige</td>\n",
       "      <td>nv-print</td>\n",
       "      <td>21.21</td>\n",
       "      <td>83</td>\n",
       "      <td>9.92%</td>\n",
       "    </tr>\n",
       "    <tr>\n",
       "      <th>5</th>\n",
       "      <td>802811</td>\n",
       "      <td>stationery.cartrige</td>\n",
       "      <td>No Brand</td>\n",
       "      <td>42.98</td>\n",
       "      <td>77</td>\n",
       "      <td>62.85%</td>\n",
       "    </tr>\n",
       "    <tr>\n",
       "      <th>6</th>\n",
       "      <td>1856480</td>\n",
       "      <td>stationery.cartrige</td>\n",
       "      <td>No Brand</td>\n",
       "      <td>36.14</td>\n",
       "      <td>60</td>\n",
       "      <td>57.44%</td>\n",
       "    </tr>\n",
       "    <tr>\n",
       "      <th>7</th>\n",
       "      <td>8093</td>\n",
       "      <td>stationery.cartrige</td>\n",
       "      <td>hp</td>\n",
       "      <td>23.17</td>\n",
       "      <td>50</td>\n",
       "      <td>17.40%</td>\n",
       "    </tr>\n",
       "    <tr>\n",
       "      <th>8</th>\n",
       "      <td>623426</td>\n",
       "      <td>stationery.cartrige</td>\n",
       "      <td>hp</td>\n",
       "      <td>29.57</td>\n",
       "      <td>49</td>\n",
       "      <td>53.02%</td>\n",
       "    </tr>\n",
       "    <tr>\n",
       "      <th>9</th>\n",
       "      <td>367956</td>\n",
       "      <td>stationery.cartrige</td>\n",
       "      <td>No Brand</td>\n",
       "      <td>205.49</td>\n",
       "      <td>45</td>\n",
       "      <td>95.94%</td>\n",
       "    </tr>\n",
       "  </tbody>\n",
       "</table>\n",
       "</div>"
      ],
      "text/plain": [
       "   product_id        category_code     brand   price  count cheaper_percentage\n",
       "0     3642540  stationery.cartrige        hp   26.19    345             21.91%\n",
       "1     1785245  stationery.cartrige     canon   43.11    207             69.79%\n",
       "2      471387  stationery.cartrige  nv-print   13.86    110              0.00%\n",
       "3     1785246  stationery.cartrige     canon   45.24     83             88.46%\n",
       "4      885572  stationery.cartrige  nv-print   21.21     83              9.92%\n",
       "5      802811  stationery.cartrige  No Brand   42.98     77             62.85%\n",
       "6     1856480  stationery.cartrige  No Brand   36.14     60             57.44%\n",
       "7        8093  stationery.cartrige        hp   23.17     50             17.40%\n",
       "8      623426  stationery.cartrige        hp   29.57     49             53.02%\n",
       "9      367956  stationery.cartrige  No Brand  205.49     45             95.94%"
      ]
     },
     "execution_count": 60,
     "metadata": {},
     "output_type": "execute_result"
    }
   ],
   "source": [
    "# mencari top 10 produk untuk kategori produk cartrige\n",
    "indeks=data_price['product_id'][data_price.category_code=='stationery.cartrige'].value_counts().iloc[:10].index\n",
    "data_price_2=data_price[['product_id','category_code','brand','price']][data_price.product_id.isin(indeks)].sort_values('product_id').value_counts().reset_index()\n",
    "data_price_2=data_price_2.rename(columns={0:'count'})\n",
    "cheaper=[]\n",
    "for i in range(0,len(data_price_2)):\n",
    "    cheaper+=['%.2f%%'%((data_price_2['count'][data_price_2['price']<data_price_2['price'].iloc[i]].sum()/(data_price_2['count'].sum()))*100)]\n",
    "data_price_2['cheaper_percentage']=cheaper\n",
    "kesimpulan=kesimpulan.append(data_price_2.iloc[0:3])\n",
    "data_price_2"
   ]
  },
  {
   "cell_type": "markdown",
   "id": "sZ5S8xYL-yws",
   "metadata": {
    "id": "sZ5S8xYL-yws"
   },
   "source": [
    "### Analisis <mark>price</mark> produk printer"
   ]
  },
  {
   "cell_type": "code",
   "execution_count": 61,
   "id": "PhRurm2f-yws",
   "metadata": {
    "id": "PhRurm2f-yws",
    "outputId": "0265bfee-550d-4fbe-96d3-19b5eb8d378b"
   },
   "outputs": [
    {
     "data": {
      "text/html": [
       "<div>\n",
       "<style scoped>\n",
       "    .dataframe tbody tr th:only-of-type {\n",
       "        vertical-align: middle;\n",
       "    }\n",
       "\n",
       "    .dataframe tbody tr th {\n",
       "        vertical-align: top;\n",
       "    }\n",
       "\n",
       "    .dataframe thead th {\n",
       "        text-align: right;\n",
       "    }\n",
       "</style>\n",
       "<table border=\"1\" class=\"dataframe\">\n",
       "  <thead>\n",
       "    <tr style=\"text-align: right;\">\n",
       "      <th></th>\n",
       "      <th>product_id</th>\n",
       "      <th>category_code</th>\n",
       "      <th>brand</th>\n",
       "      <th>price</th>\n",
       "      <th>count</th>\n",
       "      <th>cheaper_percentage</th>\n",
       "    </tr>\n",
       "  </thead>\n",
       "  <tbody>\n",
       "    <tr>\n",
       "      <th>0</th>\n",
       "      <td>799067</td>\n",
       "      <td>computers.peripherals.printer</td>\n",
       "      <td>canon</td>\n",
       "      <td>82.97</td>\n",
       "      <td>233</td>\n",
       "      <td>8.69%</td>\n",
       "    </tr>\n",
       "    <tr>\n",
       "      <th>1</th>\n",
       "      <td>3829912</td>\n",
       "      <td>computers.peripherals.printer</td>\n",
       "      <td>pantum</td>\n",
       "      <td>122.86</td>\n",
       "      <td>122</td>\n",
       "      <td>41.58%</td>\n",
       "    </tr>\n",
       "    <tr>\n",
       "      <th>2</th>\n",
       "      <td>3790736</td>\n",
       "      <td>computers.peripherals.printer</td>\n",
       "      <td>canon</td>\n",
       "      <td>163.52</td>\n",
       "      <td>94</td>\n",
       "      <td>55.01%</td>\n",
       "    </tr>\n",
       "    <tr>\n",
       "      <th>3</th>\n",
       "      <td>3759997</td>\n",
       "      <td>computers.peripherals.printer</td>\n",
       "      <td>canon</td>\n",
       "      <td>192.86</td>\n",
       "      <td>84</td>\n",
       "      <td>65.35%</td>\n",
       "    </tr>\n",
       "    <tr>\n",
       "      <th>4</th>\n",
       "      <td>1341995</td>\n",
       "      <td>computers.peripherals.printer</td>\n",
       "      <td>No Brand</td>\n",
       "      <td>15.10</td>\n",
       "      <td>79</td>\n",
       "      <td>0.00%</td>\n",
       "    </tr>\n",
       "    <tr>\n",
       "      <th>5</th>\n",
       "      <td>4013522</td>\n",
       "      <td>computers.peripherals.printer</td>\n",
       "      <td>epson</td>\n",
       "      <td>229.38</td>\n",
       "      <td>76</td>\n",
       "      <td>87.02%</td>\n",
       "    </tr>\n",
       "    <tr>\n",
       "      <th>6</th>\n",
       "      <td>1757030</td>\n",
       "      <td>computers.peripherals.printer</td>\n",
       "      <td>pantum</td>\n",
       "      <td>118.57</td>\n",
       "      <td>66</td>\n",
       "      <td>34.32%</td>\n",
       "    </tr>\n",
       "    <tr>\n",
       "      <th>7</th>\n",
       "      <td>1423328</td>\n",
       "      <td>computers.peripherals.printer</td>\n",
       "      <td>brother</td>\n",
       "      <td>199.37</td>\n",
       "      <td>65</td>\n",
       "      <td>74.59%</td>\n",
       "    </tr>\n",
       "    <tr>\n",
       "      <th>8</th>\n",
       "      <td>889263</td>\n",
       "      <td>computers.peripherals.printer</td>\n",
       "      <td>xerox</td>\n",
       "      <td>203.02</td>\n",
       "      <td>48</td>\n",
       "      <td>81.74%</td>\n",
       "    </tr>\n",
       "    <tr>\n",
       "      <th>9</th>\n",
       "      <td>3760001</td>\n",
       "      <td>computers.peripherals.printer</td>\n",
       "      <td>canon</td>\n",
       "      <td>314.68</td>\n",
       "      <td>42</td>\n",
       "      <td>95.38%</td>\n",
       "    </tr>\n",
       "  </tbody>\n",
       "</table>\n",
       "</div>"
      ],
      "text/plain": [
       "   product_id                  category_code     brand   price  count  \\\n",
       "0      799067  computers.peripherals.printer     canon   82.97    233   \n",
       "1     3829912  computers.peripherals.printer    pantum  122.86    122   \n",
       "2     3790736  computers.peripherals.printer     canon  163.52     94   \n",
       "3     3759997  computers.peripherals.printer     canon  192.86     84   \n",
       "4     1341995  computers.peripherals.printer  No Brand   15.10     79   \n",
       "5     4013522  computers.peripherals.printer     epson  229.38     76   \n",
       "6     1757030  computers.peripherals.printer    pantum  118.57     66   \n",
       "7     1423328  computers.peripherals.printer   brother  199.37     65   \n",
       "8      889263  computers.peripherals.printer     xerox  203.02     48   \n",
       "9     3760001  computers.peripherals.printer     canon  314.68     42   \n",
       "\n",
       "  cheaper_percentage  \n",
       "0              8.69%  \n",
       "1             41.58%  \n",
       "2             55.01%  \n",
       "3             65.35%  \n",
       "4              0.00%  \n",
       "5             87.02%  \n",
       "6             34.32%  \n",
       "7             74.59%  \n",
       "8             81.74%  \n",
       "9             95.38%  "
      ]
     },
     "execution_count": 61,
     "metadata": {},
     "output_type": "execute_result"
    }
   ],
   "source": [
    "# mencari top 10 produk untuk kategori produk printer\n",
    "indeks=data_price['product_id'][data_price.category_code=='computers.peripherals.printer'].value_counts().iloc[:10].index\n",
    "data_price_2=data_price[['product_id','category_code','brand','price']][data_price.product_id.isin(indeks)].sort_values('product_id').value_counts().reset_index()\n",
    "data_price_2=data_price_2.rename(columns={0:'count'})\n",
    "cheaper=[]\n",
    "for i in range(0,len(data_price_2)):\n",
    "    cheaper+=['%.2f%%'%((data_price_2['count'][data_price_2['price']<data_price_2['price'].iloc[i]].sum()/(data_price_2['count'].sum()))*100)]\n",
    "data_price_2['cheaper_percentage']=cheaper\n",
    "kesimpulan=kesimpulan.append(data_price_2.iloc[0:3])\n",
    "data_price_2"
   ]
  },
  {
   "cell_type": "markdown",
   "id": "NS5nwfRR-ywt",
   "metadata": {
    "id": "NS5nwfRR-ywt"
   },
   "source": [
    "### Analisis <mark>price</mark> produk notebook"
   ]
  },
  {
   "cell_type": "code",
   "execution_count": 62,
   "id": "gL-iRnTQ-ywt",
   "metadata": {
    "id": "gL-iRnTQ-ywt",
    "outputId": "e21cd8c5-4d93-4418-f083-2ccad756ec35"
   },
   "outputs": [
    {
     "data": {
      "text/html": [
       "<div>\n",
       "<style scoped>\n",
       "    .dataframe tbody tr th:only-of-type {\n",
       "        vertical-align: middle;\n",
       "    }\n",
       "\n",
       "    .dataframe tbody tr th {\n",
       "        vertical-align: top;\n",
       "    }\n",
       "\n",
       "    .dataframe thead th {\n",
       "        text-align: right;\n",
       "    }\n",
       "</style>\n",
       "<table border=\"1\" class=\"dataframe\">\n",
       "  <thead>\n",
       "    <tr style=\"text-align: right;\">\n",
       "      <th></th>\n",
       "      <th>product_id</th>\n",
       "      <th>category_code</th>\n",
       "      <th>brand</th>\n",
       "      <th>price</th>\n",
       "      <th>count</th>\n",
       "      <th>cheaper_percentage</th>\n",
       "    </tr>\n",
       "  </thead>\n",
       "  <tbody>\n",
       "    <tr>\n",
       "      <th>0</th>\n",
       "      <td>1044616</td>\n",
       "      <td>computers.notebook</td>\n",
       "      <td>mobilepc</td>\n",
       "      <td>22.22</td>\n",
       "      <td>95</td>\n",
       "      <td>9.29%</td>\n",
       "    </tr>\n",
       "    <tr>\n",
       "      <th>1</th>\n",
       "      <td>3627467</td>\n",
       "      <td>computers.notebook</td>\n",
       "      <td>No Brand</td>\n",
       "      <td>31.11</td>\n",
       "      <td>46</td>\n",
       "      <td>45.36%</td>\n",
       "    </tr>\n",
       "    <tr>\n",
       "      <th>2</th>\n",
       "      <td>1006967</td>\n",
       "      <td>computers.notebook</td>\n",
       "      <td>topon</td>\n",
       "      <td>55.87</td>\n",
       "      <td>46</td>\n",
       "      <td>87.43%</td>\n",
       "    </tr>\n",
       "    <tr>\n",
       "      <th>3</th>\n",
       "      <td>608114</td>\n",
       "      <td>computers.notebook</td>\n",
       "      <td>No Brand</td>\n",
       "      <td>10.84</td>\n",
       "      <td>34</td>\n",
       "      <td>0.00%</td>\n",
       "    </tr>\n",
       "    <tr>\n",
       "      <th>4</th>\n",
       "      <td>636610</td>\n",
       "      <td>computers.notebook</td>\n",
       "      <td>No Brand</td>\n",
       "      <td>51.75</td>\n",
       "      <td>33</td>\n",
       "      <td>72.68%</td>\n",
       "    </tr>\n",
       "    <tr>\n",
       "      <th>5</th>\n",
       "      <td>1586099</td>\n",
       "      <td>computers.notebook</td>\n",
       "      <td>mobilepc</td>\n",
       "      <td>35.08</td>\n",
       "      <td>30</td>\n",
       "      <td>57.92%</td>\n",
       "    </tr>\n",
       "    <tr>\n",
       "      <th>6</th>\n",
       "      <td>338823</td>\n",
       "      <td>computers.notebook</td>\n",
       "      <td>No Brand</td>\n",
       "      <td>46.98</td>\n",
       "      <td>24</td>\n",
       "      <td>66.12%</td>\n",
       "    </tr>\n",
       "    <tr>\n",
       "      <th>7</th>\n",
       "      <td>1578114</td>\n",
       "      <td>computers.notebook</td>\n",
       "      <td>pitatel</td>\n",
       "      <td>52.86</td>\n",
       "      <td>21</td>\n",
       "      <td>81.69%</td>\n",
       "    </tr>\n",
       "    <tr>\n",
       "      <th>8</th>\n",
       "      <td>466153</td>\n",
       "      <td>computers.notebook</td>\n",
       "      <td>palmexx</td>\n",
       "      <td>28.10</td>\n",
       "      <td>19</td>\n",
       "      <td>40.16%</td>\n",
       "    </tr>\n",
       "    <tr>\n",
       "      <th>9</th>\n",
       "      <td>879803</td>\n",
       "      <td>computers.notebook</td>\n",
       "      <td>mobilepc</td>\n",
       "      <td>25.08</td>\n",
       "      <td>18</td>\n",
       "      <td>35.25%</td>\n",
       "    </tr>\n",
       "  </tbody>\n",
       "</table>\n",
       "</div>"
      ],
      "text/plain": [
       "   product_id       category_code     brand  price  count cheaper_percentage\n",
       "0     1044616  computers.notebook  mobilepc  22.22     95              9.29%\n",
       "1     3627467  computers.notebook  No Brand  31.11     46             45.36%\n",
       "2     1006967  computers.notebook     topon  55.87     46             87.43%\n",
       "3      608114  computers.notebook  No Brand  10.84     34              0.00%\n",
       "4      636610  computers.notebook  No Brand  51.75     33             72.68%\n",
       "5     1586099  computers.notebook  mobilepc  35.08     30             57.92%\n",
       "6      338823  computers.notebook  No Brand  46.98     24             66.12%\n",
       "7     1578114  computers.notebook   pitatel  52.86     21             81.69%\n",
       "8      466153  computers.notebook   palmexx  28.10     19             40.16%\n",
       "9      879803  computers.notebook  mobilepc  25.08     18             35.25%"
      ]
     },
     "execution_count": 62,
     "metadata": {},
     "output_type": "execute_result"
    }
   ],
   "source": [
    "# mencari top 10 produk untuk kategori produk notebook\n",
    "indeks=data_price['product_id'][data_price.category_code=='computers.notebook'].value_counts().iloc[:10].index\n",
    "data_price_2=data_price[['product_id','category_code','brand','price']][data_price.product_id.isin(indeks)].sort_values('product_id').value_counts().reset_index()\n",
    "data_price_2=data_price_2.rename(columns={0:'count'})\n",
    "cheaper=[]\n",
    "for i in range(0,len(data_price_2)):\n",
    "    cheaper+=['%.2f%%'%((data_price_2['count'][data_price_2['price']<data_price_2['price'].iloc[i]].sum()/(data_price_2['count'].sum()))*100)]\n",
    "data_price_2['cheaper_percentage']=cheaper\n",
    "kesimpulan=kesimpulan.append(data_price_2.iloc[0:3])\n",
    "data_price_2"
   ]
  },
  {
   "cell_type": "markdown",
   "id": "Zz5hNzJo-ywv",
   "metadata": {
    "id": "Zz5hNzJo-ywv"
   },
   "source": [
    "### Analisis <mark>price</mark> produk motherboard"
   ]
  },
  {
   "cell_type": "code",
   "execution_count": 63,
   "id": "LcsBtCFe-ywv",
   "metadata": {
    "id": "LcsBtCFe-ywv",
    "outputId": "ab9c3328-156f-409e-8d94-152e0e4c228d"
   },
   "outputs": [
    {
     "data": {
      "text/html": [
       "<div>\n",
       "<style scoped>\n",
       "    .dataframe tbody tr th:only-of-type {\n",
       "        vertical-align: middle;\n",
       "    }\n",
       "\n",
       "    .dataframe tbody tr th {\n",
       "        vertical-align: top;\n",
       "    }\n",
       "\n",
       "    .dataframe thead th {\n",
       "        text-align: right;\n",
       "    }\n",
       "</style>\n",
       "<table border=\"1\" class=\"dataframe\">\n",
       "  <thead>\n",
       "    <tr style=\"text-align: right;\">\n",
       "      <th></th>\n",
       "      <th>product_id</th>\n",
       "      <th>category_code</th>\n",
       "      <th>brand</th>\n",
       "      <th>price</th>\n",
       "      <th>count</th>\n",
       "      <th>cheaper_percentage</th>\n",
       "    </tr>\n",
       "  </thead>\n",
       "  <tbody>\n",
       "    <tr>\n",
       "      <th>0</th>\n",
       "      <td>136700</td>\n",
       "      <td>computers.components.motherboard</td>\n",
       "      <td>asrock</td>\n",
       "      <td>77.73</td>\n",
       "      <td>194</td>\n",
       "      <td>69.05%</td>\n",
       "    </tr>\n",
       "    <tr>\n",
       "      <th>1</th>\n",
       "      <td>809948</td>\n",
       "      <td>computers.components.motherboard</td>\n",
       "      <td>asus</td>\n",
       "      <td>64.48</td>\n",
       "      <td>187</td>\n",
       "      <td>26.73%</td>\n",
       "    </tr>\n",
       "    <tr>\n",
       "      <th>2</th>\n",
       "      <td>523117</td>\n",
       "      <td>computers.components.motherboard</td>\n",
       "      <td>asrock</td>\n",
       "      <td>73.81</td>\n",
       "      <td>125</td>\n",
       "      <td>54.40%</td>\n",
       "    </tr>\n",
       "    <tr>\n",
       "      <th>3</th>\n",
       "      <td>137302</td>\n",
       "      <td>computers.components.motherboard</td>\n",
       "      <td>asus</td>\n",
       "      <td>55.16</td>\n",
       "      <td>89</td>\n",
       "      <td>11.49%</td>\n",
       "    </tr>\n",
       "    <tr>\n",
       "      <th>4</th>\n",
       "      <td>1017163</td>\n",
       "      <td>computers.components.motherboard</td>\n",
       "      <td>gigabyte</td>\n",
       "      <td>48.27</td>\n",
       "      <td>62</td>\n",
       "      <td>0.00%</td>\n",
       "    </tr>\n",
       "    <tr>\n",
       "      <th>5</th>\n",
       "      <td>1850104</td>\n",
       "      <td>computers.components.motherboard</td>\n",
       "      <td>gigabyte</td>\n",
       "      <td>67.97</td>\n",
       "      <td>49</td>\n",
       "      <td>48.65%</td>\n",
       "    </tr>\n",
       "    <tr>\n",
       "      <th>6</th>\n",
       "      <td>1271563</td>\n",
       "      <td>computers.components.motherboard</td>\n",
       "      <td>gigabyte</td>\n",
       "      <td>63.98</td>\n",
       "      <td>41</td>\n",
       "      <td>21.92%</td>\n",
       "    </tr>\n",
       "    <tr>\n",
       "      <th>7</th>\n",
       "      <td>3606492</td>\n",
       "      <td>computers.components.motherboard</td>\n",
       "      <td>asrock</td>\n",
       "      <td>81.14</td>\n",
       "      <td>40</td>\n",
       "      <td>91.79%</td>\n",
       "    </tr>\n",
       "    <tr>\n",
       "      <th>8</th>\n",
       "      <td>478724</td>\n",
       "      <td>computers.components.motherboard</td>\n",
       "      <td>asus</td>\n",
       "      <td>52.90</td>\n",
       "      <td>36</td>\n",
       "      <td>7.27%</td>\n",
       "    </tr>\n",
       "    <tr>\n",
       "      <th>9</th>\n",
       "      <td>840623</td>\n",
       "      <td>computers.components.motherboard</td>\n",
       "      <td>asus</td>\n",
       "      <td>82.33</td>\n",
       "      <td>30</td>\n",
       "      <td>96.48%</td>\n",
       "    </tr>\n",
       "  </tbody>\n",
       "</table>\n",
       "</div>"
      ],
      "text/plain": [
       "   product_id                     category_code     brand  price  count  \\\n",
       "0      136700  computers.components.motherboard    asrock  77.73    194   \n",
       "1      809948  computers.components.motherboard      asus  64.48    187   \n",
       "2      523117  computers.components.motherboard    asrock  73.81    125   \n",
       "3      137302  computers.components.motherboard      asus  55.16     89   \n",
       "4     1017163  computers.components.motherboard  gigabyte  48.27     62   \n",
       "5     1850104  computers.components.motherboard  gigabyte  67.97     49   \n",
       "6     1271563  computers.components.motherboard  gigabyte  63.98     41   \n",
       "7     3606492  computers.components.motherboard    asrock  81.14     40   \n",
       "8      478724  computers.components.motherboard      asus  52.90     36   \n",
       "9      840623  computers.components.motherboard      asus  82.33     30   \n",
       "\n",
       "  cheaper_percentage  \n",
       "0             69.05%  \n",
       "1             26.73%  \n",
       "2             54.40%  \n",
       "3             11.49%  \n",
       "4              0.00%  \n",
       "5             48.65%  \n",
       "6             21.92%  \n",
       "7             91.79%  \n",
       "8              7.27%  \n",
       "9             96.48%  "
      ]
     },
     "execution_count": 63,
     "metadata": {},
     "output_type": "execute_result"
    }
   ],
   "source": [
    "# mencari top 10 produk untuk kategori produk motherboard\n",
    "indeks=data_price['product_id'][data_price.category_code=='computers.components.motherboard'].value_counts().iloc[:10].index\n",
    "data_price_2=data_price[['product_id','category_code','brand','price']][data_price.product_id.isin(indeks)].sort_values('product_id').value_counts().reset_index()\n",
    "data_price_2=data_price_2.rename(columns={0:'count'})\n",
    "cheaper=[]\n",
    "for i in range(0,len(data_price_2)):\n",
    "    cheaper+=['%.2f%%'%((data_price_2['count'][data_price_2['price']<data_price_2['price'].iloc[i]].sum()/(data_price_2['count'].sum()))*100)]\n",
    "data_price_2['cheaper_percentage']=cheaper\n",
    "kesimpulan=kesimpulan.append(data_price_2.iloc[0:3])\n",
    "data_price_2"
   ]
  },
  {
   "cell_type": "markdown",
   "id": "9lhJX1KB-yww",
   "metadata": {
    "id": "9lhJX1KB-yww"
   },
   "source": [
    "### Analisis <mark>price</mark> produk cpu"
   ]
  },
  {
   "cell_type": "code",
   "execution_count": 64,
   "id": "wfsyBXj0-ywx",
   "metadata": {
    "id": "wfsyBXj0-ywx",
    "outputId": "496de634-6d35-40a4-8801-638984acb368"
   },
   "outputs": [
    {
     "data": {
      "text/html": [
       "<div>\n",
       "<style scoped>\n",
       "    .dataframe tbody tr th:only-of-type {\n",
       "        vertical-align: middle;\n",
       "    }\n",
       "\n",
       "    .dataframe tbody tr th {\n",
       "        vertical-align: top;\n",
       "    }\n",
       "\n",
       "    .dataframe thead th {\n",
       "        text-align: right;\n",
       "    }\n",
       "</style>\n",
       "<table border=\"1\" class=\"dataframe\">\n",
       "  <thead>\n",
       "    <tr style=\"text-align: right;\">\n",
       "      <th></th>\n",
       "      <th>product_id</th>\n",
       "      <th>category_code</th>\n",
       "      <th>brand</th>\n",
       "      <th>price</th>\n",
       "      <th>count</th>\n",
       "      <th>cheaper_percentage</th>\n",
       "    </tr>\n",
       "  </thead>\n",
       "  <tbody>\n",
       "    <tr>\n",
       "      <th>0</th>\n",
       "      <td>3791351</td>\n",
       "      <td>computers.components.cpu</td>\n",
       "      <td>amd</td>\n",
       "      <td>204.29</td>\n",
       "      <td>423</td>\n",
       "      <td>40.22%</td>\n",
       "    </tr>\n",
       "    <tr>\n",
       "      <th>1</th>\n",
       "      <td>942339</td>\n",
       "      <td>computers.components.cpu</td>\n",
       "      <td>amd</td>\n",
       "      <td>56.27</td>\n",
       "      <td>96</td>\n",
       "      <td>0.00%</td>\n",
       "    </tr>\n",
       "    <tr>\n",
       "      <th>2</th>\n",
       "      <td>3804514</td>\n",
       "      <td>computers.components.cpu</td>\n",
       "      <td>amd</td>\n",
       "      <td>140.86</td>\n",
       "      <td>79</td>\n",
       "      <td>27.82%</td>\n",
       "    </tr>\n",
       "    <tr>\n",
       "      <th>3</th>\n",
       "      <td>1413340</td>\n",
       "      <td>computers.components.cpu</td>\n",
       "      <td>amd</td>\n",
       "      <td>137.63</td>\n",
       "      <td>69</td>\n",
       "      <td>20.11%</td>\n",
       "    </tr>\n",
       "    <tr>\n",
       "      <th>4</th>\n",
       "      <td>3804563</td>\n",
       "      <td>computers.components.cpu</td>\n",
       "      <td>intel</td>\n",
       "      <td>97.35</td>\n",
       "      <td>58</td>\n",
       "      <td>13.63%</td>\n",
       "    </tr>\n",
       "    <tr>\n",
       "      <th>5</th>\n",
       "      <td>3791403</td>\n",
       "      <td>computers.components.cpu</td>\n",
       "      <td>amd</td>\n",
       "      <td>236.97</td>\n",
       "      <td>56</td>\n",
       "      <td>87.49%</td>\n",
       "    </tr>\n",
       "    <tr>\n",
       "      <th>6</th>\n",
       "      <td>3791077</td>\n",
       "      <td>computers.components.cpu</td>\n",
       "      <td>amd</td>\n",
       "      <td>173.86</td>\n",
       "      <td>32</td>\n",
       "      <td>36.65%</td>\n",
       "    </tr>\n",
       "    <tr>\n",
       "      <th>7</th>\n",
       "      <td>3791400</td>\n",
       "      <td>computers.components.cpu</td>\n",
       "      <td>amd</td>\n",
       "      <td>381.46</td>\n",
       "      <td>29</td>\n",
       "      <td>96.76%</td>\n",
       "    </tr>\n",
       "    <tr>\n",
       "      <th>8</th>\n",
       "      <td>4078407</td>\n",
       "      <td>computers.components.cpu</td>\n",
       "      <td>amd</td>\n",
       "      <td>365.38</td>\n",
       "      <td>27</td>\n",
       "      <td>93.74%</td>\n",
       "    </tr>\n",
       "    <tr>\n",
       "      <th>9</th>\n",
       "      <td>3791079</td>\n",
       "      <td>computers.components.cpu</td>\n",
       "      <td>amd</td>\n",
       "      <td>96.86</td>\n",
       "      <td>26</td>\n",
       "      <td>10.73%</td>\n",
       "    </tr>\n",
       "  </tbody>\n",
       "</table>\n",
       "</div>"
      ],
      "text/plain": [
       "   product_id             category_code  brand   price  count  \\\n",
       "0     3791351  computers.components.cpu    amd  204.29    423   \n",
       "1      942339  computers.components.cpu    amd   56.27     96   \n",
       "2     3804514  computers.components.cpu    amd  140.86     79   \n",
       "3     1413340  computers.components.cpu    amd  137.63     69   \n",
       "4     3804563  computers.components.cpu  intel   97.35     58   \n",
       "5     3791403  computers.components.cpu    amd  236.97     56   \n",
       "6     3791077  computers.components.cpu    amd  173.86     32   \n",
       "7     3791400  computers.components.cpu    amd  381.46     29   \n",
       "8     4078407  computers.components.cpu    amd  365.38     27   \n",
       "9     3791079  computers.components.cpu    amd   96.86     26   \n",
       "\n",
       "  cheaper_percentage  \n",
       "0             40.22%  \n",
       "1              0.00%  \n",
       "2             27.82%  \n",
       "3             20.11%  \n",
       "4             13.63%  \n",
       "5             87.49%  \n",
       "6             36.65%  \n",
       "7             96.76%  \n",
       "8             93.74%  \n",
       "9             10.73%  "
      ]
     },
     "execution_count": 64,
     "metadata": {},
     "output_type": "execute_result"
    }
   ],
   "source": [
    "# mencari top 10 produk untuk kategori produk cpu\n",
    "indeks=data_price['product_id'][data_price.category_code=='computers.components.cpu'].value_counts().iloc[:10].index\n",
    "data_price_2=data_price[['product_id','category_code','brand','price']][data_price.product_id.isin(indeks)].sort_values('product_id').value_counts().reset_index()\n",
    "data_price_2=data_price_2.rename(columns={0:'count'})\n",
    "cheaper=[]\n",
    "for i in range(0,len(data_price_2)):\n",
    "    cheaper+=['%.2f%%'%((data_price_2['count'][data_price_2['price']<data_price_2['price'].iloc[i]].sum()/(data_price_2['count'].sum()))*100)]\n",
    "data_price_2['cheaper_percentage']=cheaper\n",
    "kesimpulan=kesimpulan.append(data_price_2.iloc[0:3])\n",
    "data_price_2"
   ]
  },
  {
   "cell_type": "markdown",
   "id": "RGwBo70a-ywy",
   "metadata": {
    "id": "RGwBo70a-ywy"
   },
   "source": [
    "### Analisis <mark>price</mark> produk acoustic audio"
   ]
  },
  {
   "cell_type": "code",
   "execution_count": 65,
   "id": "X45tggaQ-ywy",
   "metadata": {
    "id": "X45tggaQ-ywy",
    "outputId": "e59d82ef-703e-4b6b-a27b-c1db7cf9d954"
   },
   "outputs": [
    {
     "data": {
      "text/html": [
       "<div>\n",
       "<style scoped>\n",
       "    .dataframe tbody tr th:only-of-type {\n",
       "        vertical-align: middle;\n",
       "    }\n",
       "\n",
       "    .dataframe tbody tr th {\n",
       "        vertical-align: top;\n",
       "    }\n",
       "\n",
       "    .dataframe thead th {\n",
       "        text-align: right;\n",
       "    }\n",
       "</style>\n",
       "<table border=\"1\" class=\"dataframe\">\n",
       "  <thead>\n",
       "    <tr style=\"text-align: right;\">\n",
       "      <th></th>\n",
       "      <th>product_id</th>\n",
       "      <th>category_code</th>\n",
       "      <th>brand</th>\n",
       "      <th>price</th>\n",
       "      <th>count</th>\n",
       "      <th>cheaper_percentage</th>\n",
       "    </tr>\n",
       "  </thead>\n",
       "  <tbody>\n",
       "    <tr>\n",
       "      <th>0</th>\n",
       "      <td>1271550</td>\n",
       "      <td>electronics.audio.acoustic</td>\n",
       "      <td>edifier</td>\n",
       "      <td>84.89</td>\n",
       "      <td>76</td>\n",
       "      <td>14.97%</td>\n",
       "    </tr>\n",
       "    <tr>\n",
       "      <th>1</th>\n",
       "      <td>124712</td>\n",
       "      <td>electronics.audio.acoustic</td>\n",
       "      <td>edifier</td>\n",
       "      <td>204.79</td>\n",
       "      <td>61</td>\n",
       "      <td>67.07%</td>\n",
       "    </tr>\n",
       "    <tr>\n",
       "      <th>2</th>\n",
       "      <td>471287</td>\n",
       "      <td>electronics.audio.acoustic</td>\n",
       "      <td>edifier</td>\n",
       "      <td>117.75</td>\n",
       "      <td>43</td>\n",
       "      <td>48.50%</td>\n",
       "    </tr>\n",
       "    <tr>\n",
       "      <th>3</th>\n",
       "      <td>3699987</td>\n",
       "      <td>electronics.audio.acoustic</td>\n",
       "      <td>jbl</td>\n",
       "      <td>43.13</td>\n",
       "      <td>33</td>\n",
       "      <td>0.00%</td>\n",
       "    </tr>\n",
       "    <tr>\n",
       "      <th>4</th>\n",
       "      <td>1724625</td>\n",
       "      <td>electronics.audio.acoustic</td>\n",
       "      <td>edifier</td>\n",
       "      <td>259.94</td>\n",
       "      <td>30</td>\n",
       "      <td>91.02%</td>\n",
       "    </tr>\n",
       "    <tr>\n",
       "      <th>5</th>\n",
       "      <td>1250496</td>\n",
       "      <td>electronics.audio.acoustic</td>\n",
       "      <td>pioneer</td>\n",
       "      <td>150.65</td>\n",
       "      <td>19</td>\n",
       "      <td>61.38%</td>\n",
       "    </tr>\n",
       "    <tr>\n",
       "      <th>6</th>\n",
       "      <td>87414</td>\n",
       "      <td>electronics.audio.acoustic</td>\n",
       "      <td>morel</td>\n",
       "      <td>113.81</td>\n",
       "      <td>19</td>\n",
       "      <td>42.81%</td>\n",
       "    </tr>\n",
       "    <tr>\n",
       "      <th>7</th>\n",
       "      <td>85962</td>\n",
       "      <td>electronics.audio.acoustic</td>\n",
       "      <td>pioneer</td>\n",
       "      <td>227.30</td>\n",
       "      <td>19</td>\n",
       "      <td>85.33%</td>\n",
       "    </tr>\n",
       "    <tr>\n",
       "      <th>8</th>\n",
       "      <td>908273</td>\n",
       "      <td>electronics.audio.acoustic</td>\n",
       "      <td>dialog</td>\n",
       "      <td>107.33</td>\n",
       "      <td>17</td>\n",
       "      <td>37.72%</td>\n",
       "    </tr>\n",
       "    <tr>\n",
       "      <th>9</th>\n",
       "      <td>460841</td>\n",
       "      <td>electronics.audio.acoustic</td>\n",
       "      <td>edifier</td>\n",
       "      <td>69.54</td>\n",
       "      <td>17</td>\n",
       "      <td>9.88%</td>\n",
       "    </tr>\n",
       "  </tbody>\n",
       "</table>\n",
       "</div>"
      ],
      "text/plain": [
       "   product_id               category_code    brand   price  count  \\\n",
       "0     1271550  electronics.audio.acoustic  edifier   84.89     76   \n",
       "1      124712  electronics.audio.acoustic  edifier  204.79     61   \n",
       "2      471287  electronics.audio.acoustic  edifier  117.75     43   \n",
       "3     3699987  electronics.audio.acoustic      jbl   43.13     33   \n",
       "4     1724625  electronics.audio.acoustic  edifier  259.94     30   \n",
       "5     1250496  electronics.audio.acoustic  pioneer  150.65     19   \n",
       "6       87414  electronics.audio.acoustic    morel  113.81     19   \n",
       "7       85962  electronics.audio.acoustic  pioneer  227.30     19   \n",
       "8      908273  electronics.audio.acoustic   dialog  107.33     17   \n",
       "9      460841  electronics.audio.acoustic  edifier   69.54     17   \n",
       "\n",
       "  cheaper_percentage  \n",
       "0             14.97%  \n",
       "1             67.07%  \n",
       "2             48.50%  \n",
       "3              0.00%  \n",
       "4             91.02%  \n",
       "5             61.38%  \n",
       "6             42.81%  \n",
       "7             85.33%  \n",
       "8             37.72%  \n",
       "9              9.88%  "
      ]
     },
     "execution_count": 65,
     "metadata": {},
     "output_type": "execute_result"
    }
   ],
   "source": [
    "# mencari top 10 produk untuk kategori produk acoustic audio\n",
    "indeks=data_price['product_id'][data_price.category_code=='electronics.audio.acoustic'].value_counts().iloc[:10].index\n",
    "data_price_2=data_price[['product_id','category_code','brand','price']][data_price.product_id.isin(indeks)].sort_values('product_id').value_counts().reset_index()\n",
    "data_price_2=data_price_2.rename(columns={0:'count'})\n",
    "cheaper=[]\n",
    "for i in range(0,len(data_price_2)):\n",
    "    cheaper+=['%.2f%%'%((data_price_2['count'][data_price_2['price']<data_price_2['price'].iloc[i]].sum()/(data_price_2['count'].sum()))*100)]\n",
    "data_price_2['cheaper_percentage']=cheaper\n",
    "kesimpulan=kesimpulan.append(data_price_2.iloc[0:3])\n",
    "data_price_2"
   ]
  },
  {
   "cell_type": "markdown",
   "id": "t6hXy7RJ-yw1",
   "metadata": {
    "id": "t6hXy7RJ-yw1"
   },
   "source": [
    "### Analisis <mark>price</mark> produk tablet"
   ]
  },
  {
   "cell_type": "code",
   "execution_count": 66,
   "id": "n95Kk8Qy-yw1",
   "metadata": {
    "id": "n95Kk8Qy-yw1",
    "outputId": "388129b1-dfaa-4db2-96c8-9e7edff186f9"
   },
   "outputs": [
    {
     "data": {
      "text/html": [
       "<div>\n",
       "<style scoped>\n",
       "    .dataframe tbody tr th:only-of-type {\n",
       "        vertical-align: middle;\n",
       "    }\n",
       "\n",
       "    .dataframe tbody tr th {\n",
       "        vertical-align: top;\n",
       "    }\n",
       "\n",
       "    .dataframe thead th {\n",
       "        text-align: right;\n",
       "    }\n",
       "</style>\n",
       "<table border=\"1\" class=\"dataframe\">\n",
       "  <thead>\n",
       "    <tr style=\"text-align: right;\">\n",
       "      <th></th>\n",
       "      <th>product_id</th>\n",
       "      <th>category_code</th>\n",
       "      <th>brand</th>\n",
       "      <th>price</th>\n",
       "      <th>count</th>\n",
       "      <th>cheaper_percentage</th>\n",
       "    </tr>\n",
       "  </thead>\n",
       "  <tbody>\n",
       "    <tr>\n",
       "      <th>0</th>\n",
       "      <td>3829572</td>\n",
       "      <td>electronics.tablet</td>\n",
       "      <td>samsung</td>\n",
       "      <td>57.62</td>\n",
       "      <td>67</td>\n",
       "      <td>30.58%</td>\n",
       "    </tr>\n",
       "    <tr>\n",
       "      <th>1</th>\n",
       "      <td>1578612</td>\n",
       "      <td>electronics.tablet</td>\n",
       "      <td>xiaomi</td>\n",
       "      <td>284.30</td>\n",
       "      <td>58</td>\n",
       "      <td>82.26%</td>\n",
       "    </tr>\n",
       "    <tr>\n",
       "      <th>2</th>\n",
       "      <td>1804316</td>\n",
       "      <td>electronics.tablet</td>\n",
       "      <td>irbis</td>\n",
       "      <td>127.08</td>\n",
       "      <td>40</td>\n",
       "      <td>70.03%</td>\n",
       "    </tr>\n",
       "    <tr>\n",
       "      <th>3</th>\n",
       "      <td>4156062</td>\n",
       "      <td>electronics.tablet</td>\n",
       "      <td>digma</td>\n",
       "      <td>107.79</td>\n",
       "      <td>34</td>\n",
       "      <td>59.63%</td>\n",
       "    </tr>\n",
       "    <tr>\n",
       "      <th>4</th>\n",
       "      <td>957591</td>\n",
       "      <td>electronics.tablet</td>\n",
       "      <td>samsung</td>\n",
       "      <td>18.41</td>\n",
       "      <td>31</td>\n",
       "      <td>4.28%</td>\n",
       "    </tr>\n",
       "    <tr>\n",
       "      <th>5</th>\n",
       "      <td>3616980</td>\n",
       "      <td>electronics.tablet</td>\n",
       "      <td>samsung</td>\n",
       "      <td>86.16</td>\n",
       "      <td>28</td>\n",
       "      <td>51.07%</td>\n",
       "    </tr>\n",
       "    <tr>\n",
       "      <th>6</th>\n",
       "      <td>3829009</td>\n",
       "      <td>electronics.tablet</td>\n",
       "      <td>samsung</td>\n",
       "      <td>53.90</td>\n",
       "      <td>24</td>\n",
       "      <td>18.35%</td>\n",
       "    </tr>\n",
       "    <tr>\n",
       "      <th>7</th>\n",
       "      <td>3616976</td>\n",
       "      <td>electronics.tablet</td>\n",
       "      <td>samsung</td>\n",
       "      <td>57.13</td>\n",
       "      <td>16</td>\n",
       "      <td>25.69%</td>\n",
       "    </tr>\n",
       "    <tr>\n",
       "      <th>8</th>\n",
       "      <td>1428320</td>\n",
       "      <td>electronics.tablet</td>\n",
       "      <td>samsung</td>\n",
       "      <td>18.57</td>\n",
       "      <td>15</td>\n",
       "      <td>13.76%</td>\n",
       "    </tr>\n",
       "    <tr>\n",
       "      <th>9</th>\n",
       "      <td>252464</td>\n",
       "      <td>electronics.tablet</td>\n",
       "      <td>No Brand</td>\n",
       "      <td>1.57</td>\n",
       "      <td>14</td>\n",
       "      <td>0.00%</td>\n",
       "    </tr>\n",
       "  </tbody>\n",
       "</table>\n",
       "</div>"
      ],
      "text/plain": [
       "   product_id       category_code     brand   price  count cheaper_percentage\n",
       "0     3829572  electronics.tablet   samsung   57.62     67             30.58%\n",
       "1     1578612  electronics.tablet    xiaomi  284.30     58             82.26%\n",
       "2     1804316  electronics.tablet     irbis  127.08     40             70.03%\n",
       "3     4156062  electronics.tablet     digma  107.79     34             59.63%\n",
       "4      957591  electronics.tablet   samsung   18.41     31              4.28%\n",
       "5     3616980  electronics.tablet   samsung   86.16     28             51.07%\n",
       "6     3829009  electronics.tablet   samsung   53.90     24             18.35%\n",
       "7     3616976  electronics.tablet   samsung   57.13     16             25.69%\n",
       "8     1428320  electronics.tablet   samsung   18.57     15             13.76%\n",
       "9      252464  electronics.tablet  No Brand    1.57     14              0.00%"
      ]
     },
     "execution_count": 66,
     "metadata": {},
     "output_type": "execute_result"
    }
   ],
   "source": [
    "# mencari top 10 produk untuk kategori produk tablet\n",
    "indeks=data_price['product_id'][data_price.category_code=='electronics.tablet'].value_counts().iloc[:10].index\n",
    "data_price_2=data_price[['product_id','category_code','brand','price']][data_price.product_id.isin(indeks)].sort_values('product_id').value_counts().reset_index()\n",
    "data_price_2=data_price_2.rename(columns={0:'count'})\n",
    "cheaper=[]\n",
    "for i in range(0,len(data_price_2)):\n",
    "    cheaper+=['%.2f%%'%((data_price_2['count'][data_price_2['price']<data_price_2['price'].iloc[i]].sum()/(data_price_2['count'].sum()))*100)]\n",
    "data_price_2['cheaper_percentage']=cheaper\n",
    "kesimpulan=kesimpulan.append(data_price_2.iloc[0:3])\n",
    "data_price_2"
   ]
  },
  {
   "cell_type": "markdown",
   "id": "PB9Vaj2H-yw3",
   "metadata": {
    "id": "PB9Vaj2H-yw3"
   },
   "source": [
    "### Analisis <mark>price</mark> produk auto accessories player"
   ]
  },
  {
   "cell_type": "code",
   "execution_count": 67,
   "id": "fhg02Vel-yw4",
   "metadata": {
    "id": "fhg02Vel-yw4",
    "outputId": "f11989a9-62d7-4096-92fb-1bb0e38fd992"
   },
   "outputs": [
    {
     "data": {
      "text/html": [
       "<div>\n",
       "<style scoped>\n",
       "    .dataframe tbody tr th:only-of-type {\n",
       "        vertical-align: middle;\n",
       "    }\n",
       "\n",
       "    .dataframe tbody tr th {\n",
       "        vertical-align: top;\n",
       "    }\n",
       "\n",
       "    .dataframe thead th {\n",
       "        text-align: right;\n",
       "    }\n",
       "</style>\n",
       "<table border=\"1\" class=\"dataframe\">\n",
       "  <thead>\n",
       "    <tr style=\"text-align: right;\">\n",
       "      <th></th>\n",
       "      <th>product_id</th>\n",
       "      <th>category_code</th>\n",
       "      <th>brand</th>\n",
       "      <th>price</th>\n",
       "      <th>count</th>\n",
       "      <th>cheaper_percentage</th>\n",
       "    </tr>\n",
       "  </thead>\n",
       "  <tbody>\n",
       "    <tr>\n",
       "      <th>0</th>\n",
       "      <td>4099764</td>\n",
       "      <td>auto.accessories.player</td>\n",
       "      <td>pioneer</td>\n",
       "      <td>126.68</td>\n",
       "      <td>180</td>\n",
       "      <td>36.09%</td>\n",
       "    </tr>\n",
       "    <tr>\n",
       "      <th>1</th>\n",
       "      <td>4100427</td>\n",
       "      <td>auto.accessories.player</td>\n",
       "      <td>kenwood</td>\n",
       "      <td>104.86</td>\n",
       "      <td>68</td>\n",
       "      <td>11.09%</td>\n",
       "    </tr>\n",
       "    <tr>\n",
       "      <th>2</th>\n",
       "      <td>1843507</td>\n",
       "      <td>auto.accessories.player</td>\n",
       "      <td>pioneer</td>\n",
       "      <td>153.83</td>\n",
       "      <td>50</td>\n",
       "      <td>84.57%</td>\n",
       "    </tr>\n",
       "    <tr>\n",
       "      <th>3</th>\n",
       "      <td>4101476</td>\n",
       "      <td>auto.accessories.player</td>\n",
       "      <td>kenwood</td>\n",
       "      <td>93.43</td>\n",
       "      <td>32</td>\n",
       "      <td>0.00%</td>\n",
       "    </tr>\n",
       "    <tr>\n",
       "      <th>4</th>\n",
       "      <td>4154167</td>\n",
       "      <td>auto.accessories.player</td>\n",
       "      <td>jvc</td>\n",
       "      <td>133.03</td>\n",
       "      <td>31</td>\n",
       "      <td>75.22%</td>\n",
       "    </tr>\n",
       "    <tr>\n",
       "      <th>5</th>\n",
       "      <td>4079501</td>\n",
       "      <td>auto.accessories.player</td>\n",
       "      <td>pioneer</td>\n",
       "      <td>115.71</td>\n",
       "      <td>26</td>\n",
       "      <td>30.43%</td>\n",
       "    </tr>\n",
       "    <tr>\n",
       "      <th>6</th>\n",
       "      <td>3648340</td>\n",
       "      <td>auto.accessories.player</td>\n",
       "      <td>alpine</td>\n",
       "      <td>110.95</td>\n",
       "      <td>21</td>\n",
       "      <td>25.87%</td>\n",
       "    </tr>\n",
       "    <tr>\n",
       "      <th>7</th>\n",
       "      <td>1676906</td>\n",
       "      <td>auto.accessories.player</td>\n",
       "      <td>sony</td>\n",
       "      <td>218.98</td>\n",
       "      <td>21</td>\n",
       "      <td>95.43%</td>\n",
       "    </tr>\n",
       "    <tr>\n",
       "      <th>8</th>\n",
       "      <td>4154168</td>\n",
       "      <td>auto.accessories.player</td>\n",
       "      <td>jvc</td>\n",
       "      <td>99.92</td>\n",
       "      <td>19</td>\n",
       "      <td>6.96%</td>\n",
       "    </tr>\n",
       "    <tr>\n",
       "      <th>9</th>\n",
       "      <td>1007253</td>\n",
       "      <td>auto.accessories.player</td>\n",
       "      <td>prology</td>\n",
       "      <td>134.46</td>\n",
       "      <td>12</td>\n",
       "      <td>81.96%</td>\n",
       "    </tr>\n",
       "  </tbody>\n",
       "</table>\n",
       "</div>"
      ],
      "text/plain": [
       "   product_id            category_code    brand   price  count  \\\n",
       "0     4099764  auto.accessories.player  pioneer  126.68    180   \n",
       "1     4100427  auto.accessories.player  kenwood  104.86     68   \n",
       "2     1843507  auto.accessories.player  pioneer  153.83     50   \n",
       "3     4101476  auto.accessories.player  kenwood   93.43     32   \n",
       "4     4154167  auto.accessories.player      jvc  133.03     31   \n",
       "5     4079501  auto.accessories.player  pioneer  115.71     26   \n",
       "6     3648340  auto.accessories.player   alpine  110.95     21   \n",
       "7     1676906  auto.accessories.player     sony  218.98     21   \n",
       "8     4154168  auto.accessories.player      jvc   99.92     19   \n",
       "9     1007253  auto.accessories.player  prology  134.46     12   \n",
       "\n",
       "  cheaper_percentage  \n",
       "0             36.09%  \n",
       "1             11.09%  \n",
       "2             84.57%  \n",
       "3              0.00%  \n",
       "4             75.22%  \n",
       "5             30.43%  \n",
       "6             25.87%  \n",
       "7             95.43%  \n",
       "8              6.96%  \n",
       "9             81.96%  "
      ]
     },
     "execution_count": 67,
     "metadata": {},
     "output_type": "execute_result"
    }
   ],
   "source": [
    "# mencari top 10 produk untuk kategori produk auto accessories player\n",
    "indeks=data_price['product_id'][data_price.category_code=='auto.accessories.player'].value_counts().iloc[:10].index\n",
    "data_price_2=data_price[['product_id','category_code','brand','price']][data_price.product_id.isin(indeks)].sort_values('product_id').value_counts().reset_index()\n",
    "data_price_2=data_price_2.rename(columns={0:'count'})\n",
    "cheaper=[]\n",
    "for i in range(0,len(data_price_2)):\n",
    "    cheaper+=['%.2f%%'%((data_price_2['count'][data_price_2['price']<data_price_2['price'].iloc[i]].sum()/(data_price_2['count'].sum()))*100)]\n",
    "data_price_2['cheaper_percentage']=cheaper\n",
    "kesimpulan=kesimpulan.append(data_price_2.iloc[0:3])\n",
    "data_price_2"
   ]
  },
  {
   "cell_type": "markdown",
   "id": "e1bfc97a",
   "metadata": {},
   "source": [
    "### Kesimpulan analisis <mark>price</mark> top 10 kategori produk"
   ]
  },
  {
   "cell_type": "code",
   "execution_count": 68,
   "id": "a8948343",
   "metadata": {},
   "outputs": [
    {
     "data": {
      "text/html": [
       "<div>\n",
       "<style scoped>\n",
       "    .dataframe tbody tr th:only-of-type {\n",
       "        vertical-align: middle;\n",
       "    }\n",
       "\n",
       "    .dataframe tbody tr th {\n",
       "        vertical-align: top;\n",
       "    }\n",
       "\n",
       "    .dataframe thead th {\n",
       "        text-align: right;\n",
       "    }\n",
       "</style>\n",
       "<table border=\"1\" class=\"dataframe\">\n",
       "  <thead>\n",
       "    <tr style=\"text-align: right;\">\n",
       "      <th></th>\n",
       "      <th>product_id</th>\n",
       "      <th>category_code</th>\n",
       "      <th>brand</th>\n",
       "      <th>price</th>\n",
       "      <th>count</th>\n",
       "      <th>cheaper_percentage</th>\n",
       "    </tr>\n",
       "  </thead>\n",
       "  <tbody>\n",
       "    <tr>\n",
       "      <th>0</th>\n",
       "      <td>4099645</td>\n",
       "      <td>computers.components.videocards</td>\n",
       "      <td>gigabyte</td>\n",
       "      <td>292.83</td>\n",
       "      <td>564</td>\n",
       "      <td>22.24%</td>\n",
       "    </tr>\n",
       "    <tr>\n",
       "      <th>1</th>\n",
       "      <td>1821813</td>\n",
       "      <td>computers.components.videocards</td>\n",
       "      <td>No Brand</td>\n",
       "      <td>397.48</td>\n",
       "      <td>538</td>\n",
       "      <td>51.04%</td>\n",
       "    </tr>\n",
       "    <tr>\n",
       "      <th>2</th>\n",
       "      <td>893196</td>\n",
       "      <td>computers.components.videocards</td>\n",
       "      <td>sapphire</td>\n",
       "      <td>214.10</td>\n",
       "      <td>384</td>\n",
       "      <td>8.92%</td>\n",
       "    </tr>\n",
       "    <tr>\n",
       "      <th>0</th>\n",
       "      <td>3829355</td>\n",
       "      <td>electronics.telephone</td>\n",
       "      <td>No Brand</td>\n",
       "      <td>32.22</td>\n",
       "      <td>543</td>\n",
       "      <td>38.44%</td>\n",
       "    </tr>\n",
       "    <tr>\n",
       "      <th>1</th>\n",
       "      <td>1821557</td>\n",
       "      <td>electronics.telephone</td>\n",
       "      <td>sirius</td>\n",
       "      <td>16.19</td>\n",
       "      <td>121</td>\n",
       "      <td>6.23%</td>\n",
       "    </tr>\n",
       "    <tr>\n",
       "      <th>2</th>\n",
       "      <td>3632668</td>\n",
       "      <td>electronics.telephone</td>\n",
       "      <td>No Brand</td>\n",
       "      <td>34.44</td>\n",
       "      <td>116</td>\n",
       "      <td>82.81%</td>\n",
       "    </tr>\n",
       "    <tr>\n",
       "      <th>0</th>\n",
       "      <td>3642540</td>\n",
       "      <td>stationery.cartrige</td>\n",
       "      <td>hp</td>\n",
       "      <td>26.19</td>\n",
       "      <td>345</td>\n",
       "      <td>21.91%</td>\n",
       "    </tr>\n",
       "    <tr>\n",
       "      <th>1</th>\n",
       "      <td>1785245</td>\n",
       "      <td>stationery.cartrige</td>\n",
       "      <td>canon</td>\n",
       "      <td>43.11</td>\n",
       "      <td>207</td>\n",
       "      <td>69.79%</td>\n",
       "    </tr>\n",
       "    <tr>\n",
       "      <th>2</th>\n",
       "      <td>471387</td>\n",
       "      <td>stationery.cartrige</td>\n",
       "      <td>nv-print</td>\n",
       "      <td>13.86</td>\n",
       "      <td>110</td>\n",
       "      <td>0.00%</td>\n",
       "    </tr>\n",
       "    <tr>\n",
       "      <th>0</th>\n",
       "      <td>799067</td>\n",
       "      <td>computers.peripherals.printer</td>\n",
       "      <td>canon</td>\n",
       "      <td>82.97</td>\n",
       "      <td>233</td>\n",
       "      <td>8.69%</td>\n",
       "    </tr>\n",
       "    <tr>\n",
       "      <th>1</th>\n",
       "      <td>3829912</td>\n",
       "      <td>computers.peripherals.printer</td>\n",
       "      <td>pantum</td>\n",
       "      <td>122.86</td>\n",
       "      <td>122</td>\n",
       "      <td>41.58%</td>\n",
       "    </tr>\n",
       "    <tr>\n",
       "      <th>2</th>\n",
       "      <td>3790736</td>\n",
       "      <td>computers.peripherals.printer</td>\n",
       "      <td>canon</td>\n",
       "      <td>163.52</td>\n",
       "      <td>94</td>\n",
       "      <td>55.01%</td>\n",
       "    </tr>\n",
       "    <tr>\n",
       "      <th>0</th>\n",
       "      <td>1044616</td>\n",
       "      <td>computers.notebook</td>\n",
       "      <td>mobilepc</td>\n",
       "      <td>22.22</td>\n",
       "      <td>95</td>\n",
       "      <td>9.29%</td>\n",
       "    </tr>\n",
       "    <tr>\n",
       "      <th>1</th>\n",
       "      <td>3627467</td>\n",
       "      <td>computers.notebook</td>\n",
       "      <td>No Brand</td>\n",
       "      <td>31.11</td>\n",
       "      <td>46</td>\n",
       "      <td>45.36%</td>\n",
       "    </tr>\n",
       "    <tr>\n",
       "      <th>2</th>\n",
       "      <td>1006967</td>\n",
       "      <td>computers.notebook</td>\n",
       "      <td>topon</td>\n",
       "      <td>55.87</td>\n",
       "      <td>46</td>\n",
       "      <td>87.43%</td>\n",
       "    </tr>\n",
       "    <tr>\n",
       "      <th>0</th>\n",
       "      <td>136700</td>\n",
       "      <td>computers.components.motherboard</td>\n",
       "      <td>asrock</td>\n",
       "      <td>77.73</td>\n",
       "      <td>194</td>\n",
       "      <td>69.05%</td>\n",
       "    </tr>\n",
       "    <tr>\n",
       "      <th>1</th>\n",
       "      <td>809948</td>\n",
       "      <td>computers.components.motherboard</td>\n",
       "      <td>asus</td>\n",
       "      <td>64.48</td>\n",
       "      <td>187</td>\n",
       "      <td>26.73%</td>\n",
       "    </tr>\n",
       "    <tr>\n",
       "      <th>2</th>\n",
       "      <td>523117</td>\n",
       "      <td>computers.components.motherboard</td>\n",
       "      <td>asrock</td>\n",
       "      <td>73.81</td>\n",
       "      <td>125</td>\n",
       "      <td>54.40%</td>\n",
       "    </tr>\n",
       "    <tr>\n",
       "      <th>0</th>\n",
       "      <td>3791351</td>\n",
       "      <td>computers.components.cpu</td>\n",
       "      <td>amd</td>\n",
       "      <td>204.29</td>\n",
       "      <td>423</td>\n",
       "      <td>40.22%</td>\n",
       "    </tr>\n",
       "    <tr>\n",
       "      <th>1</th>\n",
       "      <td>942339</td>\n",
       "      <td>computers.components.cpu</td>\n",
       "      <td>amd</td>\n",
       "      <td>56.27</td>\n",
       "      <td>96</td>\n",
       "      <td>0.00%</td>\n",
       "    </tr>\n",
       "    <tr>\n",
       "      <th>2</th>\n",
       "      <td>3804514</td>\n",
       "      <td>computers.components.cpu</td>\n",
       "      <td>amd</td>\n",
       "      <td>140.86</td>\n",
       "      <td>79</td>\n",
       "      <td>27.82%</td>\n",
       "    </tr>\n",
       "    <tr>\n",
       "      <th>0</th>\n",
       "      <td>1271550</td>\n",
       "      <td>electronics.audio.acoustic</td>\n",
       "      <td>edifier</td>\n",
       "      <td>84.89</td>\n",
       "      <td>76</td>\n",
       "      <td>14.97%</td>\n",
       "    </tr>\n",
       "    <tr>\n",
       "      <th>1</th>\n",
       "      <td>124712</td>\n",
       "      <td>electronics.audio.acoustic</td>\n",
       "      <td>edifier</td>\n",
       "      <td>204.79</td>\n",
       "      <td>61</td>\n",
       "      <td>67.07%</td>\n",
       "    </tr>\n",
       "    <tr>\n",
       "      <th>2</th>\n",
       "      <td>471287</td>\n",
       "      <td>electronics.audio.acoustic</td>\n",
       "      <td>edifier</td>\n",
       "      <td>117.75</td>\n",
       "      <td>43</td>\n",
       "      <td>48.50%</td>\n",
       "    </tr>\n",
       "    <tr>\n",
       "      <th>0</th>\n",
       "      <td>3829572</td>\n",
       "      <td>electronics.tablet</td>\n",
       "      <td>samsung</td>\n",
       "      <td>57.62</td>\n",
       "      <td>67</td>\n",
       "      <td>30.58%</td>\n",
       "    </tr>\n",
       "    <tr>\n",
       "      <th>1</th>\n",
       "      <td>1578612</td>\n",
       "      <td>electronics.tablet</td>\n",
       "      <td>xiaomi</td>\n",
       "      <td>284.30</td>\n",
       "      <td>58</td>\n",
       "      <td>82.26%</td>\n",
       "    </tr>\n",
       "    <tr>\n",
       "      <th>2</th>\n",
       "      <td>1804316</td>\n",
       "      <td>electronics.tablet</td>\n",
       "      <td>irbis</td>\n",
       "      <td>127.08</td>\n",
       "      <td>40</td>\n",
       "      <td>70.03%</td>\n",
       "    </tr>\n",
       "    <tr>\n",
       "      <th>0</th>\n",
       "      <td>4099764</td>\n",
       "      <td>auto.accessories.player</td>\n",
       "      <td>pioneer</td>\n",
       "      <td>126.68</td>\n",
       "      <td>180</td>\n",
       "      <td>36.09%</td>\n",
       "    </tr>\n",
       "    <tr>\n",
       "      <th>1</th>\n",
       "      <td>4100427</td>\n",
       "      <td>auto.accessories.player</td>\n",
       "      <td>kenwood</td>\n",
       "      <td>104.86</td>\n",
       "      <td>68</td>\n",
       "      <td>11.09%</td>\n",
       "    </tr>\n",
       "    <tr>\n",
       "      <th>2</th>\n",
       "      <td>1843507</td>\n",
       "      <td>auto.accessories.player</td>\n",
       "      <td>pioneer</td>\n",
       "      <td>153.83</td>\n",
       "      <td>50</td>\n",
       "      <td>84.57%</td>\n",
       "    </tr>\n",
       "  </tbody>\n",
       "</table>\n",
       "</div>"
      ],
      "text/plain": [
       "   product_id                     category_code     brand   price  count  \\\n",
       "0     4099645   computers.components.videocards  gigabyte  292.83    564   \n",
       "1     1821813   computers.components.videocards  No Brand  397.48    538   \n",
       "2      893196   computers.components.videocards  sapphire  214.10    384   \n",
       "0     3829355             electronics.telephone  No Brand   32.22    543   \n",
       "1     1821557             electronics.telephone    sirius   16.19    121   \n",
       "2     3632668             electronics.telephone  No Brand   34.44    116   \n",
       "0     3642540               stationery.cartrige        hp   26.19    345   \n",
       "1     1785245               stationery.cartrige     canon   43.11    207   \n",
       "2      471387               stationery.cartrige  nv-print   13.86    110   \n",
       "0      799067     computers.peripherals.printer     canon   82.97    233   \n",
       "1     3829912     computers.peripherals.printer    pantum  122.86    122   \n",
       "2     3790736     computers.peripherals.printer     canon  163.52     94   \n",
       "0     1044616                computers.notebook  mobilepc   22.22     95   \n",
       "1     3627467                computers.notebook  No Brand   31.11     46   \n",
       "2     1006967                computers.notebook     topon   55.87     46   \n",
       "0      136700  computers.components.motherboard    asrock   77.73    194   \n",
       "1      809948  computers.components.motherboard      asus   64.48    187   \n",
       "2      523117  computers.components.motherboard    asrock   73.81    125   \n",
       "0     3791351          computers.components.cpu       amd  204.29    423   \n",
       "1      942339          computers.components.cpu       amd   56.27     96   \n",
       "2     3804514          computers.components.cpu       amd  140.86     79   \n",
       "0     1271550        electronics.audio.acoustic   edifier   84.89     76   \n",
       "1      124712        electronics.audio.acoustic   edifier  204.79     61   \n",
       "2      471287        electronics.audio.acoustic   edifier  117.75     43   \n",
       "0     3829572                electronics.tablet   samsung   57.62     67   \n",
       "1     1578612                electronics.tablet    xiaomi  284.30     58   \n",
       "2     1804316                electronics.tablet     irbis  127.08     40   \n",
       "0     4099764           auto.accessories.player   pioneer  126.68    180   \n",
       "1     4100427           auto.accessories.player   kenwood  104.86     68   \n",
       "2     1843507           auto.accessories.player   pioneer  153.83     50   \n",
       "\n",
       "  cheaper_percentage  \n",
       "0             22.24%  \n",
       "1             51.04%  \n",
       "2              8.92%  \n",
       "0             38.44%  \n",
       "1              6.23%  \n",
       "2             82.81%  \n",
       "0             21.91%  \n",
       "1             69.79%  \n",
       "2              0.00%  \n",
       "0              8.69%  \n",
       "1             41.58%  \n",
       "2             55.01%  \n",
       "0              9.29%  \n",
       "1             45.36%  \n",
       "2             87.43%  \n",
       "0             69.05%  \n",
       "1             26.73%  \n",
       "2             54.40%  \n",
       "0             40.22%  \n",
       "1              0.00%  \n",
       "2             27.82%  \n",
       "0             14.97%  \n",
       "1             67.07%  \n",
       "2             48.50%  \n",
       "0             30.58%  \n",
       "1             82.26%  \n",
       "2             70.03%  \n",
       "0             36.09%  \n",
       "1             11.09%  \n",
       "2             84.57%  "
      ]
     },
     "execution_count": 68,
     "metadata": {},
     "output_type": "execute_result"
    }
   ],
   "source": [
    "# mengeluarkan tabel kesimpulan analisis price top 10 kategori produk\n",
    "kesimpulan"
   ]
  },
  {
   "cell_type": "markdown",
   "id": "4ae2dcb4",
   "metadata": {},
   "source": [
    "__Observasi:__\n",
    "1. Tabel diatas menggambarkan harga tiap 3 produk terlaris dan persentase murahnya untuk tiap kategori dalam top 10 kateogori produk.\n",
    "2. Persentase murah didefinisikan sebagai persentase barang terjual yang lebih murah dari barang tersebut.\n",
    "3. Dari tabel diatas, terlihat bahwa hampir semua produk paling laris adalah barang yang harganya jauh lebih murah dari 50% barang yang terjual dikategori yang sama. \n",
    "4. Pengecualian untuk kesimpulan nomor tiga adalah kategori motherboard dimana produk paling laris adalah produk yang harganya cukup mahal dan 70% produk terjual di kategori yang sama harganya lebih murah serta cpu yang harganya cukup mahal dan sekitar 40% produk terjual di kategori yang sama harganya lebih murah.\n",
    "5. Dari tabel diatas juga terlihat bahwa untuk hampir semua tiga produk terlaris, salah satunya adalah produk yang harganya diatas 50% produk terjual di kateogori yang sama, hal ini menunjukkan bahwa harga adalah penentu namun bukan satu-satunya penentu dalam pembelian barang."
   ]
  },
  {
   "cell_type": "markdown",
   "id": "beb51af9",
   "metadata": {
    "id": "beb51af9"
   },
   "source": [
    "## Analisis kolom <mark>activity</mark>"
   ]
  },
  {
   "cell_type": "code",
   "execution_count": 69,
   "id": "019682af",
   "metadata": {
    "id": "019682af",
    "outputId": "b6cb52f9-6fe2-428c-e436-5991edfad34a"
   },
   "outputs": [
    {
     "data": {
      "text/plain": [
       "0"
      ]
     },
     "execution_count": 69,
     "metadata": {},
     "output_type": "execute_result"
    }
   ],
   "source": [
    "# persiapkan data_category yang akan di analisis\n",
    "data_activity=data.copy()\n",
    "data_activity.event_type.isnull().sum()"
   ]
  },
  {
   "cell_type": "code",
   "execution_count": 70,
   "id": "df072860",
   "metadata": {
    "id": "df072860",
    "outputId": "122bad4e-4c8f-44d6-e095-52130bb4da84"
   },
   "outputs": [
    {
     "data": {
      "text/html": [
       "<div>\n",
       "<style scoped>\n",
       "    .dataframe tbody tr th:only-of-type {\n",
       "        vertical-align: middle;\n",
       "    }\n",
       "\n",
       "    .dataframe tbody tr th {\n",
       "        vertical-align: top;\n",
       "    }\n",
       "\n",
       "    .dataframe thead th {\n",
       "        text-align: right;\n",
       "    }\n",
       "</style>\n",
       "<table border=\"1\" class=\"dataframe\">\n",
       "  <thead>\n",
       "    <tr style=\"text-align: right;\">\n",
       "      <th></th>\n",
       "      <th>product_id</th>\n",
       "      <th>category_code</th>\n",
       "      <th>purchase_count</th>\n",
       "      <th>rank_purchase</th>\n",
       "    </tr>\n",
       "  </thead>\n",
       "  <tbody>\n",
       "    <tr>\n",
       "      <th>0</th>\n",
       "      <td>4099645</td>\n",
       "      <td>computers.components.videocards</td>\n",
       "      <td>564</td>\n",
       "      <td>1</td>\n",
       "    </tr>\n",
       "    <tr>\n",
       "      <th>1</th>\n",
       "      <td>3829355</td>\n",
       "      <td>electronics.telephone</td>\n",
       "      <td>543</td>\n",
       "      <td>2</td>\n",
       "    </tr>\n",
       "    <tr>\n",
       "      <th>2</th>\n",
       "      <td>1821813</td>\n",
       "      <td>computers.components.videocards</td>\n",
       "      <td>538</td>\n",
       "      <td>3</td>\n",
       "    </tr>\n",
       "    <tr>\n",
       "      <th>3</th>\n",
       "      <td>3791351</td>\n",
       "      <td>computers.components.cpu</td>\n",
       "      <td>423</td>\n",
       "      <td>4</td>\n",
       "    </tr>\n",
       "    <tr>\n",
       "      <th>4</th>\n",
       "      <td>893196</td>\n",
       "      <td>computers.components.videocards</td>\n",
       "      <td>384</td>\n",
       "      <td>5</td>\n",
       "    </tr>\n",
       "    <tr>\n",
       "      <th>...</th>\n",
       "      <td>...</td>\n",
       "      <td>...</td>\n",
       "      <td>...</td>\n",
       "      <td>...</td>\n",
       "    </tr>\n",
       "    <tr>\n",
       "      <th>6430</th>\n",
       "      <td>1666522</td>\n",
       "      <td>construction.tools.saw</td>\n",
       "      <td>1</td>\n",
       "      <td>6431</td>\n",
       "    </tr>\n",
       "    <tr>\n",
       "      <th>6431</th>\n",
       "      <td>779865</td>\n",
       "      <td>computers.components.videocards</td>\n",
       "      <td>1</td>\n",
       "      <td>6432</td>\n",
       "    </tr>\n",
       "    <tr>\n",
       "      <th>6432</th>\n",
       "      <td>1666539</td>\n",
       "      <td>appliances.kitchen.kettle</td>\n",
       "      <td>1</td>\n",
       "      <td>6433</td>\n",
       "    </tr>\n",
       "    <tr>\n",
       "      <th>6433</th>\n",
       "      <td>779454</td>\n",
       "      <td>No_Category.No_Category.No_Category</td>\n",
       "      <td>1</td>\n",
       "      <td>6434</td>\n",
       "    </tr>\n",
       "    <tr>\n",
       "      <th>6434</th>\n",
       "      <td>1045124</td>\n",
       "      <td>computers.components.hdd</td>\n",
       "      <td>1</td>\n",
       "      <td>6435</td>\n",
       "    </tr>\n",
       "  </tbody>\n",
       "</table>\n",
       "<p>6435 rows × 4 columns</p>\n",
       "</div>"
      ],
      "text/plain": [
       "      product_id                        category_code  purchase_count  \\\n",
       "0        4099645      computers.components.videocards             564   \n",
       "1        3829355                electronics.telephone             543   \n",
       "2        1821813      computers.components.videocards             538   \n",
       "3        3791351             computers.components.cpu             423   \n",
       "4         893196      computers.components.videocards             384   \n",
       "...          ...                                  ...             ...   \n",
       "6430     1666522               construction.tools.saw               1   \n",
       "6431      779865      computers.components.videocards               1   \n",
       "6432     1666539            appliances.kitchen.kettle               1   \n",
       "6433      779454  No_Category.No_Category.No_Category               1   \n",
       "6434     1045124             computers.components.hdd               1   \n",
       "\n",
       "      rank_purchase  \n",
       "0                 1  \n",
       "1                 2  \n",
       "2                 3  \n",
       "3                 4  \n",
       "4                 5  \n",
       "...             ...  \n",
       "6430           6431  \n",
       "6431           6432  \n",
       "6432           6433  \n",
       "6433           6434  \n",
       "6434           6435  \n",
       "\n",
       "[6435 rows x 4 columns]"
      ]
     },
     "execution_count": 70,
     "metadata": {},
     "output_type": "execute_result"
    }
   ],
   "source": [
    "# persiapkan data purchase\n",
    "data_activity_purchase=data_activity[data_activity['event_type']=='purchase'].groupby(['product_id','category_code'])['event_type'].agg('count').sort_values(ascending=False).reset_index()\n",
    "data_activity_purchase.rename(columns={'event_type':'purchase_count'},inplace=True)\n",
    "data_activity_purchase['rank_purchase']=data_activity_purchase.index+1\n",
    "index_purchase_10=data_activity_purchase['product_id'].head(10).tolist()\n",
    "data_activity_purchase"
   ]
  },
  {
   "cell_type": "code",
   "execution_count": 71,
   "id": "4b0ceb11",
   "metadata": {
    "id": "4b0ceb11",
    "outputId": "b812e955-0844-4bf5-9dd2-5b620bc2cabb"
   },
   "outputs": [
    {
     "data": {
      "text/html": [
       "<div>\n",
       "<style scoped>\n",
       "    .dataframe tbody tr th:only-of-type {\n",
       "        vertical-align: middle;\n",
       "    }\n",
       "\n",
       "    .dataframe tbody tr th {\n",
       "        vertical-align: top;\n",
       "    }\n",
       "\n",
       "    .dataframe thead th {\n",
       "        text-align: right;\n",
       "    }\n",
       "</style>\n",
       "<table border=\"1\" class=\"dataframe\">\n",
       "  <thead>\n",
       "    <tr style=\"text-align: right;\">\n",
       "      <th></th>\n",
       "      <th>product_id</th>\n",
       "      <th>category_code</th>\n",
       "      <th>view_count</th>\n",
       "      <th>rank_view</th>\n",
       "    </tr>\n",
       "  </thead>\n",
       "  <tbody>\n",
       "    <tr>\n",
       "      <th>0</th>\n",
       "      <td>1821813</td>\n",
       "      <td>computers.components.videocards</td>\n",
       "      <td>12794</td>\n",
       "      <td>1</td>\n",
       "    </tr>\n",
       "    <tr>\n",
       "      <th>1</th>\n",
       "      <td>3791351</td>\n",
       "      <td>computers.components.cpu</td>\n",
       "      <td>5717</td>\n",
       "      <td>2</td>\n",
       "    </tr>\n",
       "    <tr>\n",
       "      <th>2</th>\n",
       "      <td>4099645</td>\n",
       "      <td>computers.components.videocards</td>\n",
       "      <td>5489</td>\n",
       "      <td>3</td>\n",
       "    </tr>\n",
       "    <tr>\n",
       "      <th>3</th>\n",
       "      <td>1785245</td>\n",
       "      <td>stationery.cartrige</td>\n",
       "      <td>4630</td>\n",
       "      <td>4</td>\n",
       "    </tr>\n",
       "    <tr>\n",
       "      <th>4</th>\n",
       "      <td>3829355</td>\n",
       "      <td>electronics.telephone</td>\n",
       "      <td>4552</td>\n",
       "      <td>5</td>\n",
       "    </tr>\n",
       "    <tr>\n",
       "      <th>...</th>\n",
       "      <td>...</td>\n",
       "      <td>...</td>\n",
       "      <td>...</td>\n",
       "      <td>...</td>\n",
       "    </tr>\n",
       "    <tr>\n",
       "      <th>53447</th>\n",
       "      <td>593778</td>\n",
       "      <td>No_Category.No_Category.No_Category</td>\n",
       "      <td>1</td>\n",
       "      <td>53448</td>\n",
       "    </tr>\n",
       "    <tr>\n",
       "      <th>53448</th>\n",
       "      <td>593763</td>\n",
       "      <td>No_Category.No_Category.No_Category</td>\n",
       "      <td>1</td>\n",
       "      <td>53449</td>\n",
       "    </tr>\n",
       "    <tr>\n",
       "      <th>53449</th>\n",
       "      <td>1247933</td>\n",
       "      <td>electronics.telephone</td>\n",
       "      <td>1</td>\n",
       "      <td>53450</td>\n",
       "    </tr>\n",
       "    <tr>\n",
       "      <th>53450</th>\n",
       "      <td>4044568</td>\n",
       "      <td>construction.tools.light</td>\n",
       "      <td>1</td>\n",
       "      <td>53451</td>\n",
       "    </tr>\n",
       "    <tr>\n",
       "      <th>53451</th>\n",
       "      <td>885979</td>\n",
       "      <td>electronics.telephone</td>\n",
       "      <td>1</td>\n",
       "      <td>53452</td>\n",
       "    </tr>\n",
       "  </tbody>\n",
       "</table>\n",
       "<p>53452 rows × 4 columns</p>\n",
       "</div>"
      ],
      "text/plain": [
       "       product_id                        category_code  view_count  rank_view\n",
       "0         1821813      computers.components.videocards       12794          1\n",
       "1         3791351             computers.components.cpu        5717          2\n",
       "2         4099645      computers.components.videocards        5489          3\n",
       "3         1785245                  stationery.cartrige        4630          4\n",
       "4         3829355                electronics.telephone        4552          5\n",
       "...           ...                                  ...         ...        ...\n",
       "53447      593778  No_Category.No_Category.No_Category           1      53448\n",
       "53448      593763  No_Category.No_Category.No_Category           1      53449\n",
       "53449     1247933                electronics.telephone           1      53450\n",
       "53450     4044568             construction.tools.light           1      53451\n",
       "53451      885979                electronics.telephone           1      53452\n",
       "\n",
       "[53452 rows x 4 columns]"
      ]
     },
     "execution_count": 71,
     "metadata": {},
     "output_type": "execute_result"
    }
   ],
   "source": [
    "# persiapkan data view\n",
    "data_activity_view=data_activity[data_activity['event_type']=='view'].groupby(['product_id','category_code'])['event_type'].agg('count').sort_values(ascending=False).reset_index()\n",
    "data_activity_view.rename(columns={'event_type':'view_count'},inplace=True)\n",
    "data_activity_view['rank_view']=data_activity_view.index+1\n",
    "index_view_10=data_activity_view['product_id'].head(10).tolist()\n",
    "data_activity_view"
   ]
  },
  {
   "cell_type": "code",
   "execution_count": 72,
   "id": "5e257188",
   "metadata": {},
   "outputs": [
    {
     "data": {
      "text/html": [
       "<div>\n",
       "<style scoped>\n",
       "    .dataframe tbody tr th:only-of-type {\n",
       "        vertical-align: middle;\n",
       "    }\n",
       "\n",
       "    .dataframe tbody tr th {\n",
       "        vertical-align: top;\n",
       "    }\n",
       "\n",
       "    .dataframe thead th {\n",
       "        text-align: right;\n",
       "    }\n",
       "</style>\n",
       "<table border=\"1\" class=\"dataframe\">\n",
       "  <thead>\n",
       "    <tr style=\"text-align: right;\">\n",
       "      <th></th>\n",
       "      <th>product_id</th>\n",
       "      <th>category_code</th>\n",
       "      <th>cart_count</th>\n",
       "      <th>rank_cart</th>\n",
       "    </tr>\n",
       "  </thead>\n",
       "  <tbody>\n",
       "    <tr>\n",
       "      <th>0</th>\n",
       "      <td>1821813</td>\n",
       "      <td>computers.components.videocards</td>\n",
       "      <td>1220</td>\n",
       "      <td>1</td>\n",
       "    </tr>\n",
       "    <tr>\n",
       "      <th>1</th>\n",
       "      <td>4099645</td>\n",
       "      <td>computers.components.videocards</td>\n",
       "      <td>1033</td>\n",
       "      <td>2</td>\n",
       "    </tr>\n",
       "    <tr>\n",
       "      <th>2</th>\n",
       "      <td>3791351</td>\n",
       "      <td>computers.components.cpu</td>\n",
       "      <td>761</td>\n",
       "      <td>3</td>\n",
       "    </tr>\n",
       "    <tr>\n",
       "      <th>3</th>\n",
       "      <td>3829355</td>\n",
       "      <td>electronics.telephone</td>\n",
       "      <td>664</td>\n",
       "      <td>4</td>\n",
       "    </tr>\n",
       "    <tr>\n",
       "      <th>4</th>\n",
       "      <td>893196</td>\n",
       "      <td>computers.components.videocards</td>\n",
       "      <td>662</td>\n",
       "      <td>5</td>\n",
       "    </tr>\n",
       "    <tr>\n",
       "      <th>...</th>\n",
       "      <td>...</td>\n",
       "      <td>...</td>\n",
       "      <td>...</td>\n",
       "      <td>...</td>\n",
       "    </tr>\n",
       "    <tr>\n",
       "      <th>9728</th>\n",
       "      <td>3671166</td>\n",
       "      <td>appliances.kitchen.mixer</td>\n",
       "      <td>1</td>\n",
       "      <td>9729</td>\n",
       "    </tr>\n",
       "    <tr>\n",
       "      <th>9729</th>\n",
       "      <td>884010</td>\n",
       "      <td>No_Category.No_Category.No_Category</td>\n",
       "      <td>1</td>\n",
       "      <td>9730</td>\n",
       "    </tr>\n",
       "    <tr>\n",
       "      <th>9730</th>\n",
       "      <td>3668086</td>\n",
       "      <td>stationery.cartrige</td>\n",
       "      <td>1</td>\n",
       "      <td>9731</td>\n",
       "    </tr>\n",
       "    <tr>\n",
       "      <th>9731</th>\n",
       "      <td>884091</td>\n",
       "      <td>auto.accessories.gps</td>\n",
       "      <td>1</td>\n",
       "      <td>9732</td>\n",
       "    </tr>\n",
       "    <tr>\n",
       "      <th>9732</th>\n",
       "      <td>1024041</td>\n",
       "      <td>No_Category.No_Category.No_Category</td>\n",
       "      <td>1</td>\n",
       "      <td>9733</td>\n",
       "    </tr>\n",
       "  </tbody>\n",
       "</table>\n",
       "<p>9733 rows × 4 columns</p>\n",
       "</div>"
      ],
      "text/plain": [
       "      product_id                        category_code  cart_count  rank_cart\n",
       "0        1821813      computers.components.videocards        1220          1\n",
       "1        4099645      computers.components.videocards        1033          2\n",
       "2        3791351             computers.components.cpu         761          3\n",
       "3        3829355                electronics.telephone         664          4\n",
       "4         893196      computers.components.videocards         662          5\n",
       "...          ...                                  ...         ...        ...\n",
       "9728     3671166             appliances.kitchen.mixer           1       9729\n",
       "9729      884010  No_Category.No_Category.No_Category           1       9730\n",
       "9730     3668086                  stationery.cartrige           1       9731\n",
       "9731      884091                 auto.accessories.gps           1       9732\n",
       "9732     1024041  No_Category.No_Category.No_Category           1       9733\n",
       "\n",
       "[9733 rows x 4 columns]"
      ]
     },
     "execution_count": 72,
     "metadata": {},
     "output_type": "execute_result"
    }
   ],
   "source": [
    "# persiapkan data cart\n",
    "data_activity_cart=data_activity[data_activity['event_type']=='cart'].groupby(['product_id','category_code'])['event_type'].agg('count').sort_values(ascending=False).reset_index()\n",
    "data_activity_cart.rename(columns={'event_type':'cart_count'},inplace=True)\n",
    "data_activity_cart['rank_cart']=data_activity_cart.index+1\n",
    "index_cart_10=data_activity_cart['product_id'].head(10).tolist()\n",
    "data_activity_cart"
   ]
  },
  {
   "cell_type": "code",
   "execution_count": 73,
   "id": "403e0193",
   "metadata": {},
   "outputs": [
    {
     "data": {
      "text/html": [
       "<div>\n",
       "<style scoped>\n",
       "    .dataframe tbody tr th:only-of-type {\n",
       "        vertical-align: middle;\n",
       "    }\n",
       "\n",
       "    .dataframe tbody tr th {\n",
       "        vertical-align: top;\n",
       "    }\n",
       "\n",
       "    .dataframe thead th {\n",
       "        text-align: right;\n",
       "    }\n",
       "</style>\n",
       "<table border=\"1\" class=\"dataframe\">\n",
       "  <thead>\n",
       "    <tr style=\"text-align: right;\">\n",
       "      <th></th>\n",
       "      <th>product_id</th>\n",
       "      <th>category_code</th>\n",
       "      <th>purchase_count</th>\n",
       "      <th>rank_purchase</th>\n",
       "      <th>view_count</th>\n",
       "      <th>rank_view</th>\n",
       "      <th>cart_count</th>\n",
       "      <th>rank_cart</th>\n",
       "    </tr>\n",
       "  </thead>\n",
       "  <tbody>\n",
       "    <tr>\n",
       "      <th>0</th>\n",
       "      <td>4099645</td>\n",
       "      <td>computers.components.videocards</td>\n",
       "      <td>564</td>\n",
       "      <td>1</td>\n",
       "      <td>12794</td>\n",
       "      <td>1</td>\n",
       "      <td>1220</td>\n",
       "      <td>1</td>\n",
       "    </tr>\n",
       "    <tr>\n",
       "      <th>1</th>\n",
       "      <td>3829355</td>\n",
       "      <td>electronics.telephone</td>\n",
       "      <td>543</td>\n",
       "      <td>2</td>\n",
       "      <td>5717</td>\n",
       "      <td>2</td>\n",
       "      <td>1033</td>\n",
       "      <td>2</td>\n",
       "    </tr>\n",
       "    <tr>\n",
       "      <th>2</th>\n",
       "      <td>1821813</td>\n",
       "      <td>computers.components.videocards</td>\n",
       "      <td>538</td>\n",
       "      <td>3</td>\n",
       "      <td>5489</td>\n",
       "      <td>3</td>\n",
       "      <td>761</td>\n",
       "      <td>3</td>\n",
       "    </tr>\n",
       "    <tr>\n",
       "      <th>3</th>\n",
       "      <td>3791351</td>\n",
       "      <td>computers.components.cpu</td>\n",
       "      <td>423</td>\n",
       "      <td>4</td>\n",
       "      <td>4552</td>\n",
       "      <td>5</td>\n",
       "      <td>664</td>\n",
       "      <td>4</td>\n",
       "    </tr>\n",
       "    <tr>\n",
       "      <th>4</th>\n",
       "      <td>893196</td>\n",
       "      <td>computers.components.videocards</td>\n",
       "      <td>384</td>\n",
       "      <td>5</td>\n",
       "      <td>3000</td>\n",
       "      <td>9</td>\n",
       "      <td>662</td>\n",
       "      <td>5</td>\n",
       "    </tr>\n",
       "    <tr>\n",
       "      <th>5</th>\n",
       "      <td>3642540</td>\n",
       "      <td>stationery.cartrige</td>\n",
       "      <td>345</td>\n",
       "      <td>6</td>\n",
       "      <td>2865</td>\n",
       "      <td>10</td>\n",
       "      <td>492</td>\n",
       "      <td>6</td>\n",
       "    </tr>\n",
       "    <tr>\n",
       "      <th>6</th>\n",
       "      <td>4102739</td>\n",
       "      <td>computers.components.videocards</td>\n",
       "      <td>266</td>\n",
       "      <td>7</td>\n",
       "      <td>2636</td>\n",
       "      <td>11</td>\n",
       "      <td>450</td>\n",
       "      <td>7</td>\n",
       "    </tr>\n",
       "    <tr>\n",
       "      <th>7</th>\n",
       "      <td>287525</td>\n",
       "      <td>No_Category.No_Category.No_Category</td>\n",
       "      <td>261</td>\n",
       "      <td>8</td>\n",
       "      <td>2242</td>\n",
       "      <td>14</td>\n",
       "      <td>318</td>\n",
       "      <td>10</td>\n",
       "    </tr>\n",
       "    <tr>\n",
       "      <th>8</th>\n",
       "      <td>4154414</td>\n",
       "      <td>computers.components.videocards</td>\n",
       "      <td>257</td>\n",
       "      <td>9</td>\n",
       "      <td>1794</td>\n",
       "      <td>18</td>\n",
       "      <td>294</td>\n",
       "      <td>13</td>\n",
       "    </tr>\n",
       "    <tr>\n",
       "      <th>9</th>\n",
       "      <td>246841</td>\n",
       "      <td>No_Category.No_Category.No_Category</td>\n",
       "      <td>242</td>\n",
       "      <td>10</td>\n",
       "      <td>1483</td>\n",
       "      <td>26</td>\n",
       "      <td>239</td>\n",
       "      <td>19</td>\n",
       "    </tr>\n",
       "  </tbody>\n",
       "</table>\n",
       "</div>"
      ],
      "text/plain": [
       "   product_id                        category_code  purchase_count  \\\n",
       "0     4099645      computers.components.videocards             564   \n",
       "1     3829355                electronics.telephone             543   \n",
       "2     1821813      computers.components.videocards             538   \n",
       "3     3791351             computers.components.cpu             423   \n",
       "4      893196      computers.components.videocards             384   \n",
       "5     3642540                  stationery.cartrige             345   \n",
       "6     4102739      computers.components.videocards             266   \n",
       "7      287525  No_Category.No_Category.No_Category             261   \n",
       "8     4154414      computers.components.videocards             257   \n",
       "9      246841  No_Category.No_Category.No_Category             242   \n",
       "\n",
       "   rank_purchase  view_count  rank_view  cart_count  rank_cart  \n",
       "0              1       12794          1        1220          1  \n",
       "1              2        5717          2        1033          2  \n",
       "2              3        5489          3         761          3  \n",
       "3              4        4552          5         664          4  \n",
       "4              5        3000          9         662          5  \n",
       "5              6        2865         10         492          6  \n",
       "6              7        2636         11         450          7  \n",
       "7              8        2242         14         318         10  \n",
       "8              9        1794         18         294         13  \n",
       "9             10        1483         26         239         19  "
      ]
     },
     "execution_count": 73,
     "metadata": {},
     "output_type": "execute_result"
    }
   ],
   "source": [
    "# buat tabel top 10 purchase\n",
    "top_10_purchase=data_activity_purchase[data_activity_purchase['product_id'].isin(index_purchase_10)]\n",
    "top_10_purchase=pd.concat([top_10_purchase,data_activity_view[data_activity_view['product_id'].isin(index_purchase_10)][['view_count','rank_view']].reset_index(drop=True)],axis=1)\n",
    "top_10_purchase=pd.concat([top_10_purchase,data_activity_cart[data_activity_cart['product_id'].isin(index_purchase_10)][['cart_count','rank_cart']].reset_index(drop=True)],axis=1)\n",
    "top_10_purchase"
   ]
  },
  {
   "cell_type": "code",
   "execution_count": 74,
   "id": "81274a5c",
   "metadata": {},
   "outputs": [
    {
     "data": {
      "text/html": [
       "<div>\n",
       "<style scoped>\n",
       "    .dataframe tbody tr th:only-of-type {\n",
       "        vertical-align: middle;\n",
       "    }\n",
       "\n",
       "    .dataframe tbody tr th {\n",
       "        vertical-align: top;\n",
       "    }\n",
       "\n",
       "    .dataframe thead th {\n",
       "        text-align: right;\n",
       "    }\n",
       "</style>\n",
       "<table border=\"1\" class=\"dataframe\">\n",
       "  <thead>\n",
       "    <tr style=\"text-align: right;\">\n",
       "      <th></th>\n",
       "      <th>product_id</th>\n",
       "      <th>category_code</th>\n",
       "      <th>view_count</th>\n",
       "      <th>rank_view</th>\n",
       "      <th>purchase_count</th>\n",
       "      <th>rank_purchase</th>\n",
       "      <th>cart_count</th>\n",
       "      <th>rank_cart</th>\n",
       "    </tr>\n",
       "  </thead>\n",
       "  <tbody>\n",
       "    <tr>\n",
       "      <th>0</th>\n",
       "      <td>1821813</td>\n",
       "      <td>computers.components.videocards</td>\n",
       "      <td>12794</td>\n",
       "      <td>1</td>\n",
       "      <td>564</td>\n",
       "      <td>1</td>\n",
       "      <td>1220</td>\n",
       "      <td>1</td>\n",
       "    </tr>\n",
       "    <tr>\n",
       "      <th>1</th>\n",
       "      <td>3791351</td>\n",
       "      <td>computers.components.cpu</td>\n",
       "      <td>5717</td>\n",
       "      <td>2</td>\n",
       "      <td>543</td>\n",
       "      <td>2</td>\n",
       "      <td>1033</td>\n",
       "      <td>2</td>\n",
       "    </tr>\n",
       "    <tr>\n",
       "      <th>2</th>\n",
       "      <td>4099645</td>\n",
       "      <td>computers.components.videocards</td>\n",
       "      <td>5489</td>\n",
       "      <td>3</td>\n",
       "      <td>538</td>\n",
       "      <td>3</td>\n",
       "      <td>761</td>\n",
       "      <td>3</td>\n",
       "    </tr>\n",
       "    <tr>\n",
       "      <th>3</th>\n",
       "      <td>1785245</td>\n",
       "      <td>stationery.cartrige</td>\n",
       "      <td>4630</td>\n",
       "      <td>4</td>\n",
       "      <td>423</td>\n",
       "      <td>4</td>\n",
       "      <td>664</td>\n",
       "      <td>4</td>\n",
       "    </tr>\n",
       "    <tr>\n",
       "      <th>4</th>\n",
       "      <td>3829355</td>\n",
       "      <td>electronics.telephone</td>\n",
       "      <td>4552</td>\n",
       "      <td>5</td>\n",
       "      <td>384</td>\n",
       "      <td>5</td>\n",
       "      <td>662</td>\n",
       "      <td>5</td>\n",
       "    </tr>\n",
       "    <tr>\n",
       "      <th>5</th>\n",
       "      <td>809948</td>\n",
       "      <td>computers.components.motherboard</td>\n",
       "      <td>3830</td>\n",
       "      <td>6</td>\n",
       "      <td>257</td>\n",
       "      <td>9</td>\n",
       "      <td>492</td>\n",
       "      <td>6</td>\n",
       "    </tr>\n",
       "    <tr>\n",
       "      <th>6</th>\n",
       "      <td>1830099</td>\n",
       "      <td>computers.components.videocards</td>\n",
       "      <td>3660</td>\n",
       "      <td>7</td>\n",
       "      <td>207</td>\n",
       "      <td>12</td>\n",
       "      <td>450</td>\n",
       "      <td>7</td>\n",
       "    </tr>\n",
       "    <tr>\n",
       "      <th>7</th>\n",
       "      <td>3791509</td>\n",
       "      <td>computers.components.videocards</td>\n",
       "      <td>3150</td>\n",
       "      <td>8</td>\n",
       "      <td>187</td>\n",
       "      <td>16</td>\n",
       "      <td>318</td>\n",
       "      <td>10</td>\n",
       "    </tr>\n",
       "    <tr>\n",
       "      <th>8</th>\n",
       "      <td>4154414</td>\n",
       "      <td>computers.components.videocards</td>\n",
       "      <td>3000</td>\n",
       "      <td>9</td>\n",
       "      <td>169</td>\n",
       "      <td>19</td>\n",
       "      <td>294</td>\n",
       "      <td>13</td>\n",
       "    </tr>\n",
       "    <tr>\n",
       "      <th>9</th>\n",
       "      <td>893196</td>\n",
       "      <td>computers.components.videocards</td>\n",
       "      <td>2865</td>\n",
       "      <td>10</td>\n",
       "      <td>149</td>\n",
       "      <td>22</td>\n",
       "      <td>239</td>\n",
       "      <td>19</td>\n",
       "    </tr>\n",
       "  </tbody>\n",
       "</table>\n",
       "</div>"
      ],
      "text/plain": [
       "   product_id                     category_code  view_count  rank_view  \\\n",
       "0     1821813   computers.components.videocards       12794          1   \n",
       "1     3791351          computers.components.cpu        5717          2   \n",
       "2     4099645   computers.components.videocards        5489          3   \n",
       "3     1785245               stationery.cartrige        4630          4   \n",
       "4     3829355             electronics.telephone        4552          5   \n",
       "5      809948  computers.components.motherboard        3830          6   \n",
       "6     1830099   computers.components.videocards        3660          7   \n",
       "7     3791509   computers.components.videocards        3150          8   \n",
       "8     4154414   computers.components.videocards        3000          9   \n",
       "9      893196   computers.components.videocards        2865         10   \n",
       "\n",
       "   purchase_count  rank_purchase  cart_count  rank_cart  \n",
       "0             564              1        1220          1  \n",
       "1             543              2        1033          2  \n",
       "2             538              3         761          3  \n",
       "3             423              4         664          4  \n",
       "4             384              5         662          5  \n",
       "5             257              9         492          6  \n",
       "6             207             12         450          7  \n",
       "7             187             16         318         10  \n",
       "8             169             19         294         13  \n",
       "9             149             22         239         19  "
      ]
     },
     "execution_count": 74,
     "metadata": {},
     "output_type": "execute_result"
    }
   ],
   "source": [
    "# buat tabel top 10 view\n",
    "top_10_view=data_activity_view[data_activity_view['product_id'].isin(index_view_10)]\n",
    "top_10_view=pd.concat([top_10_view,data_activity_purchase[data_activity_purchase['product_id'].isin(index_view_10)][['purchase_count','rank_purchase']].reset_index(drop=True)],axis=1)\n",
    "top_10_view=pd.concat([top_10_view,data_activity_cart[data_activity_cart['product_id'].isin(index_purchase_10)][['cart_count','rank_cart']].reset_index(drop=True)],axis=1)\n",
    "top_10_view"
   ]
  },
  {
   "cell_type": "markdown",
   "id": "38cecf1b",
   "metadata": {},
   "source": [
    "__Observasi:__\n",
    "1. Tabel diatas adalah tabel perbandingan produk yang paling banyak di lihat dan produk yang paling banyak dibeli serta peringkatnya masing-masing\n",
    "2. Tabel diatas membuktikan bahwa semakin banyak sebuat produk dilihat, semakin banyak produk tersebut dibeli.\n",
    "3. Hubungan tingkat produk dilihat dan dibeli tidak linear, terbukti degan produk peringkat ke sepuluh paling banyak dilihat hanya berada pada urutan ke dua puluh dua paling banyak di beli."
   ]
  },
  {
   "cell_type": "markdown",
   "id": "da57eeeb",
   "metadata": {
    "id": "da57eeeb"
   },
   "source": [
    "## Analisis kolom <mark>weekday</mark>"
   ]
  },
  {
   "cell_type": "code",
   "execution_count": 75,
   "id": "1508c4d4",
   "metadata": {
    "id": "1508c4d4",
    "outputId": "c9bba0fc-3c15-4728-e2d6-0ae9ab7478f1"
   },
   "outputs": [
    {
     "data": {
      "text/html": [
       "<div>\n",
       "<style scoped>\n",
       "    .dataframe tbody tr th:only-of-type {\n",
       "        vertical-align: middle;\n",
       "    }\n",
       "\n",
       "    .dataframe tbody tr th {\n",
       "        vertical-align: top;\n",
       "    }\n",
       "\n",
       "    .dataframe thead th {\n",
       "        text-align: right;\n",
       "    }\n",
       "</style>\n",
       "<table border=\"1\" class=\"dataframe\">\n",
       "  <thead>\n",
       "    <tr style=\"text-align: right;\">\n",
       "      <th></th>\n",
       "      <th>user_id</th>\n",
       "      <th>user_session</th>\n",
       "      <th>product_id</th>\n",
       "      <th>category_code</th>\n",
       "      <th>price</th>\n",
       "      <th>brand</th>\n",
       "      <th>event_type</th>\n",
       "      <th>event_time</th>\n",
       "      <th>event_weekday</th>\n",
       "    </tr>\n",
       "  </thead>\n",
       "  <tbody>\n",
       "    <tr>\n",
       "      <th>0</th>\n",
       "      <td>1515915625519388267</td>\n",
       "      <td>LJuJVLEjPT</td>\n",
       "      <td>1996170</td>\n",
       "      <td>electronics.telephone</td>\n",
       "      <td>31.90</td>\n",
       "      <td>No Brand</td>\n",
       "      <td>view</td>\n",
       "      <td>2020-09-24 11:57:06+00:00</td>\n",
       "      <td>3</td>\n",
       "    </tr>\n",
       "    <tr>\n",
       "      <th>1</th>\n",
       "      <td>1515915625519380411</td>\n",
       "      <td>tdicluNnRY</td>\n",
       "      <td>139905</td>\n",
       "      <td>computers.components.cooler</td>\n",
       "      <td>17.16</td>\n",
       "      <td>zalman</td>\n",
       "      <td>view</td>\n",
       "      <td>2020-09-24 11:57:26+00:00</td>\n",
       "      <td>3</td>\n",
       "    </tr>\n",
       "    <tr>\n",
       "      <th>2</th>\n",
       "      <td>1515915625513238515</td>\n",
       "      <td>4TMArHtXQy</td>\n",
       "      <td>215454</td>\n",
       "      <td>No_Category.No_Category.No_Category</td>\n",
       "      <td>9.81</td>\n",
       "      <td>No Brand</td>\n",
       "      <td>view</td>\n",
       "      <td>2020-09-24 11:57:27+00:00</td>\n",
       "      <td>3</td>\n",
       "    </tr>\n",
       "  </tbody>\n",
       "</table>\n",
       "</div>"
      ],
      "text/plain": [
       "               user_id user_session  product_id  \\\n",
       "0  1515915625519388267   LJuJVLEjPT     1996170   \n",
       "1  1515915625519380411   tdicluNnRY      139905   \n",
       "2  1515915625513238515   4TMArHtXQy      215454   \n",
       "\n",
       "                         category_code  price     brand event_type  \\\n",
       "0                electronics.telephone  31.90  No Brand       view   \n",
       "1          computers.components.cooler  17.16    zalman       view   \n",
       "2  No_Category.No_Category.No_Category   9.81  No Brand       view   \n",
       "\n",
       "                 event_time  event_weekday  \n",
       "0 2020-09-24 11:57:06+00:00              3  \n",
       "1 2020-09-24 11:57:26+00:00              3  \n",
       "2 2020-09-24 11:57:27+00:00              3  "
      ]
     },
     "execution_count": 75,
     "metadata": {},
     "output_type": "execute_result"
    }
   ],
   "source": [
    "# membuat feature baru even_weekday untuk melihat hari tiap user_session\n",
    "data_time=data.copy()\n",
    "data_time['event_time']=pd.to_datetime(data_time['event_time'])\n",
    "data_time['event_weekday'] = data_time['event_time'].apply(lambda s: s.weekday())\n",
    "data_time.head(3)"
   ]
  },
  {
   "cell_type": "code",
   "execution_count": 76,
   "id": "4702f7bd",
   "metadata": {
    "id": "4702f7bd",
    "outputId": "a913b8cc-dfd7-40ed-ad3f-0bad6df5b383"
   },
   "outputs": [
    {
     "data": {
      "text/html": [
       "<div>\n",
       "<style scoped>\n",
       "    .dataframe tbody tr th:only-of-type {\n",
       "        vertical-align: middle;\n",
       "    }\n",
       "\n",
       "    .dataframe tbody tr th {\n",
       "        vertical-align: top;\n",
       "    }\n",
       "\n",
       "    .dataframe thead th {\n",
       "        text-align: right;\n",
       "    }\n",
       "</style>\n",
       "<table border=\"1\" class=\"dataframe\">\n",
       "  <thead>\n",
       "    <tr style=\"text-align: right;\">\n",
       "      <th></th>\n",
       "      <th>user_id</th>\n",
       "      <th>user_session</th>\n",
       "      <th>product_id</th>\n",
       "      <th>category_code</th>\n",
       "      <th>price</th>\n",
       "      <th>brand</th>\n",
       "      <th>event_type</th>\n",
       "      <th>event_time</th>\n",
       "      <th>event_weekday</th>\n",
       "      <th>day</th>\n",
       "    </tr>\n",
       "  </thead>\n",
       "  <tbody>\n",
       "    <tr>\n",
       "      <th>0</th>\n",
       "      <td>1515915625519388267</td>\n",
       "      <td>LJuJVLEjPT</td>\n",
       "      <td>1996170</td>\n",
       "      <td>electronics.telephone</td>\n",
       "      <td>31.90</td>\n",
       "      <td>No Brand</td>\n",
       "      <td>view</td>\n",
       "      <td>2020-09-24 11:57:06+00:00</td>\n",
       "      <td>3</td>\n",
       "      <td>thursday</td>\n",
       "    </tr>\n",
       "    <tr>\n",
       "      <th>1</th>\n",
       "      <td>1515915625519380411</td>\n",
       "      <td>tdicluNnRY</td>\n",
       "      <td>139905</td>\n",
       "      <td>computers.components.cooler</td>\n",
       "      <td>17.16</td>\n",
       "      <td>zalman</td>\n",
       "      <td>view</td>\n",
       "      <td>2020-09-24 11:57:26+00:00</td>\n",
       "      <td>3</td>\n",
       "      <td>thursday</td>\n",
       "    </tr>\n",
       "    <tr>\n",
       "      <th>2</th>\n",
       "      <td>1515915625513238515</td>\n",
       "      <td>4TMArHtXQy</td>\n",
       "      <td>215454</td>\n",
       "      <td>No_Category.No_Category.No_Category</td>\n",
       "      <td>9.81</td>\n",
       "      <td>No Brand</td>\n",
       "      <td>view</td>\n",
       "      <td>2020-09-24 11:57:27+00:00</td>\n",
       "      <td>3</td>\n",
       "      <td>thursday</td>\n",
       "    </tr>\n",
       "  </tbody>\n",
       "</table>\n",
       "</div>"
      ],
      "text/plain": [
       "               user_id user_session  product_id  \\\n",
       "0  1515915625519388267   LJuJVLEjPT     1996170   \n",
       "1  1515915625519380411   tdicluNnRY      139905   \n",
       "2  1515915625513238515   4TMArHtXQy      215454   \n",
       "\n",
       "                         category_code  price     brand event_type  \\\n",
       "0                electronics.telephone  31.90  No Brand       view   \n",
       "1          computers.components.cooler  17.16    zalman       view   \n",
       "2  No_Category.No_Category.No_Category   9.81  No Brand       view   \n",
       "\n",
       "                 event_time  event_weekday       day  \n",
       "0 2020-09-24 11:57:06+00:00              3  thursday  \n",
       "1 2020-09-24 11:57:26+00:00              3  thursday  \n",
       "2 2020-09-24 11:57:27+00:00              3  thursday  "
      ]
     },
     "execution_count": 76,
     "metadata": {},
     "output_type": "execute_result"
    }
   ],
   "source": [
    "# mengubah nomor kolom event_weekday menjadi nama hari\n",
    "data_time['day']= data_time['event_weekday'].map({0:'monday',1:'tuesday',2:'wednesday',3:'thursday',4:'friday',5:'saturday',6:'sunday'})\n",
    "data_time.head(3)"
   ]
  },
  {
   "cell_type": "code",
   "execution_count": 77,
   "id": "1b17fe82",
   "metadata": {
    "id": "1b17fe82",
    "outputId": "36f77c94-536b-4969-9cbb-c4f08caf66d8"
   },
   "outputs": [
    {
     "data": {
      "image/png": "[encoded data removed]",
      "text/plain": [
       "<Figure size 900x600 with 1 Axes>"
      ]
     },
     "metadata": {
      "needs_background": "light"
     },
     "output_type": "display_data"
    }
   ],
   "source": [
    "# membuat diagram pembelian berdasarkan hari\n",
    "plt.figure(figsize=(12,8),dpi=75)\n",
    "ax = sns.countplot(data=data_time[data_time['event_type']=='purchase'],x='day',order=['sunday','monday','tuesday','wednesday','thursday','friday','saturday'])\n",
    "ax.set(ylabel='Purchase Count')\n",
    "plt.show()"
   ]
  },
  {
   "cell_type": "code",
   "execution_count": 78,
   "id": "53c68115",
   "metadata": {},
   "outputs": [
    {
     "data": {
      "image/png": "[encoded data removed]",
      "text/plain": [
       "<Figure size 900x600 with 1 Axes>"
      ]
     },
     "metadata": {
      "needs_background": "light"
     },
     "output_type": "display_data"
    }
   ],
   "source": [
    "# membuat diagram produk dilihat berdasarkan hari\n",
    "plt.figure(figsize=(12,8),dpi=75)\n",
    "ax = sns.countplot(data=data_time[data_time['event_type']=='view'],x='day',order=['sunday','monday','tuesday','wednesday','thursday','friday','saturday'])\n",
    "ax.set(ylabel='View Count')\n",
    "plt.show()"
   ]
  },
  {
   "cell_type": "markdown",
   "id": "67a74772",
   "metadata": {
    "id": "67a74772"
   },
   "source": [
    "__Observasi:__ \n",
    "1. Perbedaan pembelian produk dilihat berdasarkan harinya tidak terlalu jauh berbeda. \n",
    "2. Hari senin adalah hari yang paling banyak terjadi pembelian, nilai pembelian turun dihari-hari berikutnya hingga hari minggu yang paling sedikit terjadi pembelian.\n",
    "3. Perbedaan produk dilihat berdasarkan harinya tidak terlalu jauh berbeda.\n",
    "4. Hari senin adalah hari yang paling banyak produk-produk di toko online dilihat, nilai tersebut turun untuk hari-hari berikutnya sampai hari minggu yang paling sedikit produk-produk di toko online dilihat."
   ]
  },
  {
   "cell_type": "markdown",
   "id": "7bb9718f",
   "metadata": {
    "id": "7bb9718f"
   },
   "source": [
    "# Machine Learning Analysis"
   ]
  },
  {
   "cell_type": "markdown",
   "id": "3e094a61",
   "metadata": {},
   "source": [
    "Algoritma machine learning yang akan dipakai untuk analisis adalah XGBoost Classifier karena menurut literatur yang penulis baca, algoritma ini adalah algoritma yang paling sering memberikan hasil terbaik dalam berbagai dataset."
   ]
  },
  {
   "cell_type": "markdown",
   "id": "0cdeb2f0",
   "metadata": {
    "id": "0cdeb2f0"
   },
   "source": [
    "## Feature Engineering"
   ]
  },
  {
   "cell_type": "markdown",
   "id": "d9220061",
   "metadata": {},
   "source": [
    "Duplicated value dibuang karena baris yang sama persis kemungkinan terjadi karena kesalahan sistem. Missing value tidak dibuang karena akan diisi sesuai dengan hasil feature engineering."
   ]
  },
  {
   "cell_type": "code",
   "execution_count": 28,
   "id": "c8419f02",
   "metadata": {},
   "outputs": [],
   "source": [
    "# import library yang dibutuhkan\n",
    "import pandas as pd\n",
    "import numpy as np\n",
    "import matplotlib.pyplot as plt\n",
    "import seaborn as sns"
   ]
  },
  {
   "cell_type": "code",
   "execution_count": 29,
   "id": "36abceeb",
   "metadata": {
    "id": "36abceeb",
    "outputId": "16a4d53f-e284-4dc9-adde-29801e856f29"
   },
   "outputs": [
    {
     "data": {
      "text/html": [
       "<div>\n",
       "<style scoped>\n",
       "    .dataframe tbody tr th:only-of-type {\n",
       "        vertical-align: middle;\n",
       "    }\n",
       "\n",
       "    .dataframe tbody tr th {\n",
       "        vertical-align: top;\n",
       "    }\n",
       "\n",
       "    .dataframe thead th {\n",
       "        text-align: right;\n",
       "    }\n",
       "</style>\n",
       "<table border=\"1\" class=\"dataframe\">\n",
       "  <thead>\n",
       "    <tr style=\"text-align: right;\">\n",
       "      <th></th>\n",
       "      <th>event_time</th>\n",
       "      <th>event_type</th>\n",
       "      <th>product_id</th>\n",
       "      <th>category_id</th>\n",
       "      <th>category_code</th>\n",
       "      <th>brand</th>\n",
       "      <th>price</th>\n",
       "      <th>user_id</th>\n",
       "      <th>user_session</th>\n",
       "    </tr>\n",
       "  </thead>\n",
       "  <tbody>\n",
       "    <tr>\n",
       "      <th>0</th>\n",
       "      <td>2020-09-24 11:57:06 UTC</td>\n",
       "      <td>view</td>\n",
       "      <td>1996170</td>\n",
       "      <td>2144415922528452715</td>\n",
       "      <td>electronics.telephone</td>\n",
       "      <td>NaN</td>\n",
       "      <td>31.90</td>\n",
       "      <td>1515915625519388267</td>\n",
       "      <td>LJuJVLEjPT</td>\n",
       "    </tr>\n",
       "    <tr>\n",
       "      <th>1</th>\n",
       "      <td>2020-09-24 11:57:26 UTC</td>\n",
       "      <td>view</td>\n",
       "      <td>139905</td>\n",
       "      <td>2144415926932472027</td>\n",
       "      <td>computers.components.cooler</td>\n",
       "      <td>zalman</td>\n",
       "      <td>17.16</td>\n",
       "      <td>1515915625519380411</td>\n",
       "      <td>tdicluNnRY</td>\n",
       "    </tr>\n",
       "    <tr>\n",
       "      <th>2</th>\n",
       "      <td>2020-09-24 11:57:27 UTC</td>\n",
       "      <td>view</td>\n",
       "      <td>215454</td>\n",
       "      <td>2144415927158964449</td>\n",
       "      <td>NaN</td>\n",
       "      <td>NaN</td>\n",
       "      <td>9.81</td>\n",
       "      <td>1515915625513238515</td>\n",
       "      <td>4TMArHtXQy</td>\n",
       "    </tr>\n",
       "  </tbody>\n",
       "</table>\n",
       "</div>"
      ],
      "text/plain": [
       "                event_time event_type  product_id          category_id  \\\n",
       "0  2020-09-24 11:57:06 UTC       view     1996170  2144415922528452715   \n",
       "1  2020-09-24 11:57:26 UTC       view      139905  2144415926932472027   \n",
       "2  2020-09-24 11:57:27 UTC       view      215454  2144415927158964449   \n",
       "\n",
       "                 category_code   brand  price              user_id  \\\n",
       "0        electronics.telephone     NaN  31.90  1515915625519388267   \n",
       "1  computers.components.cooler  zalman  17.16  1515915625519380411   \n",
       "2                          NaN     NaN   9.81  1515915625513238515   \n",
       "\n",
       "  user_session  \n",
       "0   LJuJVLEjPT  \n",
       "1   tdicluNnRY  \n",
       "2   4TMArHtXQy  "
      ]
     },
     "execution_count": 29,
     "metadata": {},
     "output_type": "execute_result"
    }
   ],
   "source": [
    "# membaca data yang akan dimasukkan kedalam machine learning algorithm\n",
    "data=pd.read_csv('events.csv')\n",
    "data.head(3)"
   ]
  },
  {
   "cell_type": "code",
   "execution_count": 30,
   "id": "51eda7de",
   "metadata": {
    "id": "51eda7de",
    "outputId": "94699453-5456-4fbe-e9bb-bf29e7f464d3"
   },
   "outputs": [
    {
     "data": {
      "text/plain": [
       "655"
      ]
     },
     "execution_count": 30,
     "metadata": {},
     "output_type": "execute_result"
    }
   ],
   "source": [
    "# melihat apakah ada duplicated data\n",
    "data.duplicated().sum()"
   ]
  },
  {
   "cell_type": "code",
   "execution_count": 31,
   "id": "b723f393",
   "metadata": {
    "id": "b723f393"
   },
   "outputs": [],
   "source": [
    "# menghapus duplicated data\n",
    "data.drop_duplicates(inplace=True)"
   ]
  },
  {
   "cell_type": "code",
   "execution_count": 32,
   "id": "c292ca08",
   "metadata": {
    "id": "c292ca08",
    "outputId": "936b283d-2472-4160-9fe7-0e0447d0e848"
   },
   "outputs": [
    {
     "data": {
      "text/html": [
       "<div>\n",
       "<style scoped>\n",
       "    .dataframe tbody tr th:only-of-type {\n",
       "        vertical-align: middle;\n",
       "    }\n",
       "\n",
       "    .dataframe tbody tr th {\n",
       "        vertical-align: top;\n",
       "    }\n",
       "\n",
       "    .dataframe thead th {\n",
       "        text-align: right;\n",
       "    }\n",
       "</style>\n",
       "<table border=\"1\" class=\"dataframe\">\n",
       "  <thead>\n",
       "    <tr style=\"text-align: right;\">\n",
       "      <th></th>\n",
       "      <th>event_time</th>\n",
       "      <th>event_type</th>\n",
       "      <th>product_id</th>\n",
       "      <th>category_id</th>\n",
       "      <th>category_code</th>\n",
       "      <th>brand</th>\n",
       "      <th>price</th>\n",
       "      <th>user_id</th>\n",
       "      <th>user_session</th>\n",
       "    </tr>\n",
       "  </thead>\n",
       "  <tbody>\n",
       "    <tr>\n",
       "      <th>37</th>\n",
       "      <td>2020-09-24 12:02:53 UTC</td>\n",
       "      <td>cart</td>\n",
       "      <td>1507291</td>\n",
       "      <td>2144415926806642904</td>\n",
       "      <td>computers.components.power_supply</td>\n",
       "      <td>supermicro</td>\n",
       "      <td>217.57</td>\n",
       "      <td>1515915625519390468</td>\n",
       "      <td>UzabYgCPva</td>\n",
       "    </tr>\n",
       "    <tr>\n",
       "      <th>59</th>\n",
       "      <td>2020-09-24 12:08:24 UTC</td>\n",
       "      <td>cart</td>\n",
       "      <td>136700</td>\n",
       "      <td>2144415924491387038</td>\n",
       "      <td>computers.components.motherboard</td>\n",
       "      <td>asrock</td>\n",
       "      <td>77.73</td>\n",
       "      <td>1515915625519392459</td>\n",
       "      <td>0KdrxeTB4x</td>\n",
       "    </tr>\n",
       "    <tr>\n",
       "      <th>71</th>\n",
       "      <td>2020-09-24 12:12:16 UTC</td>\n",
       "      <td>cart</td>\n",
       "      <td>822426</td>\n",
       "      <td>2144415922360680550</td>\n",
       "      <td>computers.peripherals.camera</td>\n",
       "      <td>logitech</td>\n",
       "      <td>123.35</td>\n",
       "      <td>1515915625513574486</td>\n",
       "      <td>2gngxS29Ts</td>\n",
       "    </tr>\n",
       "  </tbody>\n",
       "</table>\n",
       "</div>"
      ],
      "text/plain": [
       "                 event_time event_type  product_id          category_id  \\\n",
       "37  2020-09-24 12:02:53 UTC       cart     1507291  2144415926806642904   \n",
       "59  2020-09-24 12:08:24 UTC       cart      136700  2144415924491387038   \n",
       "71  2020-09-24 12:12:16 UTC       cart      822426  2144415922360680550   \n",
       "\n",
       "                        category_code       brand   price  \\\n",
       "37  computers.components.power_supply  supermicro  217.57   \n",
       "59   computers.components.motherboard      asrock   77.73   \n",
       "71       computers.peripherals.camera    logitech  123.35   \n",
       "\n",
       "                user_id user_session  \n",
       "37  1515915625519390468   UzabYgCPva  \n",
       "59  1515915625519392459   0KdrxeTB4x  \n",
       "71  1515915625513574486   2gngxS29Ts  "
      ]
     },
     "execution_count": 32,
     "metadata": {},
     "output_type": "execute_result"
    }
   ],
   "source": [
    "# Mengambil semua row user id yang purchase atau cart\n",
    "cart_purchase_users = data.loc[data[\"event_type\"].isin([\"cart\",\"purchase\"])].drop_duplicates(subset=['user_id'])\n",
    "cart_purchase_users.dropna(how='any', inplace=True)\n",
    "cart_purchase_users.head(3)"
   ]
  },
  {
   "cell_type": "code",
   "execution_count": 33,
   "id": "b5ad0ae1",
   "metadata": {
    "id": "b5ad0ae1",
    "outputId": "5a1eea6c-39a7-4ba5-eab8-32a49b27ecc9"
   },
   "outputs": [
    {
     "data": {
      "text/html": [
       "<div>\n",
       "<style scoped>\n",
       "    .dataframe tbody tr th:only-of-type {\n",
       "        vertical-align: middle;\n",
       "    }\n",
       "\n",
       "    .dataframe tbody tr th {\n",
       "        vertical-align: top;\n",
       "    }\n",
       "\n",
       "    .dataframe thead th {\n",
       "        text-align: right;\n",
       "    }\n",
       "</style>\n",
       "<table border=\"1\" class=\"dataframe\">\n",
       "  <thead>\n",
       "    <tr style=\"text-align: right;\">\n",
       "      <th></th>\n",
       "      <th>event_time</th>\n",
       "      <th>event_type</th>\n",
       "      <th>product_id</th>\n",
       "      <th>category_id</th>\n",
       "      <th>category_code</th>\n",
       "      <th>brand</th>\n",
       "      <th>price</th>\n",
       "      <th>user_id</th>\n",
       "      <th>user_session</th>\n",
       "    </tr>\n",
       "  </thead>\n",
       "  <tbody>\n",
       "    <tr>\n",
       "      <th>30</th>\n",
       "      <td>2020-09-24 12:01:33 UTC</td>\n",
       "      <td>view</td>\n",
       "      <td>888783</td>\n",
       "      <td>2144415922167742561</td>\n",
       "      <td>computers.components.hdd</td>\n",
       "      <td>NaN</td>\n",
       "      <td>83.02</td>\n",
       "      <td>1515915625519356010</td>\n",
       "      <td>3jFpdbozOd</td>\n",
       "    </tr>\n",
       "    <tr>\n",
       "      <th>34</th>\n",
       "      <td>2020-09-24 12:02:34 UTC</td>\n",
       "      <td>view</td>\n",
       "      <td>1507291</td>\n",
       "      <td>2144415926806642904</td>\n",
       "      <td>computers.components.power_supply</td>\n",
       "      <td>supermicro</td>\n",
       "      <td>217.57</td>\n",
       "      <td>1515915625519390468</td>\n",
       "      <td>UzabYgCPva</td>\n",
       "    </tr>\n",
       "    <tr>\n",
       "      <th>37</th>\n",
       "      <td>2020-09-24 12:02:53 UTC</td>\n",
       "      <td>cart</td>\n",
       "      <td>1507291</td>\n",
       "      <td>2144415926806642904</td>\n",
       "      <td>computers.components.power_supply</td>\n",
       "      <td>supermicro</td>\n",
       "      <td>217.57</td>\n",
       "      <td>1515915625519390468</td>\n",
       "      <td>UzabYgCPva</td>\n",
       "    </tr>\n",
       "  </tbody>\n",
       "</table>\n",
       "</div>"
      ],
      "text/plain": [
       "                 event_time event_type  product_id          category_id  \\\n",
       "30  2020-09-24 12:01:33 UTC       view      888783  2144415922167742561   \n",
       "34  2020-09-24 12:02:34 UTC       view     1507291  2144415926806642904   \n",
       "37  2020-09-24 12:02:53 UTC       cart     1507291  2144415926806642904   \n",
       "\n",
       "                        category_code       brand   price  \\\n",
       "30           computers.components.hdd         NaN   83.02   \n",
       "34  computers.components.power_supply  supermicro  217.57   \n",
       "37  computers.components.power_supply  supermicro  217.57   \n",
       "\n",
       "                user_id user_session  \n",
       "30  1515915625519356010   3jFpdbozOd  \n",
       "34  1515915625519390468   UzabYgCPva  \n",
       "37  1515915625519390468   UzabYgCPva  "
      ]
     },
     "execution_count": 33,
     "metadata": {},
     "output_type": "execute_result"
    }
   ],
   "source": [
    "# mengambil semua data untuk user yang pernah purchase atau cart\n",
    "cart_purchase_users_all_activity = data.loc[data['user_id'].isin(cart_purchase_users['user_id'])]\n",
    "cart_purchase_users_all_activity.head(3)"
   ]
  },
  {
   "cell_type": "code",
   "execution_count": 34,
   "id": "63aefe3d",
   "metadata": {
    "id": "63aefe3d",
    "outputId": "3b64cfe3-a0eb-45b9-ae5c-b85d4cc5eb43"
   },
   "outputs": [
    {
     "data": {
      "text/html": [
       "<div>\n",
       "<style scoped>\n",
       "    .dataframe tbody tr th:only-of-type {\n",
       "        vertical-align: middle;\n",
       "    }\n",
       "\n",
       "    .dataframe tbody tr th {\n",
       "        vertical-align: top;\n",
       "    }\n",
       "\n",
       "    .dataframe thead th {\n",
       "        text-align: right;\n",
       "    }\n",
       "</style>\n",
       "<table border=\"1\" class=\"dataframe\">\n",
       "  <thead>\n",
       "    <tr style=\"text-align: right;\">\n",
       "      <th></th>\n",
       "      <th>user_session</th>\n",
       "      <th>activity_count</th>\n",
       "    </tr>\n",
       "  </thead>\n",
       "  <tbody>\n",
       "    <tr>\n",
       "      <th>0</th>\n",
       "      <td>005wDfXQrv</td>\n",
       "      <td>2</td>\n",
       "    </tr>\n",
       "    <tr>\n",
       "      <th>1</th>\n",
       "      <td>00735945-0395-48db-967c-59418c0ddb89</td>\n",
       "      <td>2</td>\n",
       "    </tr>\n",
       "    <tr>\n",
       "      <th>2</th>\n",
       "      <td>009so5Mgnj</td>\n",
       "      <td>1</td>\n",
       "    </tr>\n",
       "  </tbody>\n",
       "</table>\n",
       "</div>"
      ],
      "text/plain": [
       "                           user_session  activity_count\n",
       "0                            005wDfXQrv               2\n",
       "1  00735945-0395-48db-967c-59418c0ddb89               2\n",
       "2                            009so5Mgnj               1"
      ]
     },
     "execution_count": 34,
     "metadata": {},
     "output_type": "execute_result"
    }
   ],
   "source": [
    "# membuat feature baru activity_in_session yang berisi jumlah activity tiap user_session\n",
    "activity_in_session = cart_purchase_users_all_activity.groupby(['user_session'])['event_type'].count().reset_index()\n",
    "activity_in_session = activity_in_session.rename(columns={\"event_type\": \"activity_count\"})\n",
    "activity_in_session.head(3)"
   ]
  },
  {
   "cell_type": "code",
   "execution_count": 35,
   "id": "916be6fe",
   "metadata": {
    "id": "916be6fe",
    "outputId": "0bf508dc-7943-403e-e576-324606637ba2"
   },
   "outputs": [
    {
     "data": {
      "text/html": [
       "<div>\n",
       "<style scoped>\n",
       "    .dataframe tbody tr th:only-of-type {\n",
       "        vertical-align: middle;\n",
       "    }\n",
       "\n",
       "    .dataframe tbody tr th {\n",
       "        vertical-align: top;\n",
       "    }\n",
       "\n",
       "    .dataframe thead th {\n",
       "        text-align: right;\n",
       "    }\n",
       "</style>\n",
       "<table border=\"1\" class=\"dataframe\">\n",
       "  <thead>\n",
       "    <tr style=\"text-align: right;\">\n",
       "      <th></th>\n",
       "      <th>event_time</th>\n",
       "      <th>event_type</th>\n",
       "      <th>product_id</th>\n",
       "      <th>category_id</th>\n",
       "      <th>category_code</th>\n",
       "      <th>brand</th>\n",
       "      <th>price</th>\n",
       "      <th>user_id</th>\n",
       "      <th>user_session</th>\n",
       "      <th>is_purchased</th>\n",
       "    </tr>\n",
       "  </thead>\n",
       "  <tbody>\n",
       "    <tr>\n",
       "      <th>37</th>\n",
       "      <td>2020-09-24 12:02:53 UTC</td>\n",
       "      <td>cart</td>\n",
       "      <td>1507291</td>\n",
       "      <td>2144415926806642904</td>\n",
       "      <td>computers.components.power_supply</td>\n",
       "      <td>supermicro</td>\n",
       "      <td>217.57</td>\n",
       "      <td>1515915625519390468</td>\n",
       "      <td>UzabYgCPva</td>\n",
       "      <td>0.0</td>\n",
       "    </tr>\n",
       "    <tr>\n",
       "      <th>59</th>\n",
       "      <td>2020-09-24 12:08:24 UTC</td>\n",
       "      <td>cart</td>\n",
       "      <td>136700</td>\n",
       "      <td>2144415924491387038</td>\n",
       "      <td>computers.components.motherboard</td>\n",
       "      <td>asrock</td>\n",
       "      <td>77.73</td>\n",
       "      <td>1515915625519392459</td>\n",
       "      <td>0KdrxeTB4x</td>\n",
       "      <td>0.0</td>\n",
       "    </tr>\n",
       "    <tr>\n",
       "      <th>71</th>\n",
       "      <td>2020-09-24 12:12:16 UTC</td>\n",
       "      <td>cart</td>\n",
       "      <td>822426</td>\n",
       "      <td>2144415922360680550</td>\n",
       "      <td>computers.peripherals.camera</td>\n",
       "      <td>logitech</td>\n",
       "      <td>123.35</td>\n",
       "      <td>1515915625513574486</td>\n",
       "      <td>2gngxS29Ts</td>\n",
       "      <td>1.0</td>\n",
       "    </tr>\n",
       "  </tbody>\n",
       "</table>\n",
       "</div>"
      ],
      "text/plain": [
       "                 event_time event_type  product_id          category_id  \\\n",
       "37  2020-09-24 12:02:53 UTC       cart     1507291  2144415926806642904   \n",
       "59  2020-09-24 12:08:24 UTC       cart      136700  2144415924491387038   \n",
       "71  2020-09-24 12:12:16 UTC       cart      822426  2144415922360680550   \n",
       "\n",
       "                        category_code       brand   price  \\\n",
       "37  computers.components.power_supply  supermicro  217.57   \n",
       "59   computers.components.motherboard      asrock   77.73   \n",
       "71       computers.peripherals.camera    logitech  123.35   \n",
       "\n",
       "                user_id user_session  is_purchased  \n",
       "37  1515915625519390468   UzabYgCPva           0.0  \n",
       "59  1515915625519392459   0KdrxeTB4x           0.0  \n",
       "71  1515915625513574486   2gngxS29Ts           1.0  "
      ]
     },
     "execution_count": 35,
     "metadata": {},
     "output_type": "execute_result"
    }
   ],
   "source": [
    "# membuat data frame feature dan feature baru is_purchased untuk melihat produk yang dibeli dan yang tidak\n",
    "df_targets = data.loc[data[\"event_type\"].isin([\"cart\",\"purchase\"])].drop_duplicates(subset=['event_type', 'product_id','price', 'user_id','user_session'])\n",
    "df_targets[\"is_purchased\"] = np.where(df_targets[\"event_type\"]==\"purchase\",1,0)\n",
    "df_targets[\"is_purchased\"] = df_targets.groupby([\"user_session\",\"product_id\"])[\"is_purchased\"].transform(\"max\")\n",
    "df_targets = df_targets.loc[df_targets[\"event_type\"]==\"cart\"].drop_duplicates([\"user_session\",\"product_id\",\"is_purchased\"])\n",
    "df_targets.head(3)"
   ]
  },
  {
   "cell_type": "code",
   "execution_count": 36,
   "id": "6ab0fe82",
   "metadata": {
    "id": "6ab0fe82",
    "outputId": "9173a8c8-7202-4382-c499-042143d23ed7"
   },
   "outputs": [
    {
     "data": {
      "text/html": [
       "<div>\n",
       "<style scoped>\n",
       "    .dataframe tbody tr th:only-of-type {\n",
       "        vertical-align: middle;\n",
       "    }\n",
       "\n",
       "    .dataframe tbody tr th {\n",
       "        vertical-align: top;\n",
       "    }\n",
       "\n",
       "    .dataframe thead th {\n",
       "        text-align: right;\n",
       "    }\n",
       "</style>\n",
       "<table border=\"1\" class=\"dataframe\">\n",
       "  <thead>\n",
       "    <tr style=\"text-align: right;\">\n",
       "      <th></th>\n",
       "      <th>event_time</th>\n",
       "      <th>event_type</th>\n",
       "      <th>product_id</th>\n",
       "      <th>category_id</th>\n",
       "      <th>category_code</th>\n",
       "      <th>brand</th>\n",
       "      <th>price</th>\n",
       "      <th>user_id</th>\n",
       "      <th>user_session</th>\n",
       "      <th>is_purchased</th>\n",
       "      <th>event_weekday</th>\n",
       "    </tr>\n",
       "  </thead>\n",
       "  <tbody>\n",
       "    <tr>\n",
       "      <th>37</th>\n",
       "      <td>2020-09-24 12:02:53+00:00</td>\n",
       "      <td>cart</td>\n",
       "      <td>1507291</td>\n",
       "      <td>2144415926806642904</td>\n",
       "      <td>computers.components.power_supply</td>\n",
       "      <td>supermicro</td>\n",
       "      <td>217.57</td>\n",
       "      <td>1515915625519390468</td>\n",
       "      <td>UzabYgCPva</td>\n",
       "      <td>0.0</td>\n",
       "      <td>3</td>\n",
       "    </tr>\n",
       "    <tr>\n",
       "      <th>59</th>\n",
       "      <td>2020-09-24 12:08:24+00:00</td>\n",
       "      <td>cart</td>\n",
       "      <td>136700</td>\n",
       "      <td>2144415924491387038</td>\n",
       "      <td>computers.components.motherboard</td>\n",
       "      <td>asrock</td>\n",
       "      <td>77.73</td>\n",
       "      <td>1515915625519392459</td>\n",
       "      <td>0KdrxeTB4x</td>\n",
       "      <td>0.0</td>\n",
       "      <td>3</td>\n",
       "    </tr>\n",
       "    <tr>\n",
       "      <th>71</th>\n",
       "      <td>2020-09-24 12:12:16+00:00</td>\n",
       "      <td>cart</td>\n",
       "      <td>822426</td>\n",
       "      <td>2144415922360680550</td>\n",
       "      <td>computers.peripherals.camera</td>\n",
       "      <td>logitech</td>\n",
       "      <td>123.35</td>\n",
       "      <td>1515915625513574486</td>\n",
       "      <td>2gngxS29Ts</td>\n",
       "      <td>1.0</td>\n",
       "      <td>3</td>\n",
       "    </tr>\n",
       "  </tbody>\n",
       "</table>\n",
       "</div>"
      ],
      "text/plain": [
       "                  event_time event_type  product_id          category_id  \\\n",
       "37 2020-09-24 12:02:53+00:00       cart     1507291  2144415926806642904   \n",
       "59 2020-09-24 12:08:24+00:00       cart      136700  2144415924491387038   \n",
       "71 2020-09-24 12:12:16+00:00       cart      822426  2144415922360680550   \n",
       "\n",
       "                        category_code       brand   price  \\\n",
       "37  computers.components.power_supply  supermicro  217.57   \n",
       "59   computers.components.motherboard      asrock   77.73   \n",
       "71       computers.peripherals.camera    logitech  123.35   \n",
       "\n",
       "                user_id user_session  is_purchased  event_weekday  \n",
       "37  1515915625519390468   UzabYgCPva           0.0              3  \n",
       "59  1515915625519392459   0KdrxeTB4x           0.0              3  \n",
       "71  1515915625513574486   2gngxS29Ts           1.0              3  "
      ]
     },
     "execution_count": 36,
     "metadata": {},
     "output_type": "execute_result"
    }
   ],
   "source": [
    "# membuat feature baru even_weekday untuk melihat hari tiap user_session\n",
    "df_targets['event_time']=pd.to_datetime(df_targets['event_time'])\n",
    "df_targets['event_weekday'] = df_targets['event_time'].apply(lambda s: s.weekday())\n",
    "df_targets.head(3)"
   ]
  },
  {
   "cell_type": "code",
   "execution_count": 37,
   "id": "272986c7",
   "metadata": {
    "id": "272986c7",
    "outputId": "f496d15a-63eb-48c5-d6d6-5f8a977e016a"
   },
   "outputs": [
    {
     "data": {
      "text/html": [
       "<div>\n",
       "<style scoped>\n",
       "    .dataframe tbody tr th:only-of-type {\n",
       "        vertical-align: middle;\n",
       "    }\n",
       "\n",
       "    .dataframe tbody tr th {\n",
       "        vertical-align: top;\n",
       "    }\n",
       "\n",
       "    .dataframe thead th {\n",
       "        text-align: right;\n",
       "    }\n",
       "</style>\n",
       "<table border=\"1\" class=\"dataframe\">\n",
       "  <thead>\n",
       "    <tr style=\"text-align: right;\">\n",
       "      <th></th>\n",
       "      <th>event_time</th>\n",
       "      <th>event_type</th>\n",
       "      <th>product_id</th>\n",
       "      <th>category_id</th>\n",
       "      <th>category_code</th>\n",
       "      <th>brand</th>\n",
       "      <th>price</th>\n",
       "      <th>user_id</th>\n",
       "      <th>user_session</th>\n",
       "      <th>is_purchased</th>\n",
       "      <th>event_weekday</th>\n",
       "      <th>category_code_level1</th>\n",
       "      <th>category_code_level2</th>\n",
       "    </tr>\n",
       "  </thead>\n",
       "  <tbody>\n",
       "    <tr>\n",
       "      <th>37</th>\n",
       "      <td>2020-09-24 12:02:53+00:00</td>\n",
       "      <td>cart</td>\n",
       "      <td>1507291</td>\n",
       "      <td>2144415926806642904</td>\n",
       "      <td>computers.components.power_supply</td>\n",
       "      <td>supermicro</td>\n",
       "      <td>217.57</td>\n",
       "      <td>1515915625519390468</td>\n",
       "      <td>UzabYgCPva</td>\n",
       "      <td>0.0</td>\n",
       "      <td>3</td>\n",
       "      <td>computers</td>\n",
       "      <td>components</td>\n",
       "    </tr>\n",
       "    <tr>\n",
       "      <th>59</th>\n",
       "      <td>2020-09-24 12:08:24+00:00</td>\n",
       "      <td>cart</td>\n",
       "      <td>136700</td>\n",
       "      <td>2144415924491387038</td>\n",
       "      <td>computers.components.motherboard</td>\n",
       "      <td>asrock</td>\n",
       "      <td>77.73</td>\n",
       "      <td>1515915625519392459</td>\n",
       "      <td>0KdrxeTB4x</td>\n",
       "      <td>0.0</td>\n",
       "      <td>3</td>\n",
       "      <td>computers</td>\n",
       "      <td>components</td>\n",
       "    </tr>\n",
       "    <tr>\n",
       "      <th>71</th>\n",
       "      <td>2020-09-24 12:12:16+00:00</td>\n",
       "      <td>cart</td>\n",
       "      <td>822426</td>\n",
       "      <td>2144415922360680550</td>\n",
       "      <td>computers.peripherals.camera</td>\n",
       "      <td>logitech</td>\n",
       "      <td>123.35</td>\n",
       "      <td>1515915625513574486</td>\n",
       "      <td>2gngxS29Ts</td>\n",
       "      <td>1.0</td>\n",
       "      <td>3</td>\n",
       "      <td>computers</td>\n",
       "      <td>peripherals</td>\n",
       "    </tr>\n",
       "  </tbody>\n",
       "</table>\n",
       "</div>"
      ],
      "text/plain": [
       "                  event_time event_type  product_id          category_id  \\\n",
       "37 2020-09-24 12:02:53+00:00       cart     1507291  2144415926806642904   \n",
       "59 2020-09-24 12:08:24+00:00       cart      136700  2144415924491387038   \n",
       "71 2020-09-24 12:12:16+00:00       cart      822426  2144415922360680550   \n",
       "\n",
       "                        category_code       brand   price  \\\n",
       "37  computers.components.power_supply  supermicro  217.57   \n",
       "59   computers.components.motherboard      asrock   77.73   \n",
       "71       computers.peripherals.camera    logitech  123.35   \n",
       "\n",
       "                user_id user_session  is_purchased  event_weekday  \\\n",
       "37  1515915625519390468   UzabYgCPva           0.0              3   \n",
       "59  1515915625519392459   0KdrxeTB4x           0.0              3   \n",
       "71  1515915625513574486   2gngxS29Ts           1.0              3   \n",
       "\n",
       "   category_code_level1 category_code_level2  \n",
       "37            computers           components  \n",
       "59            computers           components  \n",
       "71            computers          peripherals  "
      ]
     },
     "execution_count": 37,
     "metadata": {},
     "output_type": "execute_result"
    }
   ],
   "source": [
    "# membuat 2 feature baru mengenai 2 level kateogori produk, category_code_level1 dan category_code_level2\n",
    "df_targets.dropna(how='any', inplace=True)\n",
    "df_targets[\"category_code_level1\"] = df_targets[\"category_code\"].str.split(\".\",expand=True)[0].astype('category')\n",
    "df_targets[\"category_code_level2\"] = df_targets[\"category_code\"].str.split(\".\",expand=True)[1].astype('category')\n",
    "df_targets.head(3)"
   ]
  },
  {
   "cell_type": "code",
   "execution_count": 38,
   "id": "6885b32d",
   "metadata": {
    "id": "6885b32d",
    "outputId": "cb694134-08ed-40b8-f0f2-1bd1e721a293"
   },
   "outputs": [
    {
     "data": {
      "text/html": [
       "<div>\n",
       "<style scoped>\n",
       "    .dataframe tbody tr th:only-of-type {\n",
       "        vertical-align: middle;\n",
       "    }\n",
       "\n",
       "    .dataframe tbody tr th {\n",
       "        vertical-align: top;\n",
       "    }\n",
       "\n",
       "    .dataframe thead th {\n",
       "        text-align: right;\n",
       "    }\n",
       "</style>\n",
       "<table border=\"1\" class=\"dataframe\">\n",
       "  <thead>\n",
       "    <tr style=\"text-align: right;\">\n",
       "      <th></th>\n",
       "      <th>event_time</th>\n",
       "      <th>event_type</th>\n",
       "      <th>product_id</th>\n",
       "      <th>category_id</th>\n",
       "      <th>category_code</th>\n",
       "      <th>brand</th>\n",
       "      <th>price</th>\n",
       "      <th>user_id</th>\n",
       "      <th>user_session</th>\n",
       "      <th>is_purchased</th>\n",
       "      <th>event_weekday</th>\n",
       "      <th>category_code_level1</th>\n",
       "      <th>category_code_level2</th>\n",
       "      <th>activity_count</th>\n",
       "    </tr>\n",
       "  </thead>\n",
       "  <tbody>\n",
       "    <tr>\n",
       "      <th>0</th>\n",
       "      <td>2020-09-24 12:02:53+00:00</td>\n",
       "      <td>cart</td>\n",
       "      <td>1507291</td>\n",
       "      <td>2144415926806642904</td>\n",
       "      <td>computers.components.power_supply</td>\n",
       "      <td>supermicro</td>\n",
       "      <td>217.57</td>\n",
       "      <td>1515915625519390468</td>\n",
       "      <td>UzabYgCPva</td>\n",
       "      <td>0.0</td>\n",
       "      <td>3</td>\n",
       "      <td>computers</td>\n",
       "      <td>components</td>\n",
       "      <td>2.0</td>\n",
       "    </tr>\n",
       "    <tr>\n",
       "      <th>1</th>\n",
       "      <td>2020-09-24 12:08:24+00:00</td>\n",
       "      <td>cart</td>\n",
       "      <td>136700</td>\n",
       "      <td>2144415924491387038</td>\n",
       "      <td>computers.components.motherboard</td>\n",
       "      <td>asrock</td>\n",
       "      <td>77.73</td>\n",
       "      <td>1515915625519392459</td>\n",
       "      <td>0KdrxeTB4x</td>\n",
       "      <td>0.0</td>\n",
       "      <td>3</td>\n",
       "      <td>computers</td>\n",
       "      <td>components</td>\n",
       "      <td>3.0</td>\n",
       "    </tr>\n",
       "    <tr>\n",
       "      <th>2</th>\n",
       "      <td>2020-09-24 12:12:16+00:00</td>\n",
       "      <td>cart</td>\n",
       "      <td>822426</td>\n",
       "      <td>2144415922360680550</td>\n",
       "      <td>computers.peripherals.camera</td>\n",
       "      <td>logitech</td>\n",
       "      <td>123.35</td>\n",
       "      <td>1515915625513574486</td>\n",
       "      <td>2gngxS29Ts</td>\n",
       "      <td>1.0</td>\n",
       "      <td>3</td>\n",
       "      <td>computers</td>\n",
       "      <td>peripherals</td>\n",
       "      <td>11.0</td>\n",
       "    </tr>\n",
       "  </tbody>\n",
       "</table>\n",
       "</div>"
      ],
      "text/plain": [
       "                 event_time event_type  product_id          category_id  \\\n",
       "0 2020-09-24 12:02:53+00:00       cart     1507291  2144415926806642904   \n",
       "1 2020-09-24 12:08:24+00:00       cart      136700  2144415924491387038   \n",
       "2 2020-09-24 12:12:16+00:00       cart      822426  2144415922360680550   \n",
       "\n",
       "                       category_code       brand   price              user_id  \\\n",
       "0  computers.components.power_supply  supermicro  217.57  1515915625519390468   \n",
       "1   computers.components.motherboard      asrock   77.73  1515915625519392459   \n",
       "2       computers.peripherals.camera    logitech  123.35  1515915625513574486   \n",
       "\n",
       "  user_session  is_purchased  event_weekday category_code_level1  \\\n",
       "0   UzabYgCPva           0.0              3            computers   \n",
       "1   0KdrxeTB4x           0.0              3            computers   \n",
       "2   2gngxS29Ts           1.0              3            computers   \n",
       "\n",
       "  category_code_level2  activity_count  \n",
       "0           components             2.0  \n",
       "1           components             3.0  \n",
       "2          peripherals            11.0  "
      ]
     },
     "execution_count": 38,
     "metadata": {},
     "output_type": "execute_result"
    }
   ],
   "source": [
    "# memasukkan feature jumlah aktivitas kedalam data frame\n",
    "df_targets = df_targets.merge(activity_in_session, on='user_session', how='left')\n",
    "df_targets['activity_count'] = df_targets['activity_count'].fillna(0)\n",
    "df_targets.head(3)"
   ]
  },
  {
   "cell_type": "markdown",
   "id": "65326c3f",
   "metadata": {
    "id": "65326c3f"
   },
   "source": [
    "## Data Cleansing"
   ]
  },
  {
   "cell_type": "code",
   "execution_count": 39,
   "id": "9a91d9ec",
   "metadata": {
    "id": "9a91d9ec",
    "outputId": "45ad3878-fac6-4fdc-f9ba-41623d75a703"
   },
   "outputs": [
    {
     "data": {
      "text/plain": [
       "event_time              0\n",
       "event_type              0\n",
       "product_id              0\n",
       "category_id             0\n",
       "category_code           0\n",
       "brand                   0\n",
       "price                   0\n",
       "user_id                 0\n",
       "user_session            0\n",
       "is_purchased            0\n",
       "event_weekday           0\n",
       "category_code_level1    0\n",
       "category_code_level2    0\n",
       "activity_count          0\n",
       "dtype: int64"
      ]
     },
     "execution_count": 39,
     "metadata": {},
     "output_type": "execute_result"
    }
   ],
   "source": [
    "# Melihat apakah ada 'missing data'\n",
    "df_targets.isna().sum()"
   ]
  },
  {
   "cell_type": "code",
   "execution_count": 40,
   "id": "2881dbe5",
   "metadata": {
    "id": "2881dbe5",
    "outputId": "b81bd905-52c6-4883-8fc7-fe831a439a0e"
   },
   "outputs": [
    {
     "data": {
      "text/plain": [
       "0"
      ]
     },
     "execution_count": 40,
     "metadata": {},
     "output_type": "execute_result"
    }
   ],
   "source": [
    "# melihat apakah ada 'duplicated data'\n",
    "df_targets.duplicated().sum()"
   ]
  },
  {
   "cell_type": "markdown",
   "id": "3f5dd818",
   "metadata": {
    "id": "3f5dd818"
   },
   "source": [
    "**Observasi:** Tidak ada missing data dan duplicated data "
   ]
  },
  {
   "cell_type": "markdown",
   "id": "c09a5d03",
   "metadata": {
    "id": "c09a5d03"
   },
   "source": [
    "## Overcoming Imbalances"
   ]
  },
  {
   "cell_type": "code",
   "execution_count": 41,
   "id": "ac263bdc",
   "metadata": {
    "id": "ac263bdc",
    "outputId": "8d177879-7307-4e52-b7ca-067b747a434c"
   },
   "outputs": [
    {
     "data": {
      "text/plain": [
       "14255"
      ]
     },
     "execution_count": 41,
     "metadata": {},
     "output_type": "execute_result"
    }
   ],
   "source": [
    "# melihat target variable yang nilainya 1\n",
    "is_purcahase_set = df_targets[df_targets['is_purchased']== 1]\n",
    "is_purcahase_set.shape[0]"
   ]
  },
  {
   "cell_type": "code",
   "execution_count": 42,
   "id": "686550c2",
   "metadata": {
    "id": "686550c2",
    "outputId": "03fca5f1-0891-4bfe-e93b-fc905ed0018f"
   },
   "outputs": [
    {
     "data": {
      "text/plain": [
       "17147"
      ]
     },
     "execution_count": 42,
     "metadata": {},
     "output_type": "execute_result"
    }
   ],
   "source": [
    "# melihat target variable yang nilainya 0\n",
    "not_purcahase_set = df_targets[df_targets['is_purchased']== 0]\n",
    "not_purcahase_set.shape[0]"
   ]
  },
  {
   "cell_type": "code",
   "execution_count": 43,
   "id": "eabca0fd",
   "metadata": {
    "id": "eabca0fd",
    "outputId": "2c2d9a91-1197-49d4-8808-bcc64639c960"
   },
   "outputs": [
    {
     "name": "stdout",
     "output_type": "stream",
     "text": [
      "persentase variable 0: 0.45\n"
     ]
    }
   ],
   "source": [
    "# persentase target variable imbalances\n",
    "print('persentase variable 0: %.2f'%(int(is_purcahase_set.shape[0])/(int(not_purcahase_set.shape[0])+int(is_purcahase_set.shape[0]))))"
   ]
  },
  {
   "cell_type": "markdown",
   "id": "e81d4f1b",
   "metadata": {
    "id": "e81d4f1b"
   },
   "source": [
    "**Observasi:** Ada imbalances dalam data tapi tidak terlalu besar sehingga bisa dibiarkan."
   ]
  },
  {
   "cell_type": "markdown",
   "id": "8940a421",
   "metadata": {
    "id": "8940a421"
   },
   "source": [
    "## Categorical Variables Encoding"
   ]
  },
  {
   "cell_type": "code",
   "execution_count": 44,
   "id": "c79ac5db",
   "metadata": {
    "id": "c79ac5db"
   },
   "outputs": [],
   "source": [
    "# memilih feature yang akan di encoding dan dimasukkan ke algoritma machine learning\n",
    "features = df_targets[['brand', 'price', 'event_weekday', 'category_code_level1', 'category_code_level2', 'activity_count']]"
   ]
  },
  {
   "cell_type": "code",
   "execution_count": 45,
   "id": "2d0dcba1",
   "metadata": {
    "id": "2d0dcba1",
    "outputId": "d3fae47f-61de-445f-8f0e-dd035f850b07"
   },
   "outputs": [
    {
     "name": "stderr",
     "output_type": "stream",
     "text": [
      "C:\\Users\\ILHAM ROFI'I\\venvds\\lib\\site-packages\\pandas\\core\\indexing.py:1743: SettingWithCopyWarning: \n",
      "A value is trying to be set on a copy of a slice from a DataFrame.\n",
      "Try using .loc[row_indexer,col_indexer] = value instead\n",
      "\n",
      "See the caveats in the documentation: https://pandas.pydata.org/pandas-docs/stable/user_guide/indexing.html#returning-a-view-versus-a-copy\n",
      "  isetter(ilocs[0], value)\n"
     ]
    }
   ],
   "source": [
    "# melakukan categorical data\n",
    "from sklearn.preprocessing import LabelEncoder\n",
    "\n",
    "features.loc[:,'brand'] = LabelEncoder().fit_transform(df_targets.loc[:,'brand'].copy())\n",
    "features.loc[:,'event_weekday'] = LabelEncoder().fit_transform(df_targets.loc[:,'event_weekday'].copy())\n",
    "features.loc[:,'category_code_level1'] = LabelEncoder().fit_transform(df_targets.loc[:,'category_code_level1'].copy())\n",
    "features.loc[:,'category_code_level2'] = LabelEncoder().fit_transform(df_targets.loc[:,'category_code_level2'].copy())\n",
    "\n",
    "is_purchased = LabelEncoder().fit_transform(df_targets['is_purchased'])"
   ]
  },
  {
   "cell_type": "markdown",
   "id": "cb67c2a7",
   "metadata": {},
   "source": [
    "# ???"
   ]
  },
  {
   "cell_type": "markdown",
   "id": "d61a0d63",
   "metadata": {},
   "source": [
    "## Data Splitting"
   ]
  },
  {
   "cell_type": "code",
   "execution_count": 46,
   "id": "f7cf9c4b",
   "metadata": {
    "id": "f7cf9c4b"
   },
   "outputs": [],
   "source": [
    "# membagi data menjadi data training dan testing\n",
    "from sklearn.model_selection import train_test_split\n",
    "X_train, X_test, y_train, y_test = train_test_split(features, \n",
    "                                                    is_purchased, \n",
    "                                                    test_size = 0.3, \n",
    "                                                    random_state = 0)"
   ]
  },
  {
   "cell_type": "markdown",
   "id": "8c573431",
   "metadata": {},
   "source": [
    "## Random Forest Modeling"
   ]
  },
  {
   "cell_type": "code",
   "execution_count": 47,
   "id": "1fa13534",
   "metadata": {},
   "outputs": [],
   "source": [
    "# memodelkan data dengan algoritma Random Forest\n",
    "from sklearn.ensemble import RandomForestClassifier\n",
    "\n",
    "model = RandomForestClassifier(n_estimators=10,max_features='auto',random_state=42)\n",
    "model.fit(X_train,y_train)\n",
    "y_pred = model.predict(X_test)"
   ]
  },
  {
   "cell_type": "code",
   "execution_count": 49,
   "id": "8c181818",
   "metadata": {},
   "outputs": [],
   "source": [
    "# Number of trees in random forest\n",
    "n_estimators = [int(x) for x in np.linspace(start = 200, stop = 2000, num = 10)]\n",
    "# Number of features to consider at every split\n",
    "max_features = ['auto', 'sqrt']\n",
    "# Maximum number of levels in tree\n",
    "max_depth = [int(x) for x in np.linspace(10, 110, num = 11)]\n",
    "max_depth.append(None)\n",
    "# Minimum number of samples required to split a node\n",
    "min_samples_split = [2, 5, 10]\n",
    "# Minimum number of samples required at each leaf node\n",
    "min_samples_leaf = [1, 2, 4]\n",
    "# Method of selecting samples for training each tree\n",
    "bootstrap = [True, False]\n",
    "# Create the random grid\n",
    "random_grid = {'n_estimators': n_estimators,\n",
    "               'max_features': max_features,\n",
    "               'max_depth': max_depth,\n",
    "               'min_samples_split': min_samples_split,\n",
    "               'min_samples_leaf': min_samples_leaf,\n",
    "               'bootstrap': bootstrap}\n"
   ]
  },
  {
   "cell_type": "code",
   "execution_count": null,
   "id": "5d8b53e0",
   "metadata": {},
   "outputs": [],
   "source": [
    "from sklearn.model_selection import GridSearchCV\n",
    "\n",
    "gsearch = GridSearchCV(estimator = RandomForestClassifier(random_state=42), param_grid = random_grid, scoring='f1', cv=5,\n",
    "                       n_jobs=4)\n",
    "gsearch.fit(X_train,y_train)\n",
    "gsearch.grid_scores_, gsearch.best_params_, gsearch.best_score_"
   ]
  },
  {
   "cell_type": "code",
   "execution_count": 48,
   "id": "4fdbb4a5",
   "metadata": {},
   "outputs": [
    {
     "name": "stdout",
     "output_type": "stream",
     "text": [
      "Accuracy: 0.6354951703640802\n",
      "Precision: 0.6109615855150478\n",
      "Recall: 0.5752130845427321\n",
      "F1-Score: 0.5925486473659232\n"
     ]
    }
   ],
   "source": [
    "# menghitung matrik untuk menentukan performa algoritma machine learning\n",
    "from sklearn import metrics\n",
    "print(\"Accuracy:\",metrics.accuracy_score(y_test, y_pred))\n",
    "precision = metrics.precision_score(y_test, y_pred)\n",
    "print(\"Precision:\",precision)\n",
    "recall = metrics.recall_score(y_test, y_pred)\n",
    "print(\"Recall:\",recall)\n",
    "print(\"F1-Score:\",2 * (precision * recall)/(precision + recall))"
   ]
  },
  {
   "cell_type": "markdown",
   "id": "267d8674",
   "metadata": {
    "id": "267d8674"
   },
   "source": [
    "## XGBoost Data Modeling"
   ]
  },
  {
   "cell_type": "markdown",
   "id": "661688c0",
   "metadata": {
    "id": "661688c0"
   },
   "source": [
    "Kolom label yang akan diprediksi adalah kolom <mark>is_purchased</mark> yang bernilai nol (tidak dibeli) atau satu (dibeli), sedangkan kolom features yang digunakan untuk memprediksi kolom label adalah: <mark>brand</mark>, <mark>price</mark>, <mark>event_weekday</mark>, <mark>category_code_level1</mark>, <mark>category_code_level2</mark> dan <mark>activity_count</mark>. Algoritma machine learning yang digunakan adalah XGBoost karena algoritma ini adalah algoritma yang paling sering memberikan hasil terbaik untuk kasus klasifikasi."
   ]
  },
  {
   "cell_type": "code",
   "execution_count": 23,
   "id": "42b0baa1",
   "metadata": {
    "id": "42b0baa1",
    "outputId": "45db9f05-2284-48fd-9d05-86fbc4afb2cb"
   },
   "outputs": [
    {
     "name": "stdout",
     "output_type": "stream",
     "text": [
      "[13:38:27] WARNING: C:/Users/Administrator/workspace/xgboost-win64_release_1.5.1/src/learner.cc:1115: Starting in XGBoost 1.3.0, the default evaluation metric used with the objective 'binary:logistic' was changed from 'error' to 'logloss'. Explicitly set eval_metric if you'd like to restore the old behavior.\n"
     ]
    }
   ],
   "source": [
    "# memodelkan data dengan algoritma XGBoost\n",
    "from xgboost import XGBClassifier\n",
    "model = XGBClassifier(use_label_encoder=False,\n",
    "                      learning_rate =0.01,\n",
    "                      n_estimators=5000,\n",
    "                      max_depth=7,\n",
    "                      min_child_weight=1,\n",
    "                      gamma=0,\n",
    "                      subsample=0.9,\n",
    "                      colsample_bytree=0.6,\n",
    "                      reg_alpha=0.01,\n",
    "                      objective= 'binary:logistic',\n",
    "                      nthread=4,\n",
    "                      scale_pos_weight=1,\n",
    "                      seed=42)\n",
    "model.fit(X_train, y_train)\n",
    "y_pred = model.predict(X_test)"
   ]
  },
  {
   "cell_type": "code",
   "execution_count": 24,
   "id": "6d505f11",
   "metadata": {
    "id": "6d505f11",
    "outputId": "8742ddfc-9d82-4f73-83c7-2ec225039431"
   },
   "outputs": [
    {
     "name": "stdout",
     "output_type": "stream",
     "text": [
      "Accuracy: 0.6594841311962637\n",
      "Precision: 0.6303797468354431\n",
      "Recall: 0.630960608154803\n",
      "F1-Score: 0.6306700437485608\n"
     ]
    }
   ],
   "source": [
    "# menghitung matrik untuk menentukan performa algoritma machine learning\n",
    "from sklearn import metrics\n",
    "print(\"Accuracy:\",metrics.accuracy_score(y_test, y_pred))\n",
    "precision = metrics.precision_score(y_test, y_pred)\n",
    "print(\"Precision:\",precision)\n",
    "recall = metrics.recall_score(y_test, y_pred)\n",
    "print(\"Recall:\",recall)\n",
    "print(\"F1-Score:\",2 * (precision * recall)/(precision + recall))"
   ]
  },
  {
   "cell_type": "markdown",
   "id": "8fd66beb",
   "metadata": {
    "id": "8fd66beb"
   },
   "source": [
    "__Catatan:__ matrik yang dipakai adalah F1-Score."
   ]
  },
  {
   "cell_type": "markdown",
   "id": "bda2ece3",
   "metadata": {},
   "source": [
    "__Observasi:__ Nilai f1-score model machine learning ini adalah 0.63, nilai ini adalah nilai yang jelek jika model machine learning benar-benar akan digunakan untuk memprediksi object variable tapi nilai ini sudah cukup bagus jika model machine learning hanya digunakan untuk menganalisis dataset."
   ]
  },
  {
   "cell_type": "markdown",
   "id": "5f275cdc",
   "metadata": {
    "id": "5f275cdc"
   },
   "source": [
    "## Feature Importance"
   ]
  },
  {
   "cell_type": "markdown",
   "id": "c5b4111c",
   "metadata": {},
   "source": [
    "Ada 3 metode feature importance yang digunakan yaitu built-in function xgboost, permutation methode, dan shap methode. Metode utama yang akan digunakan adalah shap methode karena menurut literasi yang penulis baca, shap methode adalah metode terbaik untuk proses feature importance. Kedua metode yang lain digunakan hanya sebagai pembanding untuk shap methode."
   ]
  },
  {
   "cell_type": "markdown",
   "id": "d51b2312",
   "metadata": {},
   "source": [
    "### Xgboost Built-In Feature Importance"
   ]
  },
  {
   "cell_type": "code",
   "execution_count": 25,
   "id": "026af2e0",
   "metadata": {},
   "outputs": [
    {
     "data": {
      "text/plain": [
       "array([0.11302987, 0.14501148, 0.09356834, 0.09347349, 0.11192057,\n",
       "       0.4429963 ], dtype=float32)"
      ]
     },
     "execution_count": 25,
     "metadata": {},
     "output_type": "execute_result"
    }
   ],
   "source": [
    "# melihat hasil feature importance\n",
    "model.feature_importances_"
   ]
  },
  {
   "cell_type": "code",
   "execution_count": 26,
   "id": "30f7a1d7",
   "metadata": {},
   "outputs": [
    {
     "data": {
      "text/plain": [
       "<BarContainer object of 6 artists>"
      ]
     },
     "execution_count": 26,
     "metadata": {},
     "output_type": "execute_result"
    },
    {
     "data": {
      "image/png": "[encoded data removed]",
      "text/plain": [
       "<Figure size 432x288 with 1 Axes>"
      ]
     },
     "metadata": {
      "needs_background": "light"
     },
     "output_type": "display_data"
    }
   ],
   "source": [
    "# membuat diagra hasil feature importance\n",
    "plt.barh(features.columns, model.feature_importances_)"
   ]
  },
  {
   "cell_type": "code",
   "execution_count": 27,
   "id": "87602ca7",
   "metadata": {},
   "outputs": [
    {
     "data": {
      "text/plain": [
       "Text(0.5, 0, 'Xgboost Feature Importance')"
      ]
     },
     "execution_count": 27,
     "metadata": {},
     "output_type": "execute_result"
    },
    {
     "data": {
      "image/png": "[encoded data removed]",
      "text/plain": [
       "<Figure size 432x288 with 1 Axes>"
      ]
     },
     "metadata": {
      "needs_background": "light"
     },
     "output_type": "display_data"
    }
   ],
   "source": [
    "# mengurutkan diagram hasil feature importance\n",
    "sorted_idx = model.feature_importances_.argsort()\n",
    "plt.barh(features.columns[sorted_idx], model.feature_importances_[sorted_idx])\n",
    "plt.xlabel(\"Xgboost Feature Importance\")"
   ]
  },
  {
   "cell_type": "markdown",
   "id": "7564a2ab",
   "metadata": {},
   "source": [
    "### Permutation Method"
   ]
  },
  {
   "cell_type": "code",
   "execution_count": 28,
   "id": "af1a2f18",
   "metadata": {},
   "outputs": [],
   "source": [
    "# membuat model feature importance\n",
    "from sklearn.inspection import permutation_importance\n",
    "perm_importance = permutation_importance(model, X_test, y_test)"
   ]
  },
  {
   "cell_type": "code",
   "execution_count": 29,
   "id": "460b0277",
   "metadata": {},
   "outputs": [
    {
     "data": {
      "text/plain": [
       "Text(0.5, 0, 'Permutation Importance')"
      ]
     },
     "execution_count": 29,
     "metadata": {},
     "output_type": "execute_result"
    },
    {
     "data": {
      "image/png": "[encoded data removed]",
      "text/plain": [
       "<Figure size 432x288 with 1 Axes>"
      ]
     },
     "metadata": {
      "needs_background": "light"
     },
     "output_type": "display_data"
    }
   ],
   "source": [
    "# membuat diagram untuk feature importance\n",
    "sorted_idx = perm_importance.importances_mean.argsort()\n",
    "plt.barh(features.columns[sorted_idx], perm_importance.importances_mean[sorted_idx])\n",
    "plt.xlabel(\"Permutation Importance\")"
   ]
  },
  {
   "cell_type": "markdown",
   "id": "ba5d9412",
   "metadata": {},
   "source": [
    "### SHAP"
   ]
  },
  {
   "cell_type": "code",
   "execution_count": 30,
   "id": "80757f2e",
   "metadata": {},
   "outputs": [
    {
     "name": "stderr",
     "output_type": "stream",
     "text": [
      "C:\\Users\\ILHAM ROFI'I\\venvds\\lib\\site-packages\\tqdm\\auto.py:22: TqdmWarning: IProgress not found. Please update jupyter and ipywidgets. See https://ipywidgets.readthedocs.io/en/stable/user_install.html\n",
      "  from .autonotebook import tqdm as notebook_tqdm\n",
      "ntree_limit is deprecated, use `iteration_range` or model slicing instead.\n"
     ]
    }
   ],
   "source": [
    "# membuat model feature importance SHAP\n",
    "import shap\n",
    "\n",
    "explainer = shap.TreeExplainer(model)\n",
    "shap_values = explainer.shap_values(X_test)"
   ]
  },
  {
   "cell_type": "code",
   "execution_count": 31,
   "id": "264191f6",
   "metadata": {},
   "outputs": [
    {
     "data": {
      "image/png": "[encoded data removed]",
      "text/plain": [
       "<Figure size 576x280.8 with 1 Axes>"
      ]
     },
     "metadata": {
      "needs_background": "light"
     },
     "output_type": "display_data"
    }
   ],
   "source": [
    "# membuat diagram feature importance SHAP\n",
    "shap.summary_plot(shap_values, X_test, plot_type=\"bar\")"
   ]
  },
  {
   "cell_type": "code",
   "execution_count": 32,
   "id": "cfbce83e",
   "metadata": {},
   "outputs": [
    {
     "data": {
      "image/png": "[encoded data removed]",
      "text/plain": [
       "<Figure size 576x280.8 with 2 Axes>"
      ]
     },
     "metadata": {
      "needs_background": "light"
     },
     "output_type": "display_data"
    }
   ],
   "source": [
    "# membuat diagram lain yang menunjukkan efek positif atau negatif feature terhadap target variable\n",
    "shap.summary_plot(shap_values, X_test)"
   ]
  },
  {
   "cell_type": "markdown",
   "id": "31cd03f4",
   "metadata": {},
   "source": [
    "### Kesimpulan Feature Importance"
   ]
  },
  {
   "cell_type": "markdown",
   "id": "0be33e6e",
   "metadata": {},
   "source": [
    "1. Hasil dari permutation methode dan shap methode adalah sama persis, sedangkan hasil dari built-in function xgboost sedikit berbeda, tapi perbedaan tersebut tidak jauh.\n",
    "2. Hasil dari feature importance yang berupa tingkatan dampak tiap feature terhadap target variable dapat dilihat pada diagram di bawah."
   ]
  },
  {
   "cell_type": "code",
   "execution_count": 33,
   "id": "00383246",
   "metadata": {},
   "outputs": [
    {
     "data": {
      "image/png": "[encoded data removed]",
      "text/plain": [
       "<Figure size 576x280.8 with 1 Axes>"
      ]
     },
     "metadata": {
      "needs_background": "light"
     },
     "output_type": "display_data"
    }
   ],
   "source": [
    "# diagram feature importance SHAP\n",
    "shap.summary_plot(shap_values, X_test, plot_type=\"bar\")"
   ]
  },
  {
   "cell_type": "markdown",
   "id": "e46728b9",
   "metadata": {
    "id": "e46728b9"
   },
   "source": [
    "# Rekomendasi"
   ]
  },
  {
   "cell_type": "markdown",
   "id": "0e73605f",
   "metadata": {},
   "source": [
    "Berikut ini adalah rekomendasi penulis untuk toko online, toko offline, distributor barang, atau pihak-pihak terkait lain yang ingin menjual barang elektronik yang laris, berdasarkan data salah satu toko elektronik online yang diambil dari bulan oktober 2019 sampai bulan februari 2020. "
   ]
  },
  {
   "cell_type": "markdown",
   "id": "ca39634d",
   "metadata": {},
   "source": [
    "### 1. Menjual barang yang populer"
   ]
  },
  {
   "cell_type": "markdown",
   "id": "af3082f4",
   "metadata": {},
   "source": [
    "Berdasarkan hasil proses feature importance, feature paling penting yang menentukan suatu produk laris atau tidak adalah feature <mark>activity_count</mark> yang menunjukkan seberapa populer suatu produk. Menjual produk yang populer bisa dilakukan dengan menjual barang yang memiliki brand ternama atau dengan melakukan kegiatan pengiklanan baik itu offline maupun online."
   ]
  },
  {
   "cell_type": "markdown",
   "id": "61ef0532",
   "metadata": {},
   "source": [
    "Berikut ini adalah rincian brand ternama berdasarkan kelompok produk yang ingin dijual:\n",
    "1. videocard, motherboard, dll: msi, gigabyte, palit, sapphire, dan asus\n",
    "2. notebook, telephone, tablet, dll: asus, sirius dan samsung\n",
    "3. printer, cartrige, dll: samsung dan canon\n",
    "4. cpu: amd"
   ]
  },
  {
   "cell_type": "markdown",
   "id": "007b242f",
   "metadata": {},
   "source": [
    "Jika ingin melakukan pengiklanan, hari terbaik melakukannya adalah hari senin, hari terbaik berikutnya setelah senin adalah selasa, begitu seterusnya sampai hari minggu dimana hari minggu adalah hari paling buruk untuk melakukan kegiatan pengiklanan. Hal ini berdasarkan data bahwa hari senin adalah hari paling banyak terjadi pembelian dan hari terjadi paling banyak produk-produk dilihat. Laju pembelian dan melihat produk berkurang sejalan bergantinya hari dan hari minggu adalah hari paling sedikit terjadinya pembelian dan paling sedikit produk-produk di lihat."
   ]
  },
  {
   "cell_type": "markdown",
   "id": "6715f98c",
   "metadata": {},
   "source": [
    "### 2. Menjual produk dengan murah hingga mahal"
   ]
  },
  {
   "cell_type": "markdown",
   "id": "c794b286",
   "metadata": {},
   "source": [
    "Dari hasil proses feature importance, feature paling penting kedua yang menentukan suatu produk akan laku atau tidak adalah feature <mark>price</mark> atau harga. Dari analisi dataset, hampir semua produk paling laris untuk tiap kategori dalam top 10 kategori produk paling laris, adalah produk yang harganya jauh dibawah 50% harga produk-produk terjual di kategori yang sama. Namun dari hasil analisis yang sama, salah satu peringkat kedua atau ketiga dari produk paling laris umumnya memiliki harga yang lebih mahal dari 50% produk terjual di kategori yang sama. Jadi akan lebih baik untuk menjual barang dengan harga murah di tiap kategori namun walaupun harga barang tersebut mahal, kemungkinan lakunya tetap besar. "
   ]
  },
  {
   "cell_type": "markdown",
   "id": "0f24af2b",
   "metadata": {},
   "source": [
    "### 3. Menjual produk yang berada dalam 10 kategori produk paling laris"
   ]
  },
  {
   "cell_type": "markdown",
   "id": "d22af397",
   "metadata": {},
   "source": [
    "Feature paling penting ketiga yang didapat dari feature importance adalah feature <mark>category_code_level2</mark> yang menunjukkan kategori lengkap produk. Dari analisis data yang telah dilakukan, berikut ini adalah 10 kategori produk paling laris dari data tersebut:\n",
    "1. videocards\n",
    "2. telephone\n",
    "3. cartrige\n",
    "4. printer\n",
    "5. notebook\n",
    "6. motherboard\n",
    "7. cpu\n",
    "8. acoustic audio\n",
    "9. tablet\n",
    "10. player (auto accessories)"
   ]
  },
  {
   "cell_type": "markdown",
   "id": "e6ef6b20",
   "metadata": {},
   "source": [
    "### 4. Menjual produk dengan brand terkenal"
   ]
  },
  {
   "cell_type": "markdown",
   "id": "4436e6b2",
   "metadata": {},
   "source": [
    "Feature paling penting keempat yang didapat dari feature importance adalah feature <mark>brand</mark> yang menunjukkan brand dari produk di toko online. Dari hasil analisis dataset, ditemukan bahwa untuk top 10 kategori produk, salah satu dari top 10 brand selalu masuk kedalam tiga besar produk paling laris. Pengecualian terjadi untuk kategori telephone, acoustic audio dan player (auto accessories) dimana tidak ada brand dalam top 10 brand yang menjual produk pada kategori acoustic audio dan player (auto accessories). Dari analisi juga didapat bahwa hampir seluruh top 10 kategori produk memiliki persentasi produk terjual yang No Brand jauh dibawah 50%. No Brand maksudnya adalah produk yang tidak ada nama brandnya di dataset, bisa terjadi karena brand tersebut baru atau memang produk tersebut tidak mencantumkan brandnya. Ini menunjukkan bahwa menggunakan brand yang terkenal adalah faktor yang cukup penting dalam menentukan apakah suatu produk akan laku atau tidak."
   ]
  },
  {
   "cell_type": "markdown",
   "id": "e53b5f1d",
   "metadata": {},
   "source": [
    "### Catatan"
   ]
  },
  {
   "cell_type": "markdown",
   "id": "64005568",
   "metadata": {},
   "source": [
    "Ada dua feature yang tidak di bahas dalam rekomendasi ini yaitu <mark>event_weekday</mark> dan feature <mark>category_code_level1</mark>. Kedua feature tersebut tidak di bahas karena efek kedua feature tersebut kecil terhadap tigkat penjualan produk berdasarkan proses feature importance."
   ]
  }
 ],
 "metadata": {
  "colab": {
   "collapsed_sections": [
    "7b8a3039",
    "71b6cc3b",
    "f96d0dcc",
    "da57eeeb",
    "beb51af9",
    "0cdeb2f0",
    "65326c3f",
    "c09a5d03",
    "8940a421",
    "267d8674"
   ],
   "provenance": []
  },
  "kernelspec": {
   "display_name": "venvds",
   "language": "python",
   "name": "venvds"
  },
  "language_info": {
   "codemirror_mode": {
    "name": "ipython",
    "version": 3
   },
   "file_extension": ".py",
   "mimetype": "text/x-python",
   "name": "python",
   "nbconvert_exporter": "python",
   "pygments_lexer": "ipython3",
   "version": "3.6.6"
  }
 },
 "nbformat": 4,
 "nbformat_minor": 5
}
